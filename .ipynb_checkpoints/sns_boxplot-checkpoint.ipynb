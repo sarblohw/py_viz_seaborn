{
 "cells": [
  {
   "cell_type": "code",
   "execution_count": 1,
   "metadata": {
    "cell_id": "1e0e2e9c4b6f41e89009af6f0b86ac6b",
    "deepnote_cell_type": "code",
    "deepnote_to_be_reexecuted": false,
    "execution_millis": 1572,
    "execution_start": 1669554219824,
    "source_hash": "a9734683",
    "tags": []
   },
   "outputs": [],
   "source": [
    "import numpy as np\n",
    "import pandas as pd\n",
    "from matplotlib import pyplot as plt\n",
    "import seaborn as sns"
   ]
  },
  {
   "cell_type": "markdown",
   "metadata": {
    "cell_id": "c0eb8e285f574d04bd64412eee20dec0",
    "deepnote_cell_type": "text-cell-bullet",
    "formattedRanges": [],
    "is_collapsed": false,
    "tags": []
   },
   "source": [
    "- Box and Whisker Plot"
   ]
  },
  {
   "cell_type": "markdown",
   "metadata": {
    "cell_id": "f7bd1172-ac5f-4b24-971b-f0e2f1693f5a",
    "deepnote_cell_type": "text-cell-bullet",
    "formattedRanges": [],
    "is_collapsed": false,
    "tags": []
   },
   "source": [
    "- Median, 25th percentile and the 75th percentile"
   ]
  },
  {
   "cell_type": "markdown",
   "metadata": {
    "cell_id": "e5fea54c-56d2-4ee2-8558-8d95e7d366cb",
    "deepnote_cell_type": "text-cell-bullet",
    "formattedRanges": [],
    "is_collapsed": false,
    "tags": []
   },
   "source": [
    "- IQR is the box"
   ]
  },
  {
   "cell_type": "markdown",
   "metadata": {
    "cell_id": "bf0a9a98-b481-4e20-92bb-e4108363fb43",
    "deepnote_cell_type": "text-cell-bullet",
    "formattedRanges": [],
    "is_collapsed": false,
    "tags": []
   },
   "source": [
    "- Whiskers - 1.5 times IQR is calculated and the last data point within that quartile is the extent of the whisker"
   ]
  },
  {
   "cell_type": "markdown",
   "metadata": {
    "cell_id": "036f578d-bace-4762-85fc-9dd15d179d6d",
    "deepnote_cell_type": "text-cell-bullet",
    "formattedRanges": [],
    "is_collapsed": false,
    "tags": []
   },
   "source": [
    "- Data points outside the whiskers are outliers"
   ]
  },
  {
   "cell_type": "markdown",
   "metadata": {
    "cell_id": "e3c2c355-3ca1-458f-9b61-9aa484e27c41",
    "deepnote_cell_type": "text-cell-bullet",
    "formattedRanges": [],
    "is_collapsed": false,
    "tags": []
   },
   "source": [
    "- shows summary statistics"
   ]
  },
  {
   "cell_type": "markdown",
   "metadata": {
    "cell_id": "97c98c0d-4faf-4c7e-828d-5d4d714c941b",
    "deepnote_cell_type": "text-cell-bullet",
    "formattedRanges": [],
    "is_collapsed": false,
    "tags": []
   },
   "source": [
    "- good with categorical type - classified as a categorical plot"
   ]
  },
  {
   "cell_type": "markdown",
   "metadata": {
    "cell_id": "6bd6920fd387400ebfe96010a342a4e1",
    "deepnote_cell_type": "markdown",
    "tags": []
   },
   "source": [
    "[https://www.youtube.com/watch?v=Vo-bfTqEFQk&list=PLtPIclEQf-3cG31dxSMZ8KTcDG7zYng1j&index=5]"
   ]
  },
  {
   "cell_type": "code",
   "execution_count": 2,
   "metadata": {
    "cell_id": "8661e58e71d4439e9827570e14f9a5d0",
    "deepnote_cell_type": "code",
    "deepnote_to_be_reexecuted": false,
    "execution_millis": 486,
    "execution_start": 1669554732643,
    "source_hash": "c76723b7",
    "tags": []
   },
   "outputs": [],
   "source": [
    "cars = sns.load_dataset('mpg')\n",
    "cars.dropna(how = 'any', inplace = True)"
   ]
  },
  {
   "cell_type": "code",
   "execution_count": 3,
   "metadata": {
    "cell_id": "52e5136f8b1d4a4f8ccde2743e24ccde",
    "deepnote_cell_type": "code",
    "deepnote_to_be_reexecuted": false,
    "execution_millis": 1049,
    "execution_start": 1669554740384,
    "source_hash": "729f627d",
    "tags": []
   },
   "outputs": [
    {
     "data": {
      "application/vnd.deepnote.dataframe.v3+json": {
       "column_count": 9,
       "columns": [
        {
         "dtype": "float64",
         "name": "mpg",
         "stats": {
          "histogram": [
           {
            "bin_end": 15.3,
            "bin_start": 15,
            "count": 1
           },
           {
            "bin_end": 15.6,
            "bin_start": 15.3,
            "count": 0
           },
           {
            "bin_end": 15.9,
            "bin_start": 15.6,
            "count": 0
           },
           {
            "bin_end": 16.2,
            "bin_start": 15.9,
            "count": 1
           },
           {
            "bin_end": 16.5,
            "bin_start": 16.2,
            "count": 0
           },
           {
            "bin_end": 16.8,
            "bin_start": 16.5,
            "count": 0
           },
           {
            "bin_end": 17.1,
            "bin_start": 16.8,
            "count": 1
           },
           {
            "bin_end": 17.4,
            "bin_start": 17.1,
            "count": 0
           },
           {
            "bin_end": 17.7,
            "bin_start": 17.4,
            "count": 0
           },
           {
            "bin_end": 18,
            "bin_start": 17.7,
            "count": 2
           }
          ],
          "max": "18.0",
          "min": "15.0",
          "nan_count": 0,
          "unique_count": 4
         }
        },
        {
         "dtype": "int64",
         "name": "cylinders",
         "stats": {
          "histogram": [
           {
            "bin_end": 7.6,
            "bin_start": 7.5,
            "count": 0
           },
           {
            "bin_end": 7.7,
            "bin_start": 7.6,
            "count": 0
           },
           {
            "bin_end": 7.8,
            "bin_start": 7.7,
            "count": 0
           },
           {
            "bin_end": 7.9,
            "bin_start": 7.8,
            "count": 0
           },
           {
            "bin_end": 8,
            "bin_start": 7.9,
            "count": 0
           },
           {
            "bin_end": 8.1,
            "bin_start": 8,
            "count": 5
           },
           {
            "bin_end": 8.2,
            "bin_start": 8.1,
            "count": 0
           },
           {
            "bin_end": 8.3,
            "bin_start": 8.2,
            "count": 0
           },
           {
            "bin_end": 8.4,
            "bin_start": 8.3,
            "count": 0
           },
           {
            "bin_end": 8.5,
            "bin_start": 8.4,
            "count": 0
           }
          ],
          "max": "8",
          "min": "8",
          "nan_count": 0,
          "unique_count": 1
         }
        },
        {
         "dtype": "float64",
         "name": "displacement",
         "stats": {
          "histogram": [
           {
            "bin_end": 306.8,
            "bin_start": 302,
            "count": 2
           },
           {
            "bin_end": 311.6,
            "bin_start": 306.8,
            "count": 1
           },
           {
            "bin_end": 316.4,
            "bin_start": 311.6,
            "count": 0
           },
           {
            "bin_end": 321.2,
            "bin_start": 316.4,
            "count": 1
           },
           {
            "bin_end": 326,
            "bin_start": 321.2,
            "count": 0
           },
           {
            "bin_end": 330.8,
            "bin_start": 326,
            "count": 0
           },
           {
            "bin_end": 335.6,
            "bin_start": 330.8,
            "count": 0
           },
           {
            "bin_end": 340.4,
            "bin_start": 335.6,
            "count": 0
           },
           {
            "bin_end": 345.2,
            "bin_start": 340.4,
            "count": 0
           },
           {
            "bin_end": 350,
            "bin_start": 345.2,
            "count": 1
           }
          ],
          "max": "350.0",
          "min": "302.0",
          "nan_count": 0,
          "unique_count": 5
         }
        },
        {
         "dtype": "float64",
         "name": "horsepower",
         "stats": {
          "histogram": [
           {
            "bin_end": 133.5,
            "bin_start": 130,
            "count": 1
           },
           {
            "bin_end": 137,
            "bin_start": 133.5,
            "count": 0
           },
           {
            "bin_end": 140.5,
            "bin_start": 137,
            "count": 1
           },
           {
            "bin_end": 144,
            "bin_start": 140.5,
            "count": 0
           },
           {
            "bin_end": 147.5,
            "bin_start": 144,
            "count": 0
           },
           {
            "bin_end": 151,
            "bin_start": 147.5,
            "count": 2
           },
           {
            "bin_end": 154.5,
            "bin_start": 151,
            "count": 0
           },
           {
            "bin_end": 158,
            "bin_start": 154.5,
            "count": 0
           },
           {
            "bin_end": 161.5,
            "bin_start": 158,
            "count": 0
           },
           {
            "bin_end": 165,
            "bin_start": 161.5,
            "count": 1
           }
          ],
          "max": "165.0",
          "min": "130.0",
          "nan_count": 0,
          "unique_count": 4
         }
        },
        {
         "dtype": "int64",
         "name": "weight",
         "stats": {
          "histogram": [
           {
            "bin_end": 3459,
            "bin_start": 3433,
            "count": 3
           },
           {
            "bin_end": 3485,
            "bin_start": 3459,
            "count": 0
           },
           {
            "bin_end": 3511,
            "bin_start": 3485,
            "count": 1
           },
           {
            "bin_end": 3537,
            "bin_start": 3511,
            "count": 0
           },
           {
            "bin_end": 3563,
            "bin_start": 3537,
            "count": 0
           },
           {
            "bin_end": 3589,
            "bin_start": 3563,
            "count": 0
           },
           {
            "bin_end": 3615,
            "bin_start": 3589,
            "count": 0
           },
           {
            "bin_end": 3641,
            "bin_start": 3615,
            "count": 0
           },
           {
            "bin_end": 3667,
            "bin_start": 3641,
            "count": 0
           },
           {
            "bin_end": 3693,
            "bin_start": 3667,
            "count": 1
           }
          ],
          "max": "3693",
          "min": "3433",
          "nan_count": 0,
          "unique_count": 5
         }
        },
        {
         "dtype": "float64",
         "name": "acceleration",
         "stats": {
          "histogram": [
           {
            "bin_end": 10.65,
            "bin_start": 10.5,
            "count": 1
           },
           {
            "bin_end": 10.8,
            "bin_start": 10.65,
            "count": 0
           },
           {
            "bin_end": 10.95,
            "bin_start": 10.8,
            "count": 0
           },
           {
            "bin_end": 11.1,
            "bin_start": 10.95,
            "count": 1
           },
           {
            "bin_end": 11.25,
            "bin_start": 11.1,
            "count": 0
           },
           {
            "bin_end": 11.4,
            "bin_start": 11.25,
            "count": 0
           },
           {
            "bin_end": 11.55,
            "bin_start": 11.4,
            "count": 1
           },
           {
            "bin_end": 11.7,
            "bin_start": 11.55,
            "count": 0
           },
           {
            "bin_end": 11.85,
            "bin_start": 11.7,
            "count": 0
           },
           {
            "bin_end": 12,
            "bin_start": 11.85,
            "count": 2
           }
          ],
          "max": "12.0",
          "min": "10.5",
          "nan_count": 0,
          "unique_count": 4
         }
        },
        {
         "dtype": "int64",
         "name": "model_year",
         "stats": {
          "histogram": [
           {
            "bin_end": 69.6,
            "bin_start": 69.5,
            "count": 0
           },
           {
            "bin_end": 69.7,
            "bin_start": 69.6,
            "count": 0
           },
           {
            "bin_end": 69.8,
            "bin_start": 69.7,
            "count": 0
           },
           {
            "bin_end": 69.9,
            "bin_start": 69.8,
            "count": 0
           },
           {
            "bin_end": 70,
            "bin_start": 69.9,
            "count": 0
           },
           {
            "bin_end": 70.1,
            "bin_start": 70,
            "count": 5
           },
           {
            "bin_end": 70.2,
            "bin_start": 70.1,
            "count": 0
           },
           {
            "bin_end": 70.3,
            "bin_start": 70.2,
            "count": 0
           },
           {
            "bin_end": 70.4,
            "bin_start": 70.3,
            "count": 0
           },
           {
            "bin_end": 70.5,
            "bin_start": 70.4,
            "count": 0
           }
          ],
          "max": "70",
          "min": "70",
          "nan_count": 0,
          "unique_count": 1
         }
        },
        {
         "dtype": "object",
         "name": "origin",
         "stats": {
          "categories": [
           {
            "count": 5,
            "name": "usa"
           }
          ],
          "nan_count": 0,
          "unique_count": 1
         }
        },
        {
         "dtype": "object",
         "name": "name",
         "stats": {
          "categories": [
           {
            "count": 1,
            "name": "chevrolet chevelle malibu"
           },
           {
            "count": 1,
            "name": "buick skylark 320"
           },
           {
            "count": 3,
            "name": "3 others"
           }
          ],
          "nan_count": 0,
          "unique_count": 5
         }
        },
        {
         "dtype": "int64",
         "name": "_deepnote_index_column"
        }
       ],
       "row_count": 5,
       "rows": [
        {
         "_deepnote_index_column": "0",
         "acceleration": "12.0",
         "cylinders": "8",
         "displacement": "307.0",
         "horsepower": "130.0",
         "model_year": "70",
         "mpg": "18.0",
         "name": "chevrolet chevelle malibu",
         "origin": "usa",
         "weight": "3504"
        },
        {
         "_deepnote_index_column": "1",
         "acceleration": "11.5",
         "cylinders": "8",
         "displacement": "350.0",
         "horsepower": "165.0",
         "model_year": "70",
         "mpg": "15.0",
         "name": "buick skylark 320",
         "origin": "usa",
         "weight": "3693"
        },
        {
         "_deepnote_index_column": "2",
         "acceleration": "11.0",
         "cylinders": "8",
         "displacement": "318.0",
         "horsepower": "150.0",
         "model_year": "70",
         "mpg": "18.0",
         "name": "plymouth satellite",
         "origin": "usa",
         "weight": "3436"
        },
        {
         "_deepnote_index_column": "3",
         "acceleration": "12.0",
         "cylinders": "8",
         "displacement": "304.0",
         "horsepower": "150.0",
         "model_year": "70",
         "mpg": "16.0",
         "name": "amc rebel sst",
         "origin": "usa",
         "weight": "3433"
        },
        {
         "_deepnote_index_column": "4",
         "acceleration": "10.5",
         "cylinders": "8",
         "displacement": "302.0",
         "horsepower": "140.0",
         "model_year": "70",
         "mpg": "17.0",
         "name": "ford torino",
         "origin": "usa",
         "weight": "3449"
        }
       ]
      },
      "text/html": [
       "<div>\n",
       "<style scoped>\n",
       "    .dataframe tbody tr th:only-of-type {\n",
       "        vertical-align: middle;\n",
       "    }\n",
       "\n",
       "    .dataframe tbody tr th {\n",
       "        vertical-align: top;\n",
       "    }\n",
       "\n",
       "    .dataframe thead th {\n",
       "        text-align: right;\n",
       "    }\n",
       "</style>\n",
       "<table border=\"1\" class=\"dataframe\">\n",
       "  <thead>\n",
       "    <tr style=\"text-align: right;\">\n",
       "      <th></th>\n",
       "      <th>mpg</th>\n",
       "      <th>cylinders</th>\n",
       "      <th>displacement</th>\n",
       "      <th>horsepower</th>\n",
       "      <th>weight</th>\n",
       "      <th>acceleration</th>\n",
       "      <th>model_year</th>\n",
       "      <th>origin</th>\n",
       "      <th>name</th>\n",
       "    </tr>\n",
       "  </thead>\n",
       "  <tbody>\n",
       "    <tr>\n",
       "      <th>0</th>\n",
       "      <td>18.0</td>\n",
       "      <td>8</td>\n",
       "      <td>307.0</td>\n",
       "      <td>130.0</td>\n",
       "      <td>3504</td>\n",
       "      <td>12.0</td>\n",
       "      <td>70</td>\n",
       "      <td>usa</td>\n",
       "      <td>chevrolet chevelle malibu</td>\n",
       "    </tr>\n",
       "    <tr>\n",
       "      <th>1</th>\n",
       "      <td>15.0</td>\n",
       "      <td>8</td>\n",
       "      <td>350.0</td>\n",
       "      <td>165.0</td>\n",
       "      <td>3693</td>\n",
       "      <td>11.5</td>\n",
       "      <td>70</td>\n",
       "      <td>usa</td>\n",
       "      <td>buick skylark 320</td>\n",
       "    </tr>\n",
       "    <tr>\n",
       "      <th>2</th>\n",
       "      <td>18.0</td>\n",
       "      <td>8</td>\n",
       "      <td>318.0</td>\n",
       "      <td>150.0</td>\n",
       "      <td>3436</td>\n",
       "      <td>11.0</td>\n",
       "      <td>70</td>\n",
       "      <td>usa</td>\n",
       "      <td>plymouth satellite</td>\n",
       "    </tr>\n",
       "    <tr>\n",
       "      <th>3</th>\n",
       "      <td>16.0</td>\n",
       "      <td>8</td>\n",
       "      <td>304.0</td>\n",
       "      <td>150.0</td>\n",
       "      <td>3433</td>\n",
       "      <td>12.0</td>\n",
       "      <td>70</td>\n",
       "      <td>usa</td>\n",
       "      <td>amc rebel sst</td>\n",
       "    </tr>\n",
       "    <tr>\n",
       "      <th>4</th>\n",
       "      <td>17.0</td>\n",
       "      <td>8</td>\n",
       "      <td>302.0</td>\n",
       "      <td>140.0</td>\n",
       "      <td>3449</td>\n",
       "      <td>10.5</td>\n",
       "      <td>70</td>\n",
       "      <td>usa</td>\n",
       "      <td>ford torino</td>\n",
       "    </tr>\n",
       "  </tbody>\n",
       "</table>\n",
       "</div>"
      ],
      "text/plain": [
       "    mpg  cylinders  displacement  horsepower  weight  acceleration  \\\n",
       "0  18.0          8         307.0       130.0    3504          12.0   \n",
       "1  15.0          8         350.0       165.0    3693          11.5   \n",
       "2  18.0          8         318.0       150.0    3436          11.0   \n",
       "3  16.0          8         304.0       150.0    3433          12.0   \n",
       "4  17.0          8         302.0       140.0    3449          10.5   \n",
       "\n",
       "   model_year origin                       name  \n",
       "0          70    usa  chevrolet chevelle malibu  \n",
       "1          70    usa          buick skylark 320  \n",
       "2          70    usa         plymouth satellite  \n",
       "3          70    usa              amc rebel sst  \n",
       "4          70    usa                ford torino  "
      ]
     },
     "execution_count": 3,
     "metadata": {},
     "output_type": "execute_result"
    }
   ],
   "source": [
    "cars[:5]"
   ]
  },
  {
   "cell_type": "code",
   "execution_count": 4,
   "metadata": {
    "cell_id": "732d37a2d37e4a1589eecf86cd50d778",
    "deepnote_cell_type": "code",
    "deepnote_to_be_reexecuted": false,
    "execution_millis": 4,
    "execution_start": 1669554751864,
    "source_hash": "3afc327",
    "tags": []
   },
   "outputs": [
    {
     "data": {
      "text/plain": [
       "(392, 9)"
      ]
     },
     "execution_count": 4,
     "metadata": {},
     "output_type": "execute_result"
    }
   ],
   "source": [
    "cars.shape"
   ]
  },
  {
   "cell_type": "code",
   "execution_count": 5,
   "metadata": {
    "cell_id": "151b6f4e4edc4e0f80e54c2bc4cb2f0e",
    "deepnote_cell_type": "code",
    "deepnote_to_be_reexecuted": false,
    "execution_millis": 2,
    "execution_start": 1669554783229,
    "source_hash": "e990413e",
    "tags": []
   },
   "outputs": [],
   "source": [
    "sns.set_style('whitegrid')"
   ]
  },
  {
   "cell_type": "code",
   "execution_count": 6,
   "metadata": {
    "cell_id": "d694a452990b4b62abd0a03e7796a41e",
    "deepnote_cell_type": "code",
    "deepnote_to_be_reexecuted": false,
    "execution_millis": 6,
    "execution_start": 1669554795285,
    "source_hash": "ad6ddec8",
    "tags": []
   },
   "outputs": [
    {
     "data": {
      "text/plain": [
       "4    199\n",
       "8    103\n",
       "6     83\n",
       "3      4\n",
       "5      3\n",
       "Name: cylinders, dtype: int64"
      ]
     },
     "execution_count": 6,
     "metadata": {},
     "output_type": "execute_result"
    }
   ],
   "source": [
    "cars.cylinders.value_counts()"
   ]
  },
  {
   "cell_type": "code",
   "execution_count": 7,
   "metadata": {
    "cell_id": "832b3524c36b4a518a7152ff556cfde9",
    "deepnote_cell_type": "code",
    "deepnote_to_be_reexecuted": false,
    "execution_millis": 35,
    "execution_start": 1669554842974,
    "source_hash": "c5235824",
    "tags": []
   },
   "outputs": [
    {
     "data": {
      "application/vnd.deepnote.dataframe.v3+json": {
       "column_count": 9,
       "columns": [
        {
         "dtype": "float64",
         "name": "mpg",
         "stats": {
          "histogram": [
           {
            "bin_end": 12.76,
            "bin_start": 9,
            "count": 13
           },
           {
            "bin_end": 16.52,
            "bin_start": 12.76,
            "count": 78
           },
           {
            "bin_end": 20.28,
            "bin_start": 16.52,
            "count": 71
           },
           {
            "bin_end": 24.04,
            "bin_start": 20.28,
            "count": 55
           },
           {
            "bin_end": 27.8,
            "bin_start": 24.04,
            "count": 52
           },
           {
            "bin_end": 31.560000000000002,
            "bin_start": 27.8,
            "count": 48
           },
           {
            "bin_end": 35.32,
            "bin_start": 31.560000000000002,
            "count": 37
           },
           {
            "bin_end": 39.08,
            "bin_start": 35.32,
            "count": 21
           },
           {
            "bin_end": 42.84,
            "bin_start": 39.08,
            "count": 4
           },
           {
            "bin_end": 46.6,
            "bin_start": 42.84,
            "count": 6
           }
          ],
          "max": "46.6",
          "min": "9.0",
          "nan_count": 0,
          "unique_count": 124
         }
        },
        {
         "dtype": "int64",
         "name": "cylinders",
         "stats": {
          "histogram": [
           {
            "bin_end": 4.4,
            "bin_start": 4,
            "count": 199
           },
           {
            "bin_end": 4.8,
            "bin_start": 4.4,
            "count": 0
           },
           {
            "bin_end": 5.2,
            "bin_start": 4.8,
            "count": 0
           },
           {
            "bin_end": 5.6,
            "bin_start": 5.2,
            "count": 0
           },
           {
            "bin_end": 6,
            "bin_start": 5.6,
            "count": 0
           },
           {
            "bin_end": 6.4,
            "bin_start": 6,
            "count": 83
           },
           {
            "bin_end": 6.800000000000001,
            "bin_start": 6.4,
            "count": 0
           },
           {
            "bin_end": 7.2,
            "bin_start": 6.800000000000001,
            "count": 0
           },
           {
            "bin_end": 7.6,
            "bin_start": 7.2,
            "count": 0
           },
           {
            "bin_end": 8,
            "bin_start": 7.6,
            "count": 103
           }
          ],
          "max": "8",
          "min": "4",
          "nan_count": 0,
          "unique_count": 3
         }
        },
        {
         "dtype": "float64",
         "name": "displacement",
         "stats": {
          "histogram": [
           {
            "bin_end": 106.7,
            "bin_start": 68,
            "count": 100
           },
           {
            "bin_end": 145.4,
            "bin_start": 106.7,
            "count": 86
           },
           {
            "bin_end": 184.10000000000002,
            "bin_start": 145.4,
            "count": 29
           },
           {
            "bin_end": 222.8,
            "bin_start": 184.10000000000002,
            "count": 12
           },
           {
            "bin_end": 261.5,
            "bin_start": 222.8,
            "count": 57
           },
           {
            "bin_end": 300.20000000000005,
            "bin_start": 261.5,
            "count": 3
           },
           {
            "bin_end": 338.90000000000003,
            "bin_start": 300.20000000000005,
            "count": 42
           },
           {
            "bin_end": 377.6,
            "bin_start": 338.90000000000003,
            "count": 31
           },
           {
            "bin_end": 416.3,
            "bin_start": 377.6,
            "count": 16
           },
           {
            "bin_end": 455,
            "bin_start": 416.3,
            "count": 9
           }
          ],
          "max": "455.0",
          "min": "68.0",
          "nan_count": 0,
          "unique_count": 77
         }
        },
        {
         "dtype": "float64",
         "name": "horsepower",
         "stats": {
          "histogram": [
           {
            "bin_end": 64.4,
            "bin_start": 46,
            "count": 27
           },
           {
            "bin_end": 82.8,
            "bin_start": 64.4,
            "count": 93
           },
           {
            "bin_end": 101.19999999999999,
            "bin_start": 82.8,
            "count": 117
           },
           {
            "bin_end": 119.6,
            "bin_start": 101.19999999999999,
            "count": 42
           },
           {
            "bin_end": 138,
            "bin_start": 119.6,
            "count": 19
           },
           {
            "bin_end": 156.39999999999998,
            "bin_start": 138,
            "count": 47
           },
           {
            "bin_end": 174.79999999999998,
            "bin_start": 156.39999999999998,
            "count": 13
           },
           {
            "bin_end": 193.2,
            "bin_start": 174.79999999999998,
            "count": 14
           },
           {
            "bin_end": 211.6,
            "bin_start": 193.2,
            "count": 5
           },
           {
            "bin_end": 230,
            "bin_start": 211.6,
            "count": 8
           }
          ],
          "max": "230.0",
          "min": "46.0",
          "nan_count": 0,
          "unique_count": 91
         }
        },
        {
         "dtype": "int64",
         "name": "weight",
         "stats": {
          "histogram": [
           {
            "bin_end": 1965.7,
            "bin_start": 1613,
            "count": 30
           },
           {
            "bin_end": 2318.4,
            "bin_start": 1965.7,
            "count": 88
           },
           {
            "bin_end": 2671.1,
            "bin_start": 2318.4,
            "count": 56
           },
           {
            "bin_end": 3023.8,
            "bin_start": 2671.1,
            "count": 49
           },
           {
            "bin_end": 3376.5,
            "bin_start": 3023.8,
            "count": 36
           },
           {
            "bin_end": 3729.2,
            "bin_start": 3376.5,
            "count": 39
           },
           {
            "bin_end": 4081.9,
            "bin_start": 3729.2,
            "count": 29
           },
           {
            "bin_end": 4434.6,
            "bin_start": 4081.9,
            "count": 34
           },
           {
            "bin_end": 4787.299999999999,
            "bin_start": 4434.6,
            "count": 18
           },
           {
            "bin_end": 5140,
            "bin_start": 4787.299999999999,
            "count": 6
           }
          ],
          "max": "5140",
          "min": "1613",
          "nan_count": 0,
          "unique_count": 341
         }
        },
        {
         "dtype": "float64",
         "name": "acceleration",
         "stats": {
          "histogram": [
           {
            "bin_end": 9.68,
            "bin_start": 8,
            "count": 6
           },
           {
            "bin_end": 11.36,
            "bin_start": 9.68,
            "count": 15
           },
           {
            "bin_end": 13.040000000000001,
            "bin_start": 11.36,
            "count": 49
           },
           {
            "bin_end": 14.72,
            "bin_start": 13.040000000000001,
            "count": 82
           },
           {
            "bin_end": 16.4,
            "bin_start": 14.72,
            "count": 90
           },
           {
            "bin_end": 18.080000000000002,
            "bin_start": 16.4,
            "count": 78
           },
           {
            "bin_end": 19.76,
            "bin_start": 18.080000000000002,
            "count": 44
           },
           {
            "bin_end": 21.44,
            "bin_start": 19.76,
            "count": 10
           },
           {
            "bin_end": 23.12,
            "bin_start": 21.44,
            "count": 7
           },
           {
            "bin_end": 24.8,
            "bin_start": 23.12,
            "count": 4
           }
          ],
          "max": "24.8",
          "min": "8.0",
          "nan_count": 0,
          "unique_count": 94
         }
        },
        {
         "dtype": "int64",
         "name": "model_year",
         "stats": {
          "histogram": [
           {
            "bin_end": 71.2,
            "bin_start": 70,
            "count": 56
           },
           {
            "bin_end": 72.4,
            "bin_start": 71.2,
            "count": 27
           },
           {
            "bin_end": 73.6,
            "bin_start": 72.4,
            "count": 39
           },
           {
            "bin_end": 74.8,
            "bin_start": 73.6,
            "count": 26
           },
           {
            "bin_end": 76,
            "bin_start": 74.8,
            "count": 30
           },
           {
            "bin_end": 77.2,
            "bin_start": 76,
            "count": 61
           },
           {
            "bin_end": 78.4,
            "bin_start": 77.2,
            "count": 35
           },
           {
            "bin_end": 79.6,
            "bin_start": 78.4,
            "count": 28
           },
           {
            "bin_end": 80.8,
            "bin_start": 79.6,
            "count": 25
           },
           {
            "bin_end": 82,
            "bin_start": 80.8,
            "count": 58
           }
          ],
          "max": "82",
          "min": "70",
          "nan_count": 0,
          "unique_count": 13
         }
        },
        {
         "dtype": "object",
         "name": "origin",
         "stats": {
          "categories": [
           {
            "count": 245,
            "name": "usa"
           },
           {
            "count": 75,
            "name": "japan"
           },
           {
            "count": 65,
            "name": "europe"
           }
          ],
          "nan_count": 0,
          "unique_count": 3
         }
        },
        {
         "dtype": "object",
         "name": "name",
         "stats": {
          "categories": [
           {
            "count": 5,
            "name": "amc matador"
           },
           {
            "count": 5,
            "name": "ford pinto"
           },
           {
            "count": 375,
            "name": "292 others"
           }
          ],
          "nan_count": 0,
          "unique_count": 294
         }
        },
        {
         "dtype": "int64",
         "name": "_deepnote_index_column"
        }
       ],
       "row_count": 385,
       "rows": [
        {
         "_deepnote_index_column": "0",
         "acceleration": "12.0",
         "cylinders": "8",
         "displacement": "307.0",
         "horsepower": "130.0",
         "model_year": "70",
         "mpg": "18.0",
         "name": "chevrolet chevelle malibu",
         "origin": "usa",
         "weight": "3504"
        },
        {
         "_deepnote_index_column": "1",
         "acceleration": "11.5",
         "cylinders": "8",
         "displacement": "350.0",
         "horsepower": "165.0",
         "model_year": "70",
         "mpg": "15.0",
         "name": "buick skylark 320",
         "origin": "usa",
         "weight": "3693"
        },
        {
         "_deepnote_index_column": "2",
         "acceleration": "11.0",
         "cylinders": "8",
         "displacement": "318.0",
         "horsepower": "150.0",
         "model_year": "70",
         "mpg": "18.0",
         "name": "plymouth satellite",
         "origin": "usa",
         "weight": "3436"
        },
        {
         "_deepnote_index_column": "3",
         "acceleration": "12.0",
         "cylinders": "8",
         "displacement": "304.0",
         "horsepower": "150.0",
         "model_year": "70",
         "mpg": "16.0",
         "name": "amc rebel sst",
         "origin": "usa",
         "weight": "3433"
        },
        {
         "_deepnote_index_column": "4",
         "acceleration": "10.5",
         "cylinders": "8",
         "displacement": "302.0",
         "horsepower": "140.0",
         "model_year": "70",
         "mpg": "17.0",
         "name": "ford torino",
         "origin": "usa",
         "weight": "3449"
        },
        {
         "_deepnote_index_column": "5",
         "acceleration": "10.0",
         "cylinders": "8",
         "displacement": "429.0",
         "horsepower": "198.0",
         "model_year": "70",
         "mpg": "15.0",
         "name": "ford galaxie 500",
         "origin": "usa",
         "weight": "4341"
        },
        {
         "_deepnote_index_column": "6",
         "acceleration": "9.0",
         "cylinders": "8",
         "displacement": "454.0",
         "horsepower": "220.0",
         "model_year": "70",
         "mpg": "14.0",
         "name": "chevrolet impala",
         "origin": "usa",
         "weight": "4354"
        },
        {
         "_deepnote_index_column": "7",
         "acceleration": "8.5",
         "cylinders": "8",
         "displacement": "440.0",
         "horsepower": "215.0",
         "model_year": "70",
         "mpg": "14.0",
         "name": "plymouth fury iii",
         "origin": "usa",
         "weight": "4312"
        },
        {
         "_deepnote_index_column": "8",
         "acceleration": "10.0",
         "cylinders": "8",
         "displacement": "455.0",
         "horsepower": "225.0",
         "model_year": "70",
         "mpg": "14.0",
         "name": "pontiac catalina",
         "origin": "usa",
         "weight": "4425"
        },
        {
         "_deepnote_index_column": "9",
         "acceleration": "8.5",
         "cylinders": "8",
         "displacement": "390.0",
         "horsepower": "190.0",
         "model_year": "70",
         "mpg": "15.0",
         "name": "amc ambassador dpl",
         "origin": "usa",
         "weight": "3850"
        }
       ]
      },
      "text/html": [
       "<div>\n",
       "<style scoped>\n",
       "    .dataframe tbody tr th:only-of-type {\n",
       "        vertical-align: middle;\n",
       "    }\n",
       "\n",
       "    .dataframe tbody tr th {\n",
       "        vertical-align: top;\n",
       "    }\n",
       "\n",
       "    .dataframe thead th {\n",
       "        text-align: right;\n",
       "    }\n",
       "</style>\n",
       "<table border=\"1\" class=\"dataframe\">\n",
       "  <thead>\n",
       "    <tr style=\"text-align: right;\">\n",
       "      <th></th>\n",
       "      <th>mpg</th>\n",
       "      <th>cylinders</th>\n",
       "      <th>displacement</th>\n",
       "      <th>horsepower</th>\n",
       "      <th>weight</th>\n",
       "      <th>acceleration</th>\n",
       "      <th>model_year</th>\n",
       "      <th>origin</th>\n",
       "      <th>name</th>\n",
       "    </tr>\n",
       "  </thead>\n",
       "  <tbody>\n",
       "    <tr>\n",
       "      <th>0</th>\n",
       "      <td>18.0</td>\n",
       "      <td>8</td>\n",
       "      <td>307.0</td>\n",
       "      <td>130.0</td>\n",
       "      <td>3504</td>\n",
       "      <td>12.0</td>\n",
       "      <td>70</td>\n",
       "      <td>usa</td>\n",
       "      <td>chevrolet chevelle malibu</td>\n",
       "    </tr>\n",
       "    <tr>\n",
       "      <th>1</th>\n",
       "      <td>15.0</td>\n",
       "      <td>8</td>\n",
       "      <td>350.0</td>\n",
       "      <td>165.0</td>\n",
       "      <td>3693</td>\n",
       "      <td>11.5</td>\n",
       "      <td>70</td>\n",
       "      <td>usa</td>\n",
       "      <td>buick skylark 320</td>\n",
       "    </tr>\n",
       "    <tr>\n",
       "      <th>2</th>\n",
       "      <td>18.0</td>\n",
       "      <td>8</td>\n",
       "      <td>318.0</td>\n",
       "      <td>150.0</td>\n",
       "      <td>3436</td>\n",
       "      <td>11.0</td>\n",
       "      <td>70</td>\n",
       "      <td>usa</td>\n",
       "      <td>plymouth satellite</td>\n",
       "    </tr>\n",
       "    <tr>\n",
       "      <th>3</th>\n",
       "      <td>16.0</td>\n",
       "      <td>8</td>\n",
       "      <td>304.0</td>\n",
       "      <td>150.0</td>\n",
       "      <td>3433</td>\n",
       "      <td>12.0</td>\n",
       "      <td>70</td>\n",
       "      <td>usa</td>\n",
       "      <td>amc rebel sst</td>\n",
       "    </tr>\n",
       "    <tr>\n",
       "      <th>4</th>\n",
       "      <td>17.0</td>\n",
       "      <td>8</td>\n",
       "      <td>302.0</td>\n",
       "      <td>140.0</td>\n",
       "      <td>3449</td>\n",
       "      <td>10.5</td>\n",
       "      <td>70</td>\n",
       "      <td>usa</td>\n",
       "      <td>ford torino</td>\n",
       "    </tr>\n",
       "    <tr>\n",
       "      <th>...</th>\n",
       "      <td>...</td>\n",
       "      <td>...</td>\n",
       "      <td>...</td>\n",
       "      <td>...</td>\n",
       "      <td>...</td>\n",
       "      <td>...</td>\n",
       "      <td>...</td>\n",
       "      <td>...</td>\n",
       "      <td>...</td>\n",
       "    </tr>\n",
       "    <tr>\n",
       "      <th>393</th>\n",
       "      <td>27.0</td>\n",
       "      <td>4</td>\n",
       "      <td>140.0</td>\n",
       "      <td>86.0</td>\n",
       "      <td>2790</td>\n",
       "      <td>15.6</td>\n",
       "      <td>82</td>\n",
       "      <td>usa</td>\n",
       "      <td>ford mustang gl</td>\n",
       "    </tr>\n",
       "    <tr>\n",
       "      <th>394</th>\n",
       "      <td>44.0</td>\n",
       "      <td>4</td>\n",
       "      <td>97.0</td>\n",
       "      <td>52.0</td>\n",
       "      <td>2130</td>\n",
       "      <td>24.6</td>\n",
       "      <td>82</td>\n",
       "      <td>europe</td>\n",
       "      <td>vw pickup</td>\n",
       "    </tr>\n",
       "    <tr>\n",
       "      <th>395</th>\n",
       "      <td>32.0</td>\n",
       "      <td>4</td>\n",
       "      <td>135.0</td>\n",
       "      <td>84.0</td>\n",
       "      <td>2295</td>\n",
       "      <td>11.6</td>\n",
       "      <td>82</td>\n",
       "      <td>usa</td>\n",
       "      <td>dodge rampage</td>\n",
       "    </tr>\n",
       "    <tr>\n",
       "      <th>396</th>\n",
       "      <td>28.0</td>\n",
       "      <td>4</td>\n",
       "      <td>120.0</td>\n",
       "      <td>79.0</td>\n",
       "      <td>2625</td>\n",
       "      <td>18.6</td>\n",
       "      <td>82</td>\n",
       "      <td>usa</td>\n",
       "      <td>ford ranger</td>\n",
       "    </tr>\n",
       "    <tr>\n",
       "      <th>397</th>\n",
       "      <td>31.0</td>\n",
       "      <td>4</td>\n",
       "      <td>119.0</td>\n",
       "      <td>82.0</td>\n",
       "      <td>2720</td>\n",
       "      <td>19.4</td>\n",
       "      <td>82</td>\n",
       "      <td>usa</td>\n",
       "      <td>chevy s-10</td>\n",
       "    </tr>\n",
       "  </tbody>\n",
       "</table>\n",
       "<p>385 rows × 9 columns</p>\n",
       "</div>"
      ],
      "text/plain": [
       "      mpg  cylinders  displacement  horsepower  weight  acceleration  \\\n",
       "0    18.0          8         307.0       130.0    3504          12.0   \n",
       "1    15.0          8         350.0       165.0    3693          11.5   \n",
       "2    18.0          8         318.0       150.0    3436          11.0   \n",
       "3    16.0          8         304.0       150.0    3433          12.0   \n",
       "4    17.0          8         302.0       140.0    3449          10.5   \n",
       "..    ...        ...           ...         ...     ...           ...   \n",
       "393  27.0          4         140.0        86.0    2790          15.6   \n",
       "394  44.0          4          97.0        52.0    2130          24.6   \n",
       "395  32.0          4         135.0        84.0    2295          11.6   \n",
       "396  28.0          4         120.0        79.0    2625          18.6   \n",
       "397  31.0          4         119.0        82.0    2720          19.4   \n",
       "\n",
       "     model_year  origin                       name  \n",
       "0            70     usa  chevrolet chevelle malibu  \n",
       "1            70     usa          buick skylark 320  \n",
       "2            70     usa         plymouth satellite  \n",
       "3            70     usa              amc rebel sst  \n",
       "4            70     usa                ford torino  \n",
       "..          ...     ...                        ...  \n",
       "393          82     usa            ford mustang gl  \n",
       "394          82  europe                  vw pickup  \n",
       "395          82     usa              dodge rampage  \n",
       "396          82     usa                ford ranger  \n",
       "397          82     usa                 chevy s-10  \n",
       "\n",
       "[385 rows x 9 columns]"
      ]
     },
     "execution_count": 7,
     "metadata": {},
     "output_type": "execute_result"
    }
   ],
   "source": [
    "cars.loc[cars.cylinders.isin([4,6,8])]"
   ]
  },
  {
   "cell_type": "code",
   "execution_count": 8,
   "metadata": {
    "cell_id": "4f97209e74444bc9932738959488e2b8",
    "deepnote_cell_type": "code",
    "deepnote_to_be_reexecuted": false,
    "execution_millis": 3,
    "execution_start": 1669554858788,
    "source_hash": "7f4f2818",
    "tags": []
   },
   "outputs": [],
   "source": [
    "cars = cars.loc[cars.cylinders.isin([4,6,8])]"
   ]
  },
  {
   "cell_type": "code",
   "execution_count": 12,
   "metadata": {
    "cell_id": "f3829b04a3094b819f48cbb991622698",
    "deepnote_cell_type": "code",
    "deepnote_to_be_reexecuted": false,
    "execution_millis": 171,
    "execution_start": 1669554953760,
    "source_hash": "b9cd5498",
    "tags": []
   },
   "outputs": [
    {
     "data": {
      "image/png": "[encoded data removed]",
      "text/plain": [
       "<Figure size 640x480 with 1 Axes>"
      ]
     },
     "metadata": {
      "image/png": {
       "height": 413,
       "width": 543
      }
     },
     "output_type": "display_data"
    }
   ],
   "source": [
    "sns.boxplot(cars.mpg);"
   ]
  },
  {
   "cell_type": "code",
   "execution_count": 14,
   "metadata": {
    "cell_id": "0c455db7cc784991a4a67e26e342cbfc",
    "deepnote_cell_type": "code",
    "deepnote_to_be_reexecuted": false,
    "execution_millis": 247,
    "execution_start": 1669554990629,
    "source_hash": "2ab1ae32",
    "tags": []
   },
   "outputs": [
    {
     "data": {
      "text/plain": [
       "<AxesSubplot: xlabel='mpg'>"
      ]
     },
     "execution_count": 14,
     "metadata": {},
     "output_type": "execute_result"
    },
    {
     "data": {
      "image/png": "[encoded data removed]",
      "text/plain": [
       "<Figure size 640x480 with 1 Axes>"
      ]
     },
     "metadata": {
      "image/png": {
       "height": 432,
       "width": 515
      }
     },
     "output_type": "display_data"
    }
   ],
   "source": [
    "sns.boxplot(data = cars, x = 'mpg')"
   ]
  },
  {
   "cell_type": "code",
   "execution_count": 17,
   "metadata": {
    "cell_id": "d18c6d49b87f4232a2a6a02afec9c444",
    "deepnote_cell_type": "code",
    "deepnote_to_be_reexecuted": false,
    "execution_millis": 132,
    "execution_start": 1669555064222,
    "source_hash": "a8f73869",
    "tags": []
   },
   "outputs": [
    {
     "data": {
      "text/plain": [
       "count    385.000000\n",
       "mean      23.445455\n",
       "std        7.836911\n",
       "min        9.000000\n",
       "25%       17.000000\n",
       "50%       23.000000\n",
       "75%       29.000000\n",
       "max       46.600000\n",
       "Name: mpg, dtype: float64"
      ]
     },
     "execution_count": 17,
     "metadata": {},
     "output_type": "execute_result"
    }
   ],
   "source": [
    "cars.mpg.describe()"
   ]
  },
  {
   "cell_type": "code",
   "execution_count": 16,
   "metadata": {
    "cell_id": "e8c6888fe6b8462783c4dcc8de80b9b6",
    "deepnote_cell_type": "code",
    "deepnote_to_be_reexecuted": false,
    "execution_millis": 272,
    "execution_start": 1669555043263,
    "source_hash": "cdf10171",
    "tags": []
   },
   "outputs": [
    {
     "data": {
      "text/plain": [
       "<AxesSubplot: xlabel='cylinders', ylabel='mpg'>"
      ]
     },
     "execution_count": 16,
     "metadata": {},
     "output_type": "execute_result"
    },
    {
     "data": {
      "image/png": "[encoded data removed]",
      "text/plain": [
       "<Figure size 640x480 with 1 Axes>"
      ]
     },
     "metadata": {
      "image/png": {
       "height": 432,
       "width": 562
      }
     },
     "output_type": "display_data"
    }
   ],
   "source": [
    "sns.boxplot(data = cars, y = 'mpg', x = 'cylinders')"
   ]
  },
  {
   "cell_type": "code",
   "execution_count": 18,
   "metadata": {
    "cell_id": "56b3ba0d656a4c4290231a3e0953f04f",
    "deepnote_cell_type": "code",
    "deepnote_to_be_reexecuted": false,
    "execution_millis": 212,
    "execution_start": 1669555136524,
    "source_hash": "bca3431f",
    "tags": []
   },
   "outputs": [
    {
     "data": {
      "text/plain": [
       "<AxesSubplot: xlabel='origin', ylabel='mpg'>"
      ]
     },
     "execution_count": 18,
     "metadata": {},
     "output_type": "execute_result"
    },
    {
     "data": {
      "image/png": "[encoded data removed]",
      "text/plain": [
       "<Figure size 640x480 with 1 Axes>"
      ]
     },
     "metadata": {
      "image/png": {
       "height": 432,
       "width": 562
      }
     },
     "output_type": "display_data"
    }
   ],
   "source": [
    "sns.boxplot(x = cars.origin, y = cars.mpg)"
   ]
  },
  {
   "cell_type": "code",
   "execution_count": 19,
   "metadata": {
    "cell_id": "3481dbe2700249569f2f945c2ae7a2d0",
    "deepnote_cell_type": "code",
    "deepnote_to_be_reexecuted": false,
    "execution_millis": 325,
    "execution_start": 1669555200279,
    "source_hash": "c2f2f628",
    "tags": []
   },
   "outputs": [
    {
     "data": {
      "text/plain": [
       "<AxesSubplot: xlabel='origin', ylabel='mpg'>"
      ]
     },
     "execution_count": 19,
     "metadata": {},
     "output_type": "execute_result"
    },
    {
     "data": {
      "image/png": "[encoded data removed]",
      "text/plain": [
       "<Figure size 640x480 with 1 Axes>"
      ]
     },
     "metadata": {
      "image/png": {
       "height": 432,
       "width": 562
      }
     },
     "output_type": "display_data"
    }
   ],
   "source": [
    "sns.boxplot(x = cars.origin, y = cars.mpg, hue = cars.cylinders)"
   ]
  },
  {
   "cell_type": "code",
   "execution_count": 21,
   "metadata": {
    "cell_id": "7a06faeebcc342a583090f6969f8285f",
    "deepnote_cell_type": "code",
    "deepnote_to_be_reexecuted": false,
    "execution_millis": 1050,
    "execution_start": 1669555301104,
    "source_hash": "ed8cc879",
    "tags": []
   },
   "outputs": [
    {
     "data": {
      "text/plain": [
       "count    385.000000\n",
       "mean      75.961039\n",
       "std        3.692058\n",
       "min       70.000000\n",
       "25%       73.000000\n",
       "50%       76.000000\n",
       "75%       79.000000\n",
       "max       82.000000\n",
       "Name: model_year, dtype: float64"
      ]
     },
     "execution_count": 21,
     "metadata": {},
     "output_type": "execute_result"
    }
   ],
   "source": [
    "cars.model_year.describe()"
   ]
  },
  {
   "cell_type": "code",
   "execution_count": 23,
   "metadata": {
    "cell_id": "1dfd04b16e854596b4479850724ca940",
    "deepnote_cell_type": "code",
    "deepnote_to_be_reexecuted": false,
    "execution_millis": 2,
    "execution_start": 1669555375875,
    "source_hash": "9d576dc",
    "tags": []
   },
   "outputs": [],
   "source": [
    "cars['newer_model'] = cars.model_year > 76"
   ]
  },
  {
   "cell_type": "code",
   "execution_count": 24,
   "metadata": {
    "cell_id": "92adfc780e1f4c32b72c49a483f6b4af",
    "deepnote_cell_type": "code",
    "deepnote_to_be_reexecuted": false,
    "execution_millis": 775,
    "execution_start": 1669555387723,
    "source_hash": "729f627d",
    "tags": []
   },
   "outputs": [
    {
     "data": {
      "application/vnd.deepnote.dataframe.v3+json": {
       "column_count": 10,
       "columns": [
        {
         "dtype": "float64",
         "name": "mpg",
         "stats": {
          "histogram": [
           {
            "bin_end": 15.3,
            "bin_start": 15,
            "count": 1
           },
           {
            "bin_end": 15.6,
            "bin_start": 15.3,
            "count": 0
           },
           {
            "bin_end": 15.9,
            "bin_start": 15.6,
            "count": 0
           },
           {
            "bin_end": 16.2,
            "bin_start": 15.9,
            "count": 1
           },
           {
            "bin_end": 16.5,
            "bin_start": 16.2,
            "count": 0
           },
           {
            "bin_end": 16.8,
            "bin_start": 16.5,
            "count": 0
           },
           {
            "bin_end": 17.1,
            "bin_start": 16.8,
            "count": 1
           },
           {
            "bin_end": 17.4,
            "bin_start": 17.1,
            "count": 0
           },
           {
            "bin_end": 17.7,
            "bin_start": 17.4,
            "count": 0
           },
           {
            "bin_end": 18,
            "bin_start": 17.7,
            "count": 2
           }
          ],
          "max": "18.0",
          "min": "15.0",
          "nan_count": 0,
          "unique_count": 4
         }
        },
        {
         "dtype": "int64",
         "name": "cylinders",
         "stats": {
          "histogram": [
           {
            "bin_end": 7.6,
            "bin_start": 7.5,
            "count": 0
           },
           {
            "bin_end": 7.7,
            "bin_start": 7.6,
            "count": 0
           },
           {
            "bin_end": 7.8,
            "bin_start": 7.7,
            "count": 0
           },
           {
            "bin_end": 7.9,
            "bin_start": 7.8,
            "count": 0
           },
           {
            "bin_end": 8,
            "bin_start": 7.9,
            "count": 0
           },
           {
            "bin_end": 8.1,
            "bin_start": 8,
            "count": 5
           },
           {
            "bin_end": 8.2,
            "bin_start": 8.1,
            "count": 0
           },
           {
            "bin_end": 8.3,
            "bin_start": 8.2,
            "count": 0
           },
           {
            "bin_end": 8.4,
            "bin_start": 8.3,
            "count": 0
           },
           {
            "bin_end": 8.5,
            "bin_start": 8.4,
            "count": 0
           }
          ],
          "max": "8",
          "min": "8",
          "nan_count": 0,
          "unique_count": 1
         }
        },
        {
         "dtype": "float64",
         "name": "displacement",
         "stats": {
          "histogram": [
           {
            "bin_end": 306.8,
            "bin_start": 302,
            "count": 2
           },
           {
            "bin_end": 311.6,
            "bin_start": 306.8,
            "count": 1
           },
           {
            "bin_end": 316.4,
            "bin_start": 311.6,
            "count": 0
           },
           {
            "bin_end": 321.2,
            "bin_start": 316.4,
            "count": 1
           },
           {
            "bin_end": 326,
            "bin_start": 321.2,
            "count": 0
           },
           {
            "bin_end": 330.8,
            "bin_start": 326,
            "count": 0
           },
           {
            "bin_end": 335.6,
            "bin_start": 330.8,
            "count": 0
           },
           {
            "bin_end": 340.4,
            "bin_start": 335.6,
            "count": 0
           },
           {
            "bin_end": 345.2,
            "bin_start": 340.4,
            "count": 0
           },
           {
            "bin_end": 350,
            "bin_start": 345.2,
            "count": 1
           }
          ],
          "max": "350.0",
          "min": "302.0",
          "nan_count": 0,
          "unique_count": 5
         }
        },
        {
         "dtype": "float64",
         "name": "horsepower",
         "stats": {
          "histogram": [
           {
            "bin_end": 133.5,
            "bin_start": 130,
            "count": 1
           },
           {
            "bin_end": 137,
            "bin_start": 133.5,
            "count": 0
           },
           {
            "bin_end": 140.5,
            "bin_start": 137,
            "count": 1
           },
           {
            "bin_end": 144,
            "bin_start": 140.5,
            "count": 0
           },
           {
            "bin_end": 147.5,
            "bin_start": 144,
            "count": 0
           },
           {
            "bin_end": 151,
            "bin_start": 147.5,
            "count": 2
           },
           {
            "bin_end": 154.5,
            "bin_start": 151,
            "count": 0
           },
           {
            "bin_end": 158,
            "bin_start": 154.5,
            "count": 0
           },
           {
            "bin_end": 161.5,
            "bin_start": 158,
            "count": 0
           },
           {
            "bin_end": 165,
            "bin_start": 161.5,
            "count": 1
           }
          ],
          "max": "165.0",
          "min": "130.0",
          "nan_count": 0,
          "unique_count": 4
         }
        },
        {
         "dtype": "int64",
         "name": "weight",
         "stats": {
          "histogram": [
           {
            "bin_end": 3459,
            "bin_start": 3433,
            "count": 3
           },
           {
            "bin_end": 3485,
            "bin_start": 3459,
            "count": 0
           },
           {
            "bin_end": 3511,
            "bin_start": 3485,
            "count": 1
           },
           {
            "bin_end": 3537,
            "bin_start": 3511,
            "count": 0
           },
           {
            "bin_end": 3563,
            "bin_start": 3537,
            "count": 0
           },
           {
            "bin_end": 3589,
            "bin_start": 3563,
            "count": 0
           },
           {
            "bin_end": 3615,
            "bin_start": 3589,
            "count": 0
           },
           {
            "bin_end": 3641,
            "bin_start": 3615,
            "count": 0
           },
           {
            "bin_end": 3667,
            "bin_start": 3641,
            "count": 0
           },
           {
            "bin_end": 3693,
            "bin_start": 3667,
            "count": 1
           }
          ],
          "max": "3693",
          "min": "3433",
          "nan_count": 0,
          "unique_count": 5
         }
        },
        {
         "dtype": "float64",
         "name": "acceleration",
         "stats": {
          "histogram": [
           {
            "bin_end": 10.65,
            "bin_start": 10.5,
            "count": 1
           },
           {
            "bin_end": 10.8,
            "bin_start": 10.65,
            "count": 0
           },
           {
            "bin_end": 10.95,
            "bin_start": 10.8,
            "count": 0
           },
           {
            "bin_end": 11.1,
            "bin_start": 10.95,
            "count": 1
           },
           {
            "bin_end": 11.25,
            "bin_start": 11.1,
            "count": 0
           },
           {
            "bin_end": 11.4,
            "bin_start": 11.25,
            "count": 0
           },
           {
            "bin_end": 11.55,
            "bin_start": 11.4,
            "count": 1
           },
           {
            "bin_end": 11.7,
            "bin_start": 11.55,
            "count": 0
           },
           {
            "bin_end": 11.85,
            "bin_start": 11.7,
            "count": 0
           },
           {
            "bin_end": 12,
            "bin_start": 11.85,
            "count": 2
           }
          ],
          "max": "12.0",
          "min": "10.5",
          "nan_count": 0,
          "unique_count": 4
         }
        },
        {
         "dtype": "int64",
         "name": "model_year",
         "stats": {
          "histogram": [
           {
            "bin_end": 69.6,
            "bin_start": 69.5,
            "count": 0
           },
           {
            "bin_end": 69.7,
            "bin_start": 69.6,
            "count": 0
           },
           {
            "bin_end": 69.8,
            "bin_start": 69.7,
            "count": 0
           },
           {
            "bin_end": 69.9,
            "bin_start": 69.8,
            "count": 0
           },
           {
            "bin_end": 70,
            "bin_start": 69.9,
            "count": 0
           },
           {
            "bin_end": 70.1,
            "bin_start": 70,
            "count": 5
           },
           {
            "bin_end": 70.2,
            "bin_start": 70.1,
            "count": 0
           },
           {
            "bin_end": 70.3,
            "bin_start": 70.2,
            "count": 0
           },
           {
            "bin_end": 70.4,
            "bin_start": 70.3,
            "count": 0
           },
           {
            "bin_end": 70.5,
            "bin_start": 70.4,
            "count": 0
           }
          ],
          "max": "70",
          "min": "70",
          "nan_count": 0,
          "unique_count": 1
         }
        },
        {
         "dtype": "object",
         "name": "origin",
         "stats": {
          "categories": [
           {
            "count": 5,
            "name": "usa"
           }
          ],
          "nan_count": 0,
          "unique_count": 1
         }
        },
        {
         "dtype": "object",
         "name": "name",
         "stats": {
          "categories": [
           {
            "count": 1,
            "name": "chevrolet chevelle malibu"
           },
           {
            "count": 1,
            "name": "buick skylark 320"
           },
           {
            "count": 3,
            "name": "3 others"
           }
          ],
          "nan_count": 0,
          "unique_count": 5
         }
        },
        {
         "dtype": "bool",
         "name": "newer_model",
         "stats": {
          "categories": [
           {
            "count": 5,
            "name": "False"
           }
          ],
          "nan_count": 0,
          "unique_count": 1
         }
        },
        {
         "dtype": "int64",
         "name": "_deepnote_index_column"
        }
       ],
       "row_count": 5,
       "rows": [
        {
         "_deepnote_index_column": "0",
         "acceleration": "12.0",
         "cylinders": "8",
         "displacement": "307.0",
         "horsepower": "130.0",
         "model_year": "70",
         "mpg": "18.0",
         "name": "chevrolet chevelle malibu",
         "newer_model": "False",
         "origin": "usa",
         "weight": "3504"
        },
        {
         "_deepnote_index_column": "1",
         "acceleration": "11.5",
         "cylinders": "8",
         "displacement": "350.0",
         "horsepower": "165.0",
         "model_year": "70",
         "mpg": "15.0",
         "name": "buick skylark 320",
         "newer_model": "False",
         "origin": "usa",
         "weight": "3693"
        },
        {
         "_deepnote_index_column": "2",
         "acceleration": "11.0",
         "cylinders": "8",
         "displacement": "318.0",
         "horsepower": "150.0",
         "model_year": "70",
         "mpg": "18.0",
         "name": "plymouth satellite",
         "newer_model": "False",
         "origin": "usa",
         "weight": "3436"
        },
        {
         "_deepnote_index_column": "3",
         "acceleration": "12.0",
         "cylinders": "8",
         "displacement": "304.0",
         "horsepower": "150.0",
         "model_year": "70",
         "mpg": "16.0",
         "name": "amc rebel sst",
         "newer_model": "False",
         "origin": "usa",
         "weight": "3433"
        },
        {
         "_deepnote_index_column": "4",
         "acceleration": "10.5",
         "cylinders": "8",
         "displacement": "302.0",
         "horsepower": "140.0",
         "model_year": "70",
         "mpg": "17.0",
         "name": "ford torino",
         "newer_model": "False",
         "origin": "usa",
         "weight": "3449"
        }
       ]
      },
      "text/html": [
       "<div>\n",
       "<style scoped>\n",
       "    .dataframe tbody tr th:only-of-type {\n",
       "        vertical-align: middle;\n",
       "    }\n",
       "\n",
       "    .dataframe tbody tr th {\n",
       "        vertical-align: top;\n",
       "    }\n",
       "\n",
       "    .dataframe thead th {\n",
       "        text-align: right;\n",
       "    }\n",
       "</style>\n",
       "<table border=\"1\" class=\"dataframe\">\n",
       "  <thead>\n",
       "    <tr style=\"text-align: right;\">\n",
       "      <th></th>\n",
       "      <th>mpg</th>\n",
       "      <th>cylinders</th>\n",
       "      <th>displacement</th>\n",
       "      <th>horsepower</th>\n",
       "      <th>weight</th>\n",
       "      <th>acceleration</th>\n",
       "      <th>model_year</th>\n",
       "      <th>origin</th>\n",
       "      <th>name</th>\n",
       "      <th>newer_model</th>\n",
       "    </tr>\n",
       "  </thead>\n",
       "  <tbody>\n",
       "    <tr>\n",
       "      <th>0</th>\n",
       "      <td>18.0</td>\n",
       "      <td>8</td>\n",
       "      <td>307.0</td>\n",
       "      <td>130.0</td>\n",
       "      <td>3504</td>\n",
       "      <td>12.0</td>\n",
       "      <td>70</td>\n",
       "      <td>usa</td>\n",
       "      <td>chevrolet chevelle malibu</td>\n",
       "      <td>False</td>\n",
       "    </tr>\n",
       "    <tr>\n",
       "      <th>1</th>\n",
       "      <td>15.0</td>\n",
       "      <td>8</td>\n",
       "      <td>350.0</td>\n",
       "      <td>165.0</td>\n",
       "      <td>3693</td>\n",
       "      <td>11.5</td>\n",
       "      <td>70</td>\n",
       "      <td>usa</td>\n",
       "      <td>buick skylark 320</td>\n",
       "      <td>False</td>\n",
       "    </tr>\n",
       "    <tr>\n",
       "      <th>2</th>\n",
       "      <td>18.0</td>\n",
       "      <td>8</td>\n",
       "      <td>318.0</td>\n",
       "      <td>150.0</td>\n",
       "      <td>3436</td>\n",
       "      <td>11.0</td>\n",
       "      <td>70</td>\n",
       "      <td>usa</td>\n",
       "      <td>plymouth satellite</td>\n",
       "      <td>False</td>\n",
       "    </tr>\n",
       "    <tr>\n",
       "      <th>3</th>\n",
       "      <td>16.0</td>\n",
       "      <td>8</td>\n",
       "      <td>304.0</td>\n",
       "      <td>150.0</td>\n",
       "      <td>3433</td>\n",
       "      <td>12.0</td>\n",
       "      <td>70</td>\n",
       "      <td>usa</td>\n",
       "      <td>amc rebel sst</td>\n",
       "      <td>False</td>\n",
       "    </tr>\n",
       "    <tr>\n",
       "      <th>4</th>\n",
       "      <td>17.0</td>\n",
       "      <td>8</td>\n",
       "      <td>302.0</td>\n",
       "      <td>140.0</td>\n",
       "      <td>3449</td>\n",
       "      <td>10.5</td>\n",
       "      <td>70</td>\n",
       "      <td>usa</td>\n",
       "      <td>ford torino</td>\n",
       "      <td>False</td>\n",
       "    </tr>\n",
       "  </tbody>\n",
       "</table>\n",
       "</div>"
      ],
      "text/plain": [
       "    mpg  cylinders  displacement  horsepower  weight  acceleration  \\\n",
       "0  18.0          8         307.0       130.0    3504          12.0   \n",
       "1  15.0          8         350.0       165.0    3693          11.5   \n",
       "2  18.0          8         318.0       150.0    3436          11.0   \n",
       "3  16.0          8         304.0       150.0    3433          12.0   \n",
       "4  17.0          8         302.0       140.0    3449          10.5   \n",
       "\n",
       "   model_year origin                       name  newer_model  \n",
       "0          70    usa  chevrolet chevelle malibu        False  \n",
       "1          70    usa          buick skylark 320        False  \n",
       "2          70    usa         plymouth satellite        False  \n",
       "3          70    usa              amc rebel sst        False  \n",
       "4          70    usa                ford torino        False  "
      ]
     },
     "execution_count": 24,
     "metadata": {},
     "output_type": "execute_result"
    }
   ],
   "source": [
    "cars[:5]"
   ]
  },
  {
   "cell_type": "code",
   "execution_count": 25,
   "metadata": {
    "cell_id": "d54e923a424c43f38130916cf9575f34",
    "deepnote_cell_type": "code",
    "deepnote_to_be_reexecuted": false,
    "execution_millis": 3,
    "execution_start": 1669555409531,
    "source_hash": "9d5e8028",
    "tags": []
   },
   "outputs": [
    {
     "data": {
      "text/plain": [
       "False    212\n",
       "True     173\n",
       "Name: newer_model, dtype: int64"
      ]
     },
     "execution_count": 25,
     "metadata": {},
     "output_type": "execute_result"
    }
   ],
   "source": [
    "cars.newer_model.value_counts()"
   ]
  },
  {
   "cell_type": "code",
   "execution_count": 26,
   "metadata": {
    "cell_id": "02591443d29f4761b50cd634c67633cf",
    "deepnote_cell_type": "code",
    "deepnote_to_be_reexecuted": false,
    "execution_millis": 327,
    "execution_start": 1669555456036,
    "source_hash": "d5578804",
    "tags": []
   },
   "outputs": [
    {
     "data": {
      "text/plain": [
       "<AxesSubplot: xlabel='origin', ylabel='mpg'>"
      ]
     },
     "execution_count": 26,
     "metadata": {},
     "output_type": "execute_result"
    },
    {
     "data": {
      "image/png": "[encoded data removed]",
      "text/plain": [
       "<Figure size 640x480 with 1 Axes>"
      ]
     },
     "metadata": {
      "image/png": {
       "height": 432,
       "width": 562
      }
     },
     "output_type": "display_data"
    }
   ],
   "source": [
    "sns.boxplot(data = cars, x = 'origin', y = 'mpg', hue = 'newer_model')"
   ]
  },
  {
   "cell_type": "code",
   "execution_count": 27,
   "metadata": {
    "cell_id": "2b2834fd8cc344d4bd013050a9667942",
    "deepnote_cell_type": "code",
    "deepnote_to_be_reexecuted": false,
    "execution_millis": 397,
    "execution_start": 1669555515178,
    "source_hash": "601e2440",
    "tags": []
   },
   "outputs": [
    {
     "data": {
      "text/plain": [
       "<AxesSubplot: xlabel='mpg', ylabel='origin'>"
      ]
     },
     "execution_count": 27,
     "metadata": {},
     "output_type": "execute_result"
    },
    {
     "data": {
      "image/png": "[encoded data removed]",
      "text/plain": [
       "<Figure size 640x480 with 1 Axes>"
      ]
     },
     "metadata": {
      "image/png": {
       "height": 432,
       "width": 593
      }
     },
     "output_type": "display_data"
    }
   ],
   "source": [
    "sns.boxplot(data = cars, y = 'origin', x = 'mpg', hue = 'newer_model')"
   ]
  },
  {
   "cell_type": "code",
   "execution_count": 29,
   "metadata": {
    "cell_id": "4786276e498341bf85b306e9720dadd2",
    "deepnote_cell_type": "code",
    "deepnote_to_be_reexecuted": false,
    "execution_millis": 974,
    "execution_start": 1669555580575,
    "source_hash": "d63f99a2",
    "tags": []
   },
   "outputs": [
    {
     "data": {
      "text/plain": [
       "<AxesSubplot: xlabel='mpg', ylabel='origin'>"
      ]
     },
     "execution_count": 29,
     "metadata": {},
     "output_type": "execute_result"
    },
    {
     "data": {
      "image/png": "[encoded data removed]",
      "text/plain": [
       "<Figure size 640x480 with 1 Axes>"
      ]
     },
     "metadata": {
      "image/png": {
       "height": 432,
       "width": 593
      }
     },
     "output_type": "display_data"
    }
   ],
   "source": [
    "sns.boxplot(data = cars, y = 'origin', x = 'mpg', order = ['japan', 'europe', 'usa'])"
   ]
  },
  {
   "cell_type": "code",
   "execution_count": 30,
   "metadata": {
    "cell_id": "b0b0afd02552402aa39a67d555025182",
    "deepnote_cell_type": "code",
    "deepnote_to_be_reexecuted": false,
    "execution_millis": 366,
    "execution_start": 1669555632753,
    "source_hash": "20d7e97a",
    "tags": []
   },
   "outputs": [
    {
     "data": {
      "text/plain": [
       "<AxesSubplot: xlabel='mpg', ylabel='origin'>"
      ]
     },
     "execution_count": 30,
     "metadata": {},
     "output_type": "execute_result"
    },
    {
     "data": {
      "image/png": "[encoded data removed]",
      "text/plain": [
       "<Figure size 640x480 with 1 Axes>"
      ]
     },
     "metadata": {
      "image/png": {
       "height": 432,
       "width": 593
      }
     },
     "output_type": "display_data"
    }
   ],
   "source": [
    "sns.boxplot(data = cars, y = 'origin', x = 'mpg', hue = 'newer_model', hue_order = [False, True])"
   ]
  },
  {
   "cell_type": "code",
   "execution_count": 32,
   "metadata": {
    "cell_id": "0e34230c9a74428a83a26361def3a736",
    "deepnote_cell_type": "code",
    "deepnote_to_be_reexecuted": false,
    "execution_millis": 295,
    "execution_start": 1669555662365,
    "source_hash": "cfb67cef",
    "tags": []
   },
   "outputs": [
    {
     "data": {
      "text/plain": [
       "<AxesSubplot: xlabel='mpg', ylabel='origin'>"
      ]
     },
     "execution_count": 32,
     "metadata": {},
     "output_type": "execute_result"
    },
    {
     "data": {
      "image/png": "[encoded data removed]",
      "text/plain": [
       "<Figure size 640x480 with 1 Axes>"
      ]
     },
     "metadata": {
      "image/png": {
       "height": 432,
       "width": 593
      }
     },
     "output_type": "display_data"
    }
   ],
   "source": [
    "sns.boxplot(data = cars, y = 'origin', x = 'mpg', color = 'green')"
   ]
  },
  {
   "cell_type": "code",
   "execution_count": 33,
   "metadata": {
    "cell_id": "ddada5f6fc69477084c0ff5c2109f8da",
    "deepnote_cell_type": "code",
    "deepnote_to_be_reexecuted": false,
    "execution_millis": 841,
    "execution_start": 1669555699000,
    "source_hash": "821fd842",
    "tags": []
   },
   "outputs": [
    {
     "data": {
      "text/plain": [
       "<AxesSubplot: xlabel='mpg', ylabel='origin'>"
      ]
     },
     "execution_count": 33,
     "metadata": {},
     "output_type": "execute_result"
    },
    {
     "data": {
      "image/png": "[encoded data removed]",
      "text/plain": [
       "<Figure size 640x480 with 1 Axes>"
      ]
     },
     "metadata": {
      "image/png": {
       "height": 432,
       "width": 593
      }
     },
     "output_type": "display_data"
    }
   ],
   "source": [
    "sns.boxplot(data = cars, y = 'origin', x = 'mpg', color = 'green', hue = 'newer_model')"
   ]
  },
  {
   "cell_type": "code",
   "execution_count": 34,
   "metadata": {
    "cell_id": "4be97eea4efc46e983d0740eaa99b874",
    "deepnote_cell_type": "code",
    "deepnote_to_be_reexecuted": false,
    "execution_millis": 262,
    "execution_start": 1669555715628,
    "source_hash": "26e33caa",
    "tags": []
   },
   "outputs": [
    {
     "data": {
      "text/plain": [
       "<AxesSubplot: xlabel='mpg', ylabel='origin'>"
      ]
     },
     "execution_count": 34,
     "metadata": {},
     "output_type": "execute_result"
    },
    {
     "data": {
      "image/png": "[encoded data removed]",
      "text/plain": [
       "<Figure size 640x480 with 1 Axes>"
      ]
     },
     "metadata": {
      "image/png": {
       "height": 432,
       "width": 593
      }
     },
     "output_type": "display_data"
    }
   ],
   "source": [
    "sns.boxplot(data = cars, y = 'origin', x = 'mpg', color = 'green', width = 0.5)"
   ]
  },
  {
   "cell_type": "code",
   "execution_count": 35,
   "metadata": {
    "cell_id": "ad46db06b84c450d84b4e3a5f875c73c",
    "deepnote_cell_type": "code",
    "deepnote_to_be_reexecuted": false,
    "execution_millis": 712,
    "execution_start": 1669555739232,
    "source_hash": "2b63ce99",
    "tags": []
   },
   "outputs": [
    {
     "data": {
      "text/plain": [
       "<AxesSubplot: xlabel='mpg', ylabel='origin'>"
      ]
     },
     "execution_count": 35,
     "metadata": {},
     "output_type": "execute_result"
    },
    {
     "data": {
      "image/png": "[encoded data removed]",
      "text/plain": [
       "<Figure size 640x480 with 1 Axes>"
      ]
     },
     "metadata": {
      "image/png": {
       "height": 432,
       "width": 593
      }
     },
     "output_type": "display_data"
    }
   ],
   "source": [
    "sns.boxplot(data = cars, y = 'origin', x = 'mpg', color = 'green', hue = 'newer_model', linewidth = 2)"
   ]
  },
  {
   "cell_type": "code",
   "execution_count": 36,
   "metadata": {
    "cell_id": "12bf7069a8fc4099aa7804623db88bc9",
    "deepnote_cell_type": "code",
    "deepnote_to_be_reexecuted": false,
    "execution_millis": 285,
    "execution_start": 1669555785473,
    "source_hash": "d1efec3",
    "tags": []
   },
   "outputs": [
    {
     "data": {
      "text/plain": [
       "<AxesSubplot: xlabel='mpg', ylabel='origin'>"
      ]
     },
     "execution_count": 36,
     "metadata": {},
     "output_type": "execute_result"
    },
    {
     "data": {
      "image/png": "[encoded data removed]",
      "text/plain": [
       "<Figure size 640x480 with 1 Axes>"
      ]
     },
     "metadata": {
      "image/png": {
       "height": 432,
       "width": 593
      }
     },
     "output_type": "display_data"
    }
   ],
   "source": [
    "sns.boxplot(data = cars, y = 'origin', x = 'mpg', color = 'green', hue = 'newer_model', linewidth = 2, whis = 1)\n",
    "#whister length = 1 times IQR"
   ]
  },
  {
   "cell_type": "code",
   "execution_count": 37,
   "metadata": {
    "cell_id": "bc0bcc7e79914b1992c464c665efee11",
    "deepnote_cell_type": "code",
    "deepnote_to_be_reexecuted": false,
    "execution_millis": 387,
    "execution_start": 1669555831059,
    "source_hash": "8d4735fa",
    "tags": []
   },
   "outputs": [
    {
     "data": {
      "text/plain": [
       "<AxesSubplot: xlabel='mpg', ylabel='origin'>"
      ]
     },
     "execution_count": 37,
     "metadata": {},
     "output_type": "execute_result"
    },
    {
     "data": {
      "image/png": "[encoded data removed]",
      "text/plain": [
       "<Figure size 640x480 with 1 Axes>"
      ]
     },
     "metadata": {
      "image/png": {
       "height": 432,
       "width": 593
      }
     },
     "output_type": "display_data"
    }
   ],
   "source": [
    "sns.boxplot(data = cars, y = 'origin', x = 'mpg', color = 'green', hue = 'newer_model', \n",
    "            linewidth = 2, whis = 1, fliersize = 2)"
   ]
  },
  {
   "cell_type": "code",
   "execution_count": 38,
   "metadata": {
    "cell_id": "3645dbb30be04a749031078bdcdf2727",
    "deepnote_cell_type": "code",
    "deepnote_to_be_reexecuted": false,
    "execution_millis": 366,
    "execution_start": 1669555902973,
    "source_hash": "b1a09b55",
    "tags": []
   },
   "outputs": [
    {
     "data": {
      "text/plain": [
       "<AxesSubplot: xlabel='mpg', ylabel='origin'>"
      ]
     },
     "execution_count": 38,
     "metadata": {},
     "output_type": "execute_result"
    },
    {
     "data": {
      "image/png": "[encoded data removed]",
      "text/plain": [
       "<Figure size 640x480 with 1 Axes>"
      ]
     },
     "metadata": {
      "image/png": {
       "height": 432,
       "width": 593
      }
     },
     "output_type": "display_data"
    }
   ],
   "source": [
    "sns.boxplot(data = cars, y = 'origin', x = 'mpg', color = 'green', hue = 'newer_model', \n",
    "            linewidth = 2, whis = 1, fliersize = 10, showcaps = False)\n",
    "#we can use the plt styling options for boxplots here too eg. showcaps"
   ]
  },
  {
   "cell_type": "code",
   "execution_count": null,
   "metadata": {
    "cell_id": "2bcd420f97934f09a4a5f0aa47fcc73d",
    "deepnote_cell_type": "code",
    "tags": []
   },
   "outputs": [],
   "source": []
  },
  {
   "cell_type": "markdown",
   "metadata": {
    "created_in_deepnote_cell": true,
    "deepnote_cell_type": "markdown",
    "tags": []
   },
   "source": [
    "<a style='text-decoration:none;line-height:16px;display:flex;color:#5B5B62;padding:10px;justify-content:end;' href='https://deepnote.com?utm_source=created-in-deepnote-cell&projectId=760abcd9-bcbc-46f9-9b81-93922dfb6d02' target=\"_blank\">\n",
    "<img alt='Created in deepnote.com' style='display:inline;max-height:16px;margin:0px;margin-right:7.5px;' src='data:image/svg+xml;base64,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' > </img>\n",
    "Created in <span style='font-weight:600;margin-left:4px;'>Deepnote</span></a>"
   ]
  }
 ],
 "metadata": {
  "deepnote": {},
  "deepnote_execution_queue": [],
  "deepnote_notebook_id": "38678b07b5f84268a10c0e5c96efba35",
  "deepnote_persisted_session": {
   "createdAt": "2022-11-27T14:01:18.982Z"
  },
  "kernelspec": {
   "display_name": "Python 3 (ipykernel)",
   "language": "python",
   "name": "python3"
  },
  "language_info": {
   "codemirror_mode": {
    "name": "ipython",
    "version": 3
   },
   "file_extension": ".py",
   "mimetype": "text/x-python",
   "name": "python",
   "nbconvert_exporter": "python",
   "pygments_lexer": "ipython3",
   "version": "3.9.13"
  }
 },
 "nbformat": 4,
 "nbformat_minor": 1
}
