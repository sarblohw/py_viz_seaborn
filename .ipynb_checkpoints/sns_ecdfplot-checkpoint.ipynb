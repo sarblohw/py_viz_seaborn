{
 "cells": [
  {
   "cell_type": "code",
   "execution_count": 1,
   "metadata": {
    "cell_id": "e2a680be6dde4351a1f76e3c24735545",
    "deepnote_cell_type": "code",
    "deepnote_to_be_reexecuted": false,
    "execution_millis": 1721,
    "execution_start": 1669548770519,
    "source_hash": "a9734683",
    "tags": []
   },
   "outputs": [],
   "source": [
    "import numpy as np\n",
    "import pandas as pd\n",
    "from matplotlib import pyplot as plt\n",
    "import seaborn as sns"
   ]
  },
  {
   "cell_type": "markdown",
   "metadata": {
    "cell_id": "bccc50b26e954b839374a45731891d68",
    "deepnote_cell_type": "markdown",
    "tags": []
   },
   "source": [
    "ECDF - Empirical Cumulative Distribution Function. \n",
    "\n",
    "description of the plot:\n",
    "[link][https://www.youtube.com/watch?v=Twh0w3gcrDI&list=PLtPIclEQf-3cG31dxSMZ8KTcDG7zYng1j&index=4]"
   ]
  },
  {
   "cell_type": "code",
   "execution_count": 2,
   "metadata": {
    "cell_id": "cc4852a3661f4175a0ed6cca143ee405",
    "deepnote_cell_type": "code",
    "deepnote_to_be_reexecuted": false,
    "execution_millis": 324,
    "execution_start": 1669548854054,
    "source_hash": "5f7d63f7",
    "tags": []
   },
   "outputs": [],
   "source": [
    "tips = sns.load_dataset('tips')"
   ]
  },
  {
   "cell_type": "code",
   "execution_count": 3,
   "metadata": {
    "cell_id": "dfded678e93b4519918caa98064b8c58",
    "deepnote_cell_type": "code",
    "deepnote_to_be_reexecuted": false,
    "execution_millis": 21,
    "execution_start": 1669548858811,
    "source_hash": "b7f6c96",
    "tags": []
   },
   "outputs": [
    {
     "data": {
      "application/vnd.deepnote.dataframe.v3+json": {
       "column_count": 7,
       "columns": [
        {
         "dtype": "float64",
         "name": "total_bill",
         "stats": {
          "histogram": [
           {
            "bin_end": 11.407,
            "bin_start": 10.34,
            "count": 1
           },
           {
            "bin_end": 12.474,
            "bin_start": 11.407,
            "count": 0
           },
           {
            "bin_end": 13.541,
            "bin_start": 12.474,
            "count": 0
           },
           {
            "bin_end": 14.608,
            "bin_start": 13.541,
            "count": 0
           },
           {
            "bin_end": 15.675,
            "bin_start": 14.608,
            "count": 0
           },
           {
            "bin_end": 16.742,
            "bin_start": 15.675,
            "count": 0
           },
           {
            "bin_end": 17.809,
            "bin_start": 16.742,
            "count": 1
           },
           {
            "bin_end": 18.876,
            "bin_start": 17.809,
            "count": 0
           },
           {
            "bin_end": 19.943,
            "bin_start": 18.876,
            "count": 0
           },
           {
            "bin_end": 21.01,
            "bin_start": 19.943,
            "count": 1
           }
          ],
          "max": "21.01",
          "min": "10.34",
          "nan_count": 0,
          "unique_count": 3
         }
        },
        {
         "dtype": "float64",
         "name": "tip",
         "stats": {
          "histogram": [
           {
            "bin_end": 1.2590000000000001,
            "bin_start": 1.01,
            "count": 1
           },
           {
            "bin_end": 1.508,
            "bin_start": 1.2590000000000001,
            "count": 0
           },
           {
            "bin_end": 1.7570000000000001,
            "bin_start": 1.508,
            "count": 1
           },
           {
            "bin_end": 2.0060000000000002,
            "bin_start": 1.7570000000000001,
            "count": 0
           },
           {
            "bin_end": 2.255,
            "bin_start": 2.0060000000000002,
            "count": 0
           },
           {
            "bin_end": 2.5040000000000004,
            "bin_start": 2.255,
            "count": 0
           },
           {
            "bin_end": 2.753,
            "bin_start": 2.5040000000000004,
            "count": 0
           },
           {
            "bin_end": 3.0020000000000002,
            "bin_start": 2.753,
            "count": 0
           },
           {
            "bin_end": 3.2510000000000003,
            "bin_start": 3.0020000000000002,
            "count": 0
           },
           {
            "bin_end": 3.5,
            "bin_start": 3.2510000000000003,
            "count": 1
           }
          ],
          "max": "3.5",
          "min": "1.01",
          "nan_count": 0,
          "unique_count": 3
         }
        },
        {
         "dtype": "category",
         "name": "sex",
         "stats": {
          "categories": [
           {
            "count": 2,
            "name": "Male"
           },
           {
            "count": 1,
            "name": "Female"
           }
          ],
          "nan_count": 0,
          "unique_count": 2
         }
        },
        {
         "dtype": "category",
         "name": "smoker",
         "stats": {
          "categories": [
           {
            "count": 3,
            "name": "No"
           }
          ],
          "nan_count": 0,
          "unique_count": 1
         }
        },
        {
         "dtype": "category",
         "name": "day",
         "stats": {
          "categories": [
           {
            "count": 3,
            "name": "Sun"
           }
          ],
          "nan_count": 0,
          "unique_count": 1
         }
        },
        {
         "dtype": "category",
         "name": "time",
         "stats": {
          "categories": [
           {
            "count": 3,
            "name": "Dinner"
           }
          ],
          "nan_count": 0,
          "unique_count": 1
         }
        },
        {
         "dtype": "int64",
         "name": "size",
         "stats": {
          "histogram": [
           {
            "bin_end": 2.1,
            "bin_start": 2,
            "count": 1
           },
           {
            "bin_end": 2.2,
            "bin_start": 2.1,
            "count": 0
           },
           {
            "bin_end": 2.3,
            "bin_start": 2.2,
            "count": 0
           },
           {
            "bin_end": 2.4,
            "bin_start": 2.3,
            "count": 0
           },
           {
            "bin_end": 2.5,
            "bin_start": 2.4,
            "count": 0
           },
           {
            "bin_end": 2.6,
            "bin_start": 2.5,
            "count": 0
           },
           {
            "bin_end": 2.7,
            "bin_start": 2.6,
            "count": 0
           },
           {
            "bin_end": 2.8,
            "bin_start": 2.7,
            "count": 0
           },
           {
            "bin_end": 2.9,
            "bin_start": 2.8,
            "count": 0
           },
           {
            "bin_end": 3,
            "bin_start": 2.9,
            "count": 2
           }
          ],
          "max": "3",
          "min": "2",
          "nan_count": 0,
          "unique_count": 2
         }
        },
        {
         "dtype": "int64",
         "name": "_deepnote_index_column"
        }
       ],
       "row_count": 3,
       "rows": [
        {
         "_deepnote_index_column": "0",
         "day": "Sun",
         "sex": "Female",
         "size": "2",
         "smoker": "No",
         "time": "Dinner",
         "tip": "1.01",
         "total_bill": "16.99"
        },
        {
         "_deepnote_index_column": "1",
         "day": "Sun",
         "sex": "Male",
         "size": "3",
         "smoker": "No",
         "time": "Dinner",
         "tip": "1.66",
         "total_bill": "10.34"
        },
        {
         "_deepnote_index_column": "2",
         "day": "Sun",
         "sex": "Male",
         "size": "3",
         "smoker": "No",
         "time": "Dinner",
         "tip": "3.5",
         "total_bill": "21.01"
        }
       ]
      },
      "text/html": [
       "<div>\n",
       "<style scoped>\n",
       "    .dataframe tbody tr th:only-of-type {\n",
       "        vertical-align: middle;\n",
       "    }\n",
       "\n",
       "    .dataframe tbody tr th {\n",
       "        vertical-align: top;\n",
       "    }\n",
       "\n",
       "    .dataframe thead th {\n",
       "        text-align: right;\n",
       "    }\n",
       "</style>\n",
       "<table border=\"1\" class=\"dataframe\">\n",
       "  <thead>\n",
       "    <tr style=\"text-align: right;\">\n",
       "      <th></th>\n",
       "      <th>total_bill</th>\n",
       "      <th>tip</th>\n",
       "      <th>sex</th>\n",
       "      <th>smoker</th>\n",
       "      <th>day</th>\n",
       "      <th>time</th>\n",
       "      <th>size</th>\n",
       "    </tr>\n",
       "  </thead>\n",
       "  <tbody>\n",
       "    <tr>\n",
       "      <th>0</th>\n",
       "      <td>16.99</td>\n",
       "      <td>1.01</td>\n",
       "      <td>Female</td>\n",
       "      <td>No</td>\n",
       "      <td>Sun</td>\n",
       "      <td>Dinner</td>\n",
       "      <td>2</td>\n",
       "    </tr>\n",
       "    <tr>\n",
       "      <th>1</th>\n",
       "      <td>10.34</td>\n",
       "      <td>1.66</td>\n",
       "      <td>Male</td>\n",
       "      <td>No</td>\n",
       "      <td>Sun</td>\n",
       "      <td>Dinner</td>\n",
       "      <td>3</td>\n",
       "    </tr>\n",
       "    <tr>\n",
       "      <th>2</th>\n",
       "      <td>21.01</td>\n",
       "      <td>3.50</td>\n",
       "      <td>Male</td>\n",
       "      <td>No</td>\n",
       "      <td>Sun</td>\n",
       "      <td>Dinner</td>\n",
       "      <td>3</td>\n",
       "    </tr>\n",
       "  </tbody>\n",
       "</table>\n",
       "</div>"
      ],
      "text/plain": [
       "   total_bill   tip     sex smoker  day    time  size\n",
       "0       16.99  1.01  Female     No  Sun  Dinner     2\n",
       "1       10.34  1.66    Male     No  Sun  Dinner     3\n",
       "2       21.01  3.50    Male     No  Sun  Dinner     3"
      ]
     },
     "execution_count": 3,
     "metadata": {},
     "output_type": "execute_result"
    }
   ],
   "source": [
    "tips.head(3)"
   ]
  },
  {
   "cell_type": "code",
   "execution_count": 18,
   "metadata": {
    "cell_id": "1751aaa4130b41dc898244ac3b4ad81e",
    "deepnote_cell_type": "code",
    "deepnote_to_be_reexecuted": false,
    "execution_millis": 195,
    "execution_start": 1669549285339,
    "source_hash": "d13dfb91",
    "tags": []
   },
   "outputs": [
    {
     "data": {
      "image/png": "[encoded data removed]",
      "text/plain": [
       "<Figure size 640x480 with 1 Axes>"
      ]
     },
     "metadata": {
      "image/png": {
       "height": 438,
       "width": 567
      }
     },
     "output_type": "display_data"
    }
   ],
   "source": [
    "sns.ecdfplot(data=tips, x='tip');\n",
    "#the vertical lines will show how much proportion a certain value had in the dataset\n",
    "#long vertical lines show that a lot of those values were there eg. 2, 3... we can see this using the value_counts function\n",
    "#long horizontal lines show the distance between the two value points in the dataset between which there wasnt any value"
   ]
  },
  {
   "cell_type": "code",
   "execution_count": 19,
   "metadata": {
    "cell_id": "1852b1e60cea48d7aea441ef4cfb9edc",
    "deepnote_cell_type": "code",
    "deepnote_to_be_reexecuted": false,
    "execution_millis": 575,
    "execution_start": 1669549331237,
    "source_hash": "6269360f",
    "tags": []
   },
   "outputs": [
    {
     "data": {
      "text/plain": [
       "1.0"
      ]
     },
     "execution_count": 19,
     "metadata": {},
     "output_type": "execute_result"
    }
   ],
   "source": [
    "tips.tip.min()"
   ]
  },
  {
   "cell_type": "code",
   "execution_count": 20,
   "metadata": {
    "cell_id": "cc2ae43907144451a8a2a9b560cde6b7",
    "deepnote_cell_type": "code",
    "deepnote_to_be_reexecuted": false,
    "execution_millis": 5,
    "execution_start": 1669549336929,
    "source_hash": "8fe8c553",
    "tags": []
   },
   "outputs": [
    {
     "data": {
      "text/plain": [
       "10.0"
      ]
     },
     "execution_count": 20,
     "metadata": {},
     "output_type": "execute_result"
    }
   ],
   "source": [
    "tips.tip.max()"
   ]
  },
  {
   "cell_type": "code",
   "execution_count": 21,
   "metadata": {
    "cell_id": "ccdedf3dbde04e86bfe59d1eb0db101a",
    "deepnote_cell_type": "code",
    "deepnote_to_be_reexecuted": false,
    "execution_millis": 93,
    "execution_start": 1669549341734,
    "source_hash": "b5b838a9",
    "tags": []
   },
   "outputs": [
    {
     "data": {
      "text/plain": [
       "2.99827868852459"
      ]
     },
     "execution_count": 21,
     "metadata": {},
     "output_type": "execute_result"
    }
   ],
   "source": [
    "tips.tip.mean()"
   ]
  },
  {
   "cell_type": "code",
   "execution_count": 22,
   "metadata": {
    "cell_id": "faef3027f6b4407abaf0b398c81dd022",
    "deepnote_cell_type": "code",
    "deepnote_to_be_reexecuted": false,
    "execution_millis": 4,
    "execution_start": 1669549380198,
    "source_hash": "39cd440e",
    "tags": []
   },
   "outputs": [
    {
     "data": {
      "text/plain": [
       "2.0    33\n",
       "3.0    23\n",
       "4.0    12\n",
       "2.5    10\n",
       "5.0    10\n",
       "Name: tip, dtype: int64"
      ]
     },
     "execution_count": 22,
     "metadata": {},
     "output_type": "execute_result"
    }
   ],
   "source": [
    "tips.tip.value_counts().head()"
   ]
  },
  {
   "cell_type": "code",
   "execution_count": 26,
   "metadata": {
    "cell_id": "1976be5d462e4d03b8bc2959eedfdf9b",
    "deepnote_cell_type": "code",
    "deepnote_to_be_reexecuted": false,
    "execution_millis": 971,
    "execution_start": 1669549817035,
    "source_hash": "dbb9aece",
    "tags": []
   },
   "outputs": [
    {
     "data": {
      "image/png": "[encoded data removed]",
      "text/plain": [
       "<Figure size 640x480 with 1 Axes>"
      ]
     },
     "metadata": {
      "image/png": {
       "height": 438,
       "width": 567
      }
     },
     "output_type": "display_data"
    }
   ],
   "source": [
    "sns.ecdfplot(data=tips, x='tip')\n",
    "plt.axvline(4, c='black')\n",
    "plt.show()\n",
    "#the plot shows we had 80% or 0.8 proportion of data fall below the number 4 which stands for $4 tips"
   ]
  },
  {
   "cell_type": "code",
   "execution_count": 29,
   "metadata": {
    "cell_id": "ed570c629f1c489c97f3e85800129293",
    "deepnote_cell_type": "code",
    "deepnote_to_be_reexecuted": false,
    "execution_millis": 876,
    "execution_start": 1669549967371,
    "source_hash": "dd54b879",
    "tags": []
   },
   "outputs": [
    {
     "data": {
      "image/png": "[encoded data removed]",
      "text/plain": [
       "<Figure size 640x480 with 1 Axes>"
      ]
     },
     "metadata": {
      "image/png": {
       "height": 432,
       "width": 573
      }
     },
     "output_type": "display_data"
    }
   ],
   "source": [
    "sns.ecdfplot(data = tips, y = 'tip');\n",
    "#transposing the plot"
   ]
  },
  {
   "cell_type": "code",
   "execution_count": 30,
   "metadata": {
    "cell_id": "696a9bbfbac444318c576fff88e4b3c6",
    "deepnote_cell_type": "code",
    "deepnote_to_be_reexecuted": false,
    "execution_millis": 187,
    "execution_start": 1669549968441,
    "source_hash": "c2a6ba5e",
    "tags": []
   },
   "outputs": [
    {
     "data": {
      "text/plain": [
       "<matplotlib.lines.Line2D at 0x7f756e967970>"
      ]
     },
     "execution_count": 30,
     "metadata": {},
     "output_type": "execute_result"
    },
    {
     "data": {
      "image/png": "[encoded data removed]",
      "text/plain": [
       "<Figure size 640x480 with 1 Axes>"
      ]
     },
     "metadata": {
      "image/png": {
       "height": 432,
       "width": 573
      }
     },
     "output_type": "display_data"
    }
   ],
   "source": [
    "sns.ecdfplot(data = tips, y = 'tip')\n",
    "plt.axvline(0.5, c = 'grey')\n",
    "#the vertical line here is at the 50th proportion - median of the value set"
   ]
  },
  {
   "cell_type": "code",
   "execution_count": 31,
   "metadata": {
    "cell_id": "5f40c1d377744bf28d1670f53e530cdc",
    "deepnote_cell_type": "code",
    "deepnote_to_be_reexecuted": false,
    "execution_millis": 1265,
    "execution_start": 1669549977160,
    "source_hash": "810b1c3d",
    "tags": []
   },
   "outputs": [
    {
     "data": {
      "text/plain": [
       "2.9"
      ]
     },
     "execution_count": 31,
     "metadata": {},
     "output_type": "execute_result"
    }
   ],
   "source": [
    "tips.tip.median()"
   ]
  },
  {
   "cell_type": "code",
   "execution_count": 32,
   "metadata": {
    "cell_id": "1b6f2ef86910416aabb6d74687e42a03",
    "deepnote_cell_type": "code",
    "deepnote_to_be_reexecuted": false,
    "execution_millis": 191,
    "execution_start": 1669550002903,
    "source_hash": "b7f6c96",
    "tags": []
   },
   "outputs": [
    {
     "data": {
      "application/vnd.deepnote.dataframe.v3+json": {
       "column_count": 7,
       "columns": [
        {
         "dtype": "float64",
         "name": "total_bill",
         "stats": {
          "histogram": [
           {
            "bin_end": 11.407,
            "bin_start": 10.34,
            "count": 1
           },
           {
            "bin_end": 12.474,
            "bin_start": 11.407,
            "count": 0
           },
           {
            "bin_end": 13.541,
            "bin_start": 12.474,
            "count": 0
           },
           {
            "bin_end": 14.608,
            "bin_start": 13.541,
            "count": 0
           },
           {
            "bin_end": 15.675,
            "bin_start": 14.608,
            "count": 0
           },
           {
            "bin_end": 16.742,
            "bin_start": 15.675,
            "count": 0
           },
           {
            "bin_end": 17.809,
            "bin_start": 16.742,
            "count": 1
           },
           {
            "bin_end": 18.876,
            "bin_start": 17.809,
            "count": 0
           },
           {
            "bin_end": 19.943,
            "bin_start": 18.876,
            "count": 0
           },
           {
            "bin_end": 21.01,
            "bin_start": 19.943,
            "count": 1
           }
          ],
          "max": "21.01",
          "min": "10.34",
          "nan_count": 0,
          "unique_count": 3
         }
        },
        {
         "dtype": "float64",
         "name": "tip",
         "stats": {
          "histogram": [
           {
            "bin_end": 1.2590000000000001,
            "bin_start": 1.01,
            "count": 1
           },
           {
            "bin_end": 1.508,
            "bin_start": 1.2590000000000001,
            "count": 0
           },
           {
            "bin_end": 1.7570000000000001,
            "bin_start": 1.508,
            "count": 1
           },
           {
            "bin_end": 2.0060000000000002,
            "bin_start": 1.7570000000000001,
            "count": 0
           },
           {
            "bin_end": 2.255,
            "bin_start": 2.0060000000000002,
            "count": 0
           },
           {
            "bin_end": 2.5040000000000004,
            "bin_start": 2.255,
            "count": 0
           },
           {
            "bin_end": 2.753,
            "bin_start": 2.5040000000000004,
            "count": 0
           },
           {
            "bin_end": 3.0020000000000002,
            "bin_start": 2.753,
            "count": 0
           },
           {
            "bin_end": 3.2510000000000003,
            "bin_start": 3.0020000000000002,
            "count": 0
           },
           {
            "bin_end": 3.5,
            "bin_start": 3.2510000000000003,
            "count": 1
           }
          ],
          "max": "3.5",
          "min": "1.01",
          "nan_count": 0,
          "unique_count": 3
         }
        },
        {
         "dtype": "category",
         "name": "sex",
         "stats": {
          "categories": [
           {
            "count": 2,
            "name": "Male"
           },
           {
            "count": 1,
            "name": "Female"
           }
          ],
          "nan_count": 0,
          "unique_count": 2
         }
        },
        {
         "dtype": "category",
         "name": "smoker",
         "stats": {
          "categories": [
           {
            "count": 3,
            "name": "No"
           }
          ],
          "nan_count": 0,
          "unique_count": 1
         }
        },
        {
         "dtype": "category",
         "name": "day",
         "stats": {
          "categories": [
           {
            "count": 3,
            "name": "Sun"
           }
          ],
          "nan_count": 0,
          "unique_count": 1
         }
        },
        {
         "dtype": "category",
         "name": "time",
         "stats": {
          "categories": [
           {
            "count": 3,
            "name": "Dinner"
           }
          ],
          "nan_count": 0,
          "unique_count": 1
         }
        },
        {
         "dtype": "int64",
         "name": "size",
         "stats": {
          "histogram": [
           {
            "bin_end": 2.1,
            "bin_start": 2,
            "count": 1
           },
           {
            "bin_end": 2.2,
            "bin_start": 2.1,
            "count": 0
           },
           {
            "bin_end": 2.3,
            "bin_start": 2.2,
            "count": 0
           },
           {
            "bin_end": 2.4,
            "bin_start": 2.3,
            "count": 0
           },
           {
            "bin_end": 2.5,
            "bin_start": 2.4,
            "count": 0
           },
           {
            "bin_end": 2.6,
            "bin_start": 2.5,
            "count": 0
           },
           {
            "bin_end": 2.7,
            "bin_start": 2.6,
            "count": 0
           },
           {
            "bin_end": 2.8,
            "bin_start": 2.7,
            "count": 0
           },
           {
            "bin_end": 2.9,
            "bin_start": 2.8,
            "count": 0
           },
           {
            "bin_end": 3,
            "bin_start": 2.9,
            "count": 2
           }
          ],
          "max": "3",
          "min": "2",
          "nan_count": 0,
          "unique_count": 2
         }
        },
        {
         "dtype": "int64",
         "name": "_deepnote_index_column"
        }
       ],
       "row_count": 3,
       "rows": [
        {
         "_deepnote_index_column": "0",
         "day": "Sun",
         "sex": "Female",
         "size": "2",
         "smoker": "No",
         "time": "Dinner",
         "tip": "1.01",
         "total_bill": "16.99"
        },
        {
         "_deepnote_index_column": "1",
         "day": "Sun",
         "sex": "Male",
         "size": "3",
         "smoker": "No",
         "time": "Dinner",
         "tip": "1.66",
         "total_bill": "10.34"
        },
        {
         "_deepnote_index_column": "2",
         "day": "Sun",
         "sex": "Male",
         "size": "3",
         "smoker": "No",
         "time": "Dinner",
         "tip": "3.5",
         "total_bill": "21.01"
        }
       ]
      },
      "text/html": [
       "<div>\n",
       "<style scoped>\n",
       "    .dataframe tbody tr th:only-of-type {\n",
       "        vertical-align: middle;\n",
       "    }\n",
       "\n",
       "    .dataframe tbody tr th {\n",
       "        vertical-align: top;\n",
       "    }\n",
       "\n",
       "    .dataframe thead th {\n",
       "        text-align: right;\n",
       "    }\n",
       "</style>\n",
       "<table border=\"1\" class=\"dataframe\">\n",
       "  <thead>\n",
       "    <tr style=\"text-align: right;\">\n",
       "      <th></th>\n",
       "      <th>total_bill</th>\n",
       "      <th>tip</th>\n",
       "      <th>sex</th>\n",
       "      <th>smoker</th>\n",
       "      <th>day</th>\n",
       "      <th>time</th>\n",
       "      <th>size</th>\n",
       "    </tr>\n",
       "  </thead>\n",
       "  <tbody>\n",
       "    <tr>\n",
       "      <th>0</th>\n",
       "      <td>16.99</td>\n",
       "      <td>1.01</td>\n",
       "      <td>Female</td>\n",
       "      <td>No</td>\n",
       "      <td>Sun</td>\n",
       "      <td>Dinner</td>\n",
       "      <td>2</td>\n",
       "    </tr>\n",
       "    <tr>\n",
       "      <th>1</th>\n",
       "      <td>10.34</td>\n",
       "      <td>1.66</td>\n",
       "      <td>Male</td>\n",
       "      <td>No</td>\n",
       "      <td>Sun</td>\n",
       "      <td>Dinner</td>\n",
       "      <td>3</td>\n",
       "    </tr>\n",
       "    <tr>\n",
       "      <th>2</th>\n",
       "      <td>21.01</td>\n",
       "      <td>3.50</td>\n",
       "      <td>Male</td>\n",
       "      <td>No</td>\n",
       "      <td>Sun</td>\n",
       "      <td>Dinner</td>\n",
       "      <td>3</td>\n",
       "    </tr>\n",
       "  </tbody>\n",
       "</table>\n",
       "</div>"
      ],
      "text/plain": [
       "   total_bill   tip     sex smoker  day    time  size\n",
       "0       16.99  1.01  Female     No  Sun  Dinner     2\n",
       "1       10.34  1.66    Male     No  Sun  Dinner     3\n",
       "2       21.01  3.50    Male     No  Sun  Dinner     3"
      ]
     },
     "execution_count": 32,
     "metadata": {},
     "output_type": "execute_result"
    }
   ],
   "source": [
    "tips.head(3)"
   ]
  },
  {
   "cell_type": "code",
   "execution_count": 34,
   "metadata": {
    "cell_id": "ee31c6ce99c1479783d95796c5dbe427",
    "deepnote_cell_type": "code",
    "deepnote_to_be_reexecuted": false,
    "execution_millis": 994,
    "execution_start": 1669550137295,
    "source_hash": "93ca1a3e",
    "tags": []
   },
   "outputs": [
    {
     "data": {
      "image/png": "[encoded data removed]",
      "text/plain": [
       "<Figure size 640x480 with 1 Axes>"
      ]
     },
     "metadata": {
      "image/png": {
       "height": 438,
       "width": 567
      }
     },
     "output_type": "display_data"
    }
   ],
   "source": [
    "sns.ecdfplot(data=tips, x='tip', hue='time');\n",
    "#dinner tips are generally a bit larger than lunch tips\n",
    "#seems like a lot of $2 tips at lunch and more $3 at dinner as compared to $3 tips at lunch"
   ]
  },
  {
   "cell_type": "code",
   "execution_count": 35,
   "metadata": {
    "cell_id": "c8798734815a4c638a4430300e059284",
    "deepnote_cell_type": "code",
    "deepnote_to_be_reexecuted": false,
    "execution_millis": 244,
    "execution_start": 1669550186068,
    "source_hash": "d21cdede",
    "tags": []
   },
   "outputs": [
    {
     "data": {
      "text/plain": [
       "<AxesSubplot: xlabel='tip', ylabel='Proportion'>"
      ]
     },
     "execution_count": 35,
     "metadata": {},
     "output_type": "execute_result"
    },
    {
     "data": {
      "image/png": "[encoded data removed]",
      "text/plain": [
       "<Figure size 640x480 with 1 Axes>"
      ]
     },
     "metadata": {
      "image/png": {
       "height": 438,
       "width": 567
      }
     },
     "output_type": "display_data"
    }
   ],
   "source": [
    "sns.ecdfplot(data = tips, x = 'tip', hue = 'day')"
   ]
  },
  {
   "cell_type": "code",
   "execution_count": 36,
   "metadata": {
    "cell_id": "d931dc47dd6d44df9bc3d88c5798a334",
    "deepnote_cell_type": "code",
    "deepnote_to_be_reexecuted": false,
    "execution_millis": 240,
    "execution_start": 1669550275351,
    "source_hash": "87db07fd",
    "tags": []
   },
   "outputs": [
    {
     "data": {
      "text/plain": [
       "<AxesSubplot: xlabel='tip', ylabel='Count'>"
      ]
     },
     "execution_count": 36,
     "metadata": {},
     "output_type": "execute_result"
    },
    {
     "data": {
      "image/png": "[encoded data removed]",
      "text/plain": [
       "<Figure size 640x480 with 1 Axes>"
      ]
     },
     "metadata": {
      "image/png": {
       "height": 432,
       "width": 562
      }
     },
     "output_type": "display_data"
    }
   ],
   "source": [
    "sns.ecdfplot(data = tips, x = 'tip', hue = 'day', stat = 'count')\n",
    "# switching stat to count"
   ]
  },
  {
   "cell_type": "code",
   "execution_count": 37,
   "metadata": {
    "cell_id": "b231db1df8e54633b0b7506763cc6cbf",
    "deepnote_cell_type": "code",
    "deepnote_to_be_reexecuted": false,
    "execution_millis": 198,
    "execution_start": 1669550341935,
    "source_hash": "5a257b6d",
    "tags": []
   },
   "outputs": [
    {
     "data": {
      "text/plain": [
       "<AxesSubplot: xlabel='tip', ylabel='Count'>"
      ]
     },
     "execution_count": 37,
     "metadata": {},
     "output_type": "execute_result"
    },
    {
     "data": {
      "image/png": "[encoded data removed]",
      "text/plain": [
       "<Figure size 640x480 with 1 Axes>"
      ]
     },
     "metadata": {
      "image/png": {
       "height": 432,
       "width": 571
      }
     },
     "output_type": "display_data"
    }
   ],
   "source": [
    "sns.ecdfplot(data = tips, x = 'tip', stat = 'count', complementary = True)"
   ]
  },
  {
   "cell_type": "code",
   "execution_count": 38,
   "metadata": {
    "cell_id": "d38b8355c8d3415d99af3567f827e08b",
    "deepnote_cell_type": "code",
    "deepnote_to_be_reexecuted": false,
    "execution_millis": 516,
    "execution_start": 1669550555269,
    "source_hash": "10da173d",
    "tags": []
   },
   "outputs": [
    {
     "data": {
      "text/plain": [
       "<AxesSubplot: xlabel='tip', ylabel='Proportion'>"
      ]
     },
     "execution_count": 38,
     "metadata": {},
     "output_type": "execute_result"
    },
    {
     "data": {
      "image/png": "[encoded data removed]",
      "text/plain": [
       "<Figure size 640x480 with 1 Axes>"
      ]
     },
     "metadata": {
      "image/png": {
       "height": 438,
       "width": 567
      }
     },
     "output_type": "display_data"
    }
   ],
   "source": [
    "sns.ecdfplot(data = tips, x = 'tip', weights = 'tip')\n",
    "#using weights to weigh proportions"
   ]
  },
  {
   "cell_type": "code",
   "execution_count": 42,
   "metadata": {
    "cell_id": "968780781e0340cabc54666c7aa0c8f9",
    "deepnote_cell_type": "code",
    "deepnote_to_be_reexecuted": false,
    "execution_millis": 1481,
    "execution_start": 1669553098278,
    "source_hash": "b722c869",
    "tags": []
   },
   "outputs": [
    {
     "data": {
      "text/plain": [
       "<matplotlib.lines.Line2D at 0x7f756d6cea90>"
      ]
     },
     "execution_count": 42,
     "metadata": {},
     "output_type": "execute_result"
    },
    {
     "data": {
      "image/png": "[encoded data removed]",
      "text/plain": [
       "<Figure size 640x480 with 1 Axes>"
      ]
     },
     "metadata": {
      "image/png": {
       "height": 438,
       "width": 567
      }
     },
     "output_type": "display_data"
    }
   ],
   "source": [
    "sns.ecdfplot(data = tips, x = 'tip', weights = 'tip')\n",
    "plt.axhline(0.5, c='grey', linestyle = '--')\n",
    "#we made 50% of our tips by the time we reach ~3.x in our dataset\n",
    "#the proportion in this example now shows in $ as it is weighed by tip"
   ]
  },
  {
   "cell_type": "code",
   "execution_count": 41,
   "metadata": {
    "cell_id": "84099ed1637f4a9e956d7cf72aa21c0d",
    "deepnote_cell_type": "code",
    "deepnote_to_be_reexecuted": false,
    "execution_millis": 168,
    "execution_start": 1669551451939,
    "source_hash": "2054858e",
    "tags": []
   },
   "outputs": [
    {
     "data": {
      "text/plain": [
       "<AxesSubplot: xlabel='tip', ylabel='Proportion'>"
      ]
     },
     "execution_count": 41,
     "metadata": {},
     "output_type": "execute_result"
    },
    {
     "data": {
      "image/png": "[encoded data removed]",
      "text/plain": [
       "<Figure size 640x480 with 1 Axes>"
      ]
     },
     "metadata": {
      "image/png": {
       "height": 438,
       "width": 567
      }
     },
     "output_type": "display_data"
    }
   ],
   "source": [
    "sns.ecdfplot(data = tips, x = 'tip', weights = 'size')"
   ]
  },
  {
   "cell_type": "code",
   "execution_count": 44,
   "metadata": {
    "cell_id": "6eef2155e2ca44cc9f26c88ed4844fde",
    "deepnote_cell_type": "code",
    "deepnote_to_be_reexecuted": false,
    "execution_millis": 1440,
    "execution_start": 1669553151678,
    "source_hash": "5a2795fa",
    "tags": []
   },
   "outputs": [
    {
     "data": {
      "text/plain": [
       "<AxesSubplot: xlabel='tip', ylabel='Proportion'>"
      ]
     },
     "execution_count": 44,
     "metadata": {},
     "output_type": "execute_result"
    },
    {
     "data": {
      "image/png": "[encoded data removed]",
      "text/plain": [
       "<Figure size 640x480 with 1 Axes>"
      ]
     },
     "metadata": {
      "image/png": {
       "height": 438,
       "width": 567
      }
     },
     "output_type": "display_data"
    }
   ],
   "source": [
    "sns.ecdfplot(data = tips, x = 'tip', hue = 'day', palette = 'summer', lw = 2)"
   ]
  },
  {
   "cell_type": "code",
   "execution_count": 45,
   "metadata": {
    "cell_id": "b778536a26584415ac223de6cf01d39e",
    "deepnote_cell_type": "code",
    "deepnote_to_be_reexecuted": false,
    "execution_millis": 1603,
    "execution_start": 1669553185874,
    "source_hash": "c1954dfc",
    "tags": []
   },
   "outputs": [
    {
     "data": {
      "image/png": "[encoded data removed]",
      "text/plain": [
       "<Figure size 640x480 with 1 Axes>"
      ]
     },
     "metadata": {
      "image/png": {
       "height": 438,
       "width": 567
      }
     },
     "output_type": "display_data"
    }
   ],
   "source": [
    "p = sns.ecdfplot(data = tips, x = 'tip', hue = 'day', palette = 'summer', lw = 2)"
   ]
  },
  {
   "cell_type": "code",
   "execution_count": 46,
   "metadata": {
    "cell_id": "6af36be66d85474ba400ddf5d428539f",
    "deepnote_cell_type": "code",
    "deepnote_to_be_reexecuted": false,
    "execution_millis": 994,
    "execution_start": 1669553186497,
    "source_hash": "1b41db0d",
    "tags": []
   },
   "outputs": [
    {
     "data": {
      "text/plain": [
       "matplotlib.axes._subplots.AxesSubplot"
      ]
     },
     "execution_count": 46,
     "metadata": {},
     "output_type": "execute_result"
    }
   ],
   "source": [
    "type(p)"
   ]
  },
  {
   "cell_type": "code",
   "execution_count": 54,
   "metadata": {
    "cell_id": "ade50c72ce2441318cd7f4e6c5c0ffe3",
    "deepnote_cell_type": "code",
    "deepnote_to_be_reexecuted": false,
    "execution_millis": 263,
    "execution_start": 1669553389818,
    "source_hash": "c31c30",
    "tags": []
   },
   "outputs": [
    {
     "data": {
      "image/png": "[encoded data removed]",
      "text/plain": [
       "<Figure size 640x480 with 1 Axes>"
      ]
     },
     "metadata": {
      "image/png": {
       "height": 455,
       "width": 567
      }
     },
     "output_type": "display_data"
    }
   ],
   "source": [
    "p= sns.ecdfplot(data = tips, x = 'tip', hue = 'day', palette = 'summer', lw = 2)\n",
    "p.legend(['Thursday', 'Friday', 'Saturday', 'Sunday'], loc='lower right', title='Day of Week')\n",
    "p.set_title('ecdf_plot')\n",
    "plt.show()"
   ]
  },
  {
   "cell_type": "code",
   "execution_count": null,
   "metadata": {
    "cell_id": "9d0bb25128da41338e2028ef25e4b03b",
    "deepnote_cell_type": "code",
    "tags": []
   },
   "outputs": [],
   "source": []
  },
  {
   "cell_type": "markdown",
   "metadata": {
    "created_in_deepnote_cell": true,
    "deepnote_cell_type": "markdown",
    "tags": []
   },
   "source": [
    "<a style='text-decoration:none;line-height:16px;display:flex;color:#5B5B62;padding:10px;justify-content:end;' href='https://deepnote.com?utm_source=created-in-deepnote-cell&projectId=8d27d8a4-98d4-44dd-a2af-fc35c2c15328' target=\"_blank\">\n",
    "<img alt='Created in deepnote.com' style='display:inline;max-height:16px;margin:0px;margin-right:7.5px;' src='data:image/svg+xml;base64,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' > </img>\n",
    "Created in <span style='font-weight:600;margin-left:4px;'>Deepnote</span></a>"
   ]
  }
 ],
 "metadata": {
  "deepnote": {},
  "deepnote_execution_queue": [],
  "deepnote_notebook_id": "12a009562cc8443e99100f9fcd1bc634",
  "kernelspec": {
   "display_name": "Python 3 (ipykernel)",
   "language": "python",
   "name": "python3"
  },
  "language_info": {
   "codemirror_mode": {
    "name": "ipython",
    "version": 3
   },
   "file_extension": ".py",
   "mimetype": "text/x-python",
   "name": "python",
   "nbconvert_exporter": "python",
   "pygments_lexer": "ipython3",
   "version": "3.9.13"
  }
 },
 "nbformat": 4,
 "nbformat_minor": 1
}
