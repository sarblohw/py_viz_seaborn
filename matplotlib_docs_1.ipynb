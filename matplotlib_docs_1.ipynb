{
 "cells":[
  {
   "cell_type":"code",
   "source":[
    "import numpy as np\n",
    "import pandas as pd\n",
    "from matplotlib import pyplot as plt\n",
    "import seaborn as sns"
   ],
   "execution_count":1,
   "outputs":[
    
   ],
   "metadata":{
    "datalore":{
     "node_id":"P230k08QSTAkuEgEgfMGgX",
     "type":"CODE",
     "hide_input_from_viewers":true,
     "hide_output_from_viewers":true
    }
   }
  },
  {
   "cell_type":"code",
   "source":[
    "df = pd.read_csv('Pokemon.csv', encoding='latin')"
   ],
   "execution_count":5,
   "outputs":[
    
   ],
   "metadata":{
    "datalore":{
     "node_id":"ktm3zM6lSvBLBWA5JEpMSM",
     "type":"CODE",
     "hide_input_from_viewers":true,
     "hide_output_from_viewers":true
    }
   }
  },
  {
   "cell_type":"code",
   "source":[
    "df.head(3)"
   ],
   "execution_count":6,
   "outputs":[
    {
     "data":{
      "text\/html":[
       "<div>\n",
       "<style scoped>\n",
       "    .dataframe tbody tr th:only-of-type {\n",
       "        vertical-align: middle;\n",
       "    }\n",
       "\n",
       "    .dataframe tbody tr th {\n",
       "        vertical-align: top;\n",
       "    }\n",
       "\n",
       "    .dataframe thead th {\n",
       "        text-align: right;\n",
       "    }\n",
       "<\/style>\n",
       "<table border=\"1\" class=\"dataframe\">\n",
       "  <thead>\n",
       "    <tr style=\"text-align: right;\">\n",
       "      <th><\/th>\n",
       "      <th>#<\/th>\n",
       "      <th>Name<\/th>\n",
       "      <th>Type 1<\/th>\n",
       "      <th>Type 2<\/th>\n",
       "      <th>Total<\/th>\n",
       "      <th>HP<\/th>\n",
       "      <th>Attack<\/th>\n",
       "      <th>Defense<\/th>\n",
       "      <th>Sp. Atk<\/th>\n",
       "      <th>Sp. Def<\/th>\n",
       "      <th>Speed<\/th>\n",
       "      <th>Stage<\/th>\n",
       "      <th>Legendary<\/th>\n",
       "    <\/tr>\n",
       "  <\/thead>\n",
       "  <tbody>\n",
       "    <tr>\n",
       "      <th>0<\/th>\n",
       "      <td>1<\/td>\n",
       "      <td>Bulbasaur<\/td>\n",
       "      <td>Grass<\/td>\n",
       "      <td>Poison<\/td>\n",
       "      <td>318<\/td>\n",
       "      <td>45<\/td>\n",
       "      <td>49<\/td>\n",
       "      <td>49<\/td>\n",
       "      <td>65<\/td>\n",
       "      <td>65<\/td>\n",
       "      <td>45<\/td>\n",
       "      <td>1<\/td>\n",
       "      <td>False<\/td>\n",
       "    <\/tr>\n",
       "    <tr>\n",
       "      <th>1<\/th>\n",
       "      <td>2<\/td>\n",
       "      <td>Ivysaur<\/td>\n",
       "      <td>Grass<\/td>\n",
       "      <td>Poison<\/td>\n",
       "      <td>405<\/td>\n",
       "      <td>60<\/td>\n",
       "      <td>62<\/td>\n",
       "      <td>63<\/td>\n",
       "      <td>80<\/td>\n",
       "      <td>80<\/td>\n",
       "      <td>60<\/td>\n",
       "      <td>2<\/td>\n",
       "      <td>False<\/td>\n",
       "    <\/tr>\n",
       "    <tr>\n",
       "      <th>2<\/th>\n",
       "      <td>3<\/td>\n",
       "      <td>Venusaur<\/td>\n",
       "      <td>Grass<\/td>\n",
       "      <td>Poison<\/td>\n",
       "      <td>525<\/td>\n",
       "      <td>80<\/td>\n",
       "      <td>82<\/td>\n",
       "      <td>83<\/td>\n",
       "      <td>100<\/td>\n",
       "      <td>100<\/td>\n",
       "      <td>80<\/td>\n",
       "      <td>3<\/td>\n",
       "      <td>False<\/td>\n",
       "    <\/tr>\n",
       "  <\/tbody>\n",
       "<\/table>\n",
       "<\/div>"
      ]
     },
     "metadata":{
      
     },
     "output_type":"display_data"
    }
   ],
   "metadata":{
    "datalore":{
     "node_id":"kUFyziblq0u094nS9Xv344",
     "type":"CODE",
     "hide_input_from_viewers":true,
     "hide_output_from_viewers":true
    }
   }
  },
  {
   "cell_type":"code",
   "source":[
    "df.shape"
   ],
   "execution_count":7,
   "outputs":[
    {
     "data":{
      "text\/plain":[
       "(151, 13)"
      ]
     },
     "metadata":{
      
     },
     "output_type":"display_data"
    }
   ],
   "metadata":{
    "datalore":{
     "node_id":"TiJTMTbPkcAhViekZftckB",
     "type":"CODE",
     "hide_input_from_viewers":true,
     "hide_output_from_viewers":true
    }
   }
  },
  {
   "cell_type":"code",
   "source":[
    "df.info()"
   ],
   "execution_count":9,
   "outputs":[
    {
     "name":"stdout",
     "text":[
      "<class 'pandas.core.frame.DataFrame'>\n",
      "RangeIndex: 151 entries, 0 to 150\n",
      "Data columns (total 13 columns):\n",
      " #   Column     Non-Null Count  Dtype \n",
      "---  ------     --------------  ----- \n",
      " 0   #          151 non-null    int64 \n",
      " 1   Name       151 non-null    object\n",
      " 2   Type 1     151 non-null    object\n",
      " 3   Type 2     67 non-null     object\n",
      " 4   Total      151 non-null    int64 \n",
      " 5   HP         151 non-null    int64 \n",
      " 6   Attack     151 non-null    int64 \n",
      " 7   Defense    151 non-null    int64 \n",
      " 8   Sp. Atk    151 non-null    int64 \n",
      " 9   Sp. Def    151 non-null    int64 \n",
      " 10  Speed      151 non-null    int64 \n",
      " 11  Stage      151 non-null    int64 \n",
      " 12  Legendary  151 non-null    bool  \n",
      "dtypes: bool(1), int64(9), object(3)\n",
      "memory usage: 14.4+ KB\n"
     ],
     "output_type":"stream"
    }
   ],
   "metadata":{
    "datalore":{
     "node_id":"lTizea42dQQdM03R7gSdQA",
     "type":"CODE",
     "hide_input_from_viewers":true,
     "hide_output_from_viewers":true
    }
   }
  },
  {
   "cell_type":"code",
   "source":[
    "df.describe(include='object')"
   ],
   "execution_count":11,
   "outputs":[
    {
     "data":{
      "text\/html":[
       "<div>\n",
       "<style scoped>\n",
       "    .dataframe tbody tr th:only-of-type {\n",
       "        vertical-align: middle;\n",
       "    }\n",
       "\n",
       "    .dataframe tbody tr th {\n",
       "        vertical-align: top;\n",
       "    }\n",
       "\n",
       "    .dataframe thead th {\n",
       "        text-align: right;\n",
       "    }\n",
       "<\/style>\n",
       "<table border=\"1\" class=\"dataframe\">\n",
       "  <thead>\n",
       "    <tr style=\"text-align: right;\">\n",
       "      <th><\/th>\n",
       "      <th>Name<\/th>\n",
       "      <th>Type 1<\/th>\n",
       "      <th>Type 2<\/th>\n",
       "    <\/tr>\n",
       "  <\/thead>\n",
       "  <tbody>\n",
       "    <tr>\n",
       "      <th>count<\/th>\n",
       "      <td>151<\/td>\n",
       "      <td>151<\/td>\n",
       "      <td>67<\/td>\n",
       "    <\/tr>\n",
       "    <tr>\n",
       "      <th>unique<\/th>\n",
       "      <td>151<\/td>\n",
       "      <td>15<\/td>\n",
       "      <td>11<\/td>\n",
       "    <\/tr>\n",
       "    <tr>\n",
       "      <th>top<\/th>\n",
       "      <td>Bulbasaur<\/td>\n",
       "      <td>Water<\/td>\n",
       "      <td>Poison<\/td>\n",
       "    <\/tr>\n",
       "    <tr>\n",
       "      <th>freq<\/th>\n",
       "      <td>1<\/td>\n",
       "      <td>28<\/td>\n",
       "      <td>19<\/td>\n",
       "    <\/tr>\n",
       "  <\/tbody>\n",
       "<\/table>\n",
       "<\/div>"
      ]
     },
     "metadata":{
      
     },
     "output_type":"display_data"
    }
   ],
   "metadata":{
    "datalore":{
     "node_id":"zcdVJeLYldjBhP9Rp43BE8",
     "type":"CODE",
     "hide_input_from_viewers":true,
     "hide_output_from_viewers":true
    }
   }
  },
  {
   "cell_type":"code",
   "source":[
    "df.describe()"
   ],
   "execution_count":12,
   "outputs":[
    {
     "data":{
      "text\/html":[
       "<div>\n",
       "<style scoped>\n",
       "    .dataframe tbody tr th:only-of-type {\n",
       "        vertical-align: middle;\n",
       "    }\n",
       "\n",
       "    .dataframe tbody tr th {\n",
       "        vertical-align: top;\n",
       "    }\n",
       "\n",
       "    .dataframe thead th {\n",
       "        text-align: right;\n",
       "    }\n",
       "<\/style>\n",
       "<table border=\"1\" class=\"dataframe\">\n",
       "  <thead>\n",
       "    <tr style=\"text-align: right;\">\n",
       "      <th><\/th>\n",
       "      <th>#<\/th>\n",
       "      <th>Total<\/th>\n",
       "      <th>HP<\/th>\n",
       "      <th>Attack<\/th>\n",
       "      <th>Defense<\/th>\n",
       "      <th>Sp. Atk<\/th>\n",
       "      <th>Sp. Def<\/th>\n",
       "      <th>Speed<\/th>\n",
       "      <th>Stage<\/th>\n",
       "    <\/tr>\n",
       "  <\/thead>\n",
       "  <tbody>\n",
       "    <tr>\n",
       "      <th>count<\/th>\n",
       "      <td>151.000000<\/td>\n",
       "      <td>151.00000<\/td>\n",
       "      <td>151.000000<\/td>\n",
       "      <td>151.000000<\/td>\n",
       "      <td>151.000000<\/td>\n",
       "      <td>151.000000<\/td>\n",
       "      <td>151.000000<\/td>\n",
       "      <td>151.000000<\/td>\n",
       "      <td>151.000000<\/td>\n",
       "    <\/tr>\n",
       "    <tr>\n",
       "      <th>mean<\/th>\n",
       "      <td>76.000000<\/td>\n",
       "      <td>407.07947<\/td>\n",
       "      <td>64.211921<\/td>\n",
       "      <td>72.549669<\/td>\n",
       "      <td>68.225166<\/td>\n",
       "      <td>67.139073<\/td>\n",
       "      <td>66.019868<\/td>\n",
       "      <td>68.933775<\/td>\n",
       "      <td>1.582781<\/td>\n",
       "    <\/tr>\n",
       "    <tr>\n",
       "      <th>std<\/th>\n",
       "      <td>43.734045<\/td>\n",
       "      <td>99.74384<\/td>\n",
       "      <td>28.590117<\/td>\n",
       "      <td>26.596162<\/td>\n",
       "      <td>26.916704<\/td>\n",
       "      <td>28.534199<\/td>\n",
       "      <td>24.197926<\/td>\n",
       "      <td>26.746880<\/td>\n",
       "      <td>0.676832<\/td>\n",
       "    <\/tr>\n",
       "    <tr>\n",
       "      <th>min<\/th>\n",
       "      <td>1.000000<\/td>\n",
       "      <td>195.00000<\/td>\n",
       "      <td>10.000000<\/td>\n",
       "      <td>5.000000<\/td>\n",
       "      <td>5.000000<\/td>\n",
       "      <td>15.000000<\/td>\n",
       "      <td>20.000000<\/td>\n",
       "      <td>15.000000<\/td>\n",
       "      <td>1.000000<\/td>\n",
       "    <\/tr>\n",
       "    <tr>\n",
       "      <th>25%<\/th>\n",
       "      <td>38.500000<\/td>\n",
       "      <td>320.00000<\/td>\n",
       "      <td>45.000000<\/td>\n",
       "      <td>51.000000<\/td>\n",
       "      <td>50.000000<\/td>\n",
       "      <td>45.000000<\/td>\n",
       "      <td>49.000000<\/td>\n",
       "      <td>46.500000<\/td>\n",
       "      <td>1.000000<\/td>\n",
       "    <\/tr>\n",
       "    <tr>\n",
       "      <th>50%<\/th>\n",
       "      <td>76.000000<\/td>\n",
       "      <td>405.00000<\/td>\n",
       "      <td>60.000000<\/td>\n",
       "      <td>70.000000<\/td>\n",
       "      <td>65.000000<\/td>\n",
       "      <td>65.000000<\/td>\n",
       "      <td>65.000000<\/td>\n",
       "      <td>70.000000<\/td>\n",
       "      <td>1.000000<\/td>\n",
       "    <\/tr>\n",
       "    <tr>\n",
       "      <th>75%<\/th>\n",
       "      <td>113.500000<\/td>\n",
       "      <td>490.00000<\/td>\n",
       "      <td>80.000000<\/td>\n",
       "      <td>90.000000<\/td>\n",
       "      <td>84.000000<\/td>\n",
       "      <td>87.500000<\/td>\n",
       "      <td>80.000000<\/td>\n",
       "      <td>90.000000<\/td>\n",
       "      <td>2.000000<\/td>\n",
       "    <\/tr>\n",
       "    <tr>\n",
       "      <th>max<\/th>\n",
       "      <td>151.000000<\/td>\n",
       "      <td>680.00000<\/td>\n",
       "      <td>250.000000<\/td>\n",
       "      <td>134.000000<\/td>\n",
       "      <td>180.000000<\/td>\n",
       "      <td>154.000000<\/td>\n",
       "      <td>125.000000<\/td>\n",
       "      <td>140.000000<\/td>\n",
       "      <td>3.000000<\/td>\n",
       "    <\/tr>\n",
       "  <\/tbody>\n",
       "<\/table>\n",
       "<\/div>"
      ]
     },
     "metadata":{
      
     },
     "output_type":"display_data"
    }
   ],
   "metadata":{
    "datalore":{
     "node_id":"m8S0ZMkUEcOS9E3ATQBvNI",
     "type":"CODE",
     "hide_input_from_viewers":true,
     "hide_output_from_viewers":true
    }
   }
  },
  {
   "cell_type":"code",
   "source":[
    "df.sample()"
   ],
   "execution_count":14,
   "outputs":[
    {
     "data":{
      "text\/html":[
       "<div>\n",
       "<style scoped>\n",
       "    .dataframe tbody tr th:only-of-type {\n",
       "        vertical-align: middle;\n",
       "    }\n",
       "\n",
       "    .dataframe tbody tr th {\n",
       "        vertical-align: top;\n",
       "    }\n",
       "\n",
       "    .dataframe thead th {\n",
       "        text-align: right;\n",
       "    }\n",
       "<\/style>\n",
       "<table border=\"1\" class=\"dataframe\">\n",
       "  <thead>\n",
       "    <tr style=\"text-align: right;\">\n",
       "      <th><\/th>\n",
       "      <th>#<\/th>\n",
       "      <th>Name<\/th>\n",
       "      <th>Type 1<\/th>\n",
       "      <th>Type 2<\/th>\n",
       "      <th>Total<\/th>\n",
       "      <th>HP<\/th>\n",
       "      <th>Attack<\/th>\n",
       "      <th>Defense<\/th>\n",
       "      <th>Sp. Atk<\/th>\n",
       "      <th>Sp. Def<\/th>\n",
       "      <th>Speed<\/th>\n",
       "      <th>Stage<\/th>\n",
       "      <th>Legendary<\/th>\n",
       "    <\/tr>\n",
       "  <\/thead>\n",
       "  <tbody>\n",
       "    <tr>\n",
       "      <th>130<\/th>\n",
       "      <td>131<\/td>\n",
       "      <td>Lapras<\/td>\n",
       "      <td>Water<\/td>\n",
       "      <td>Ice<\/td>\n",
       "      <td>535<\/td>\n",
       "      <td>130<\/td>\n",
       "      <td>85<\/td>\n",
       "      <td>80<\/td>\n",
       "      <td>85<\/td>\n",
       "      <td>95<\/td>\n",
       "      <td>60<\/td>\n",
       "      <td>1<\/td>\n",
       "      <td>False<\/td>\n",
       "    <\/tr>\n",
       "  <\/tbody>\n",
       "<\/table>\n",
       "<\/div>"
      ]
     },
     "metadata":{
      
     },
     "output_type":"display_data"
    }
   ],
   "metadata":{
    "datalore":{
     "node_id":"aZ8nYyJJ0IetyTTOHaFyZM",
     "type":"CODE",
     "hide_input_from_viewers":true,
     "hide_output_from_viewers":true
    }
   }
  },
  {
   "cell_type":"code",
   "source":[
    "df.isnull().sum()"
   ],
   "execution_count":15,
   "outputs":[
    {
     "data":{
      "text\/html":[
       
      ]
     },
     "metadata":{
      
     },
     "output_type":"display_data"
    }
   ],
   "metadata":{
    "datalore":{
     "node_id":"CJH3XlZA5tXwpFhzi347dl",
     "type":"CODE",
     "hide_input_from_viewers":true,
     "hide_output_from_viewers":true
    }
   }
  },
  {
   "cell_type":"code",
   "source":[
    "df.duplicated().sum()"
   ],
   "execution_count":16,
   "outputs":[
    {
     "data":{
      "text\/plain":[
       "0"
      ]
     },
     "metadata":{
      
     },
     "output_type":"display_data"
    }
   ],
   "metadata":{
    "datalore":{
     "node_id":"6SrPV2Rz5ZUAw3vg63EBG4",
     "type":"CODE",
     "hide_input_from_viewers":true,
     "hide_output_from_viewers":true
    }
   }
  },
  {
   "cell_type":"code",
   "source":[
    "df['Type 1'].duplicated().sum()"
   ],
   "execution_count":17,
   "outputs":[
    {
     "data":{
      "text\/plain":[
       "136"
      ]
     },
     "metadata":{
      
     },
     "output_type":"display_data"
    }
   ],
   "metadata":{
    "datalore":{
     "node_id":"BPG0I3cyWkIy01bB32ycbA",
     "type":"CODE",
     "hide_input_from_viewers":true,
     "hide_output_from_viewers":true
    }
   }
  },
  {
   "cell_type":"code",
   "source":[
    "df['Type 1'].duplicated()"
   ],
   "execution_count":18,
   "outputs":[
    {
     "data":{
      "text\/html":[
       
      ]
     },
     "metadata":{
      
     },
     "output_type":"display_data"
    }
   ],
   "metadata":{
    "datalore":{
     "node_id":"lKUJoLnYgVvrVcise0xAo3",
     "type":"CODE",
     "hide_input_from_viewers":true,
     "hide_output_from_viewers":true
    }
   }
  },
  {
   "cell_type":"code",
   "source":[
    "df.nunique(dropna=True)"
   ],
   "execution_count":20,
   "outputs":[
    {
     "data":{
      "text\/html":[
       
      ]
     },
     "metadata":{
      
     },
     "output_type":"display_data"
    }
   ],
   "metadata":{
    "datalore":{
     "node_id":"63O4GvegVYH8B03fZYAouO",
     "type":"CODE",
     "hide_input_from_viewers":true,
     "hide_output_from_viewers":true
    }
   }
  },
  {
   "cell_type":"code",
   "source":[
    "df['Type 1'].unique()"
   ],
   "execution_count":28,
   "outputs":[
    {
     "data":{
      "text\/html":[
       
      ]
     },
     "metadata":{
      
     },
     "output_type":"display_data"
    }
   ],
   "metadata":{
    "datalore":{
     "node_id":"Wb7zF3tXZjAyxNHWjvY5MV",
     "type":"CODE",
     "hide_input_from_viewers":true,
     "hide_output_from_viewers":true
    }
   }
  },
  {
   "cell_type":"code",
   "source":[
    
   ],
   "execution_count":null,
   "outputs":[
    
   ],
   "metadata":{
    "datalore":{
     "node_id":"6tIoJj35KKbFTVBMMIysXP",
     "type":"CODE",
     "hide_input_from_viewers":true,
     "hide_output_from_viewers":true
    }
   }
  }
 ],
 "metadata":{
  "kernelspec":{
   "display_name":"Python",
   "language":"python",
   "name":"python"
  },
  "datalore":{
   "version":1,
   "computation_mode":"JUPYTER",
   "package_manager":"pip",
   "base_environment":"default",
   "packages":[
    
   ]
  }
 },
 "nbformat":4,
 "nbformat_minor":4
}