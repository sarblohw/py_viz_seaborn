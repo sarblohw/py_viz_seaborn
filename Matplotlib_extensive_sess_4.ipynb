{
 "cells": [
  {
   "cell_type": "code",
   "execution_count": 1,
   "id": "00f77f09",
   "metadata": {},
   "outputs": [],
   "source": [
    "import numpy as np\n",
    "import pandas as pd\n",
    "from matplotlib import pyplot as plt\n",
    "\n",
    "%matplotlib inline\n",
    "\n",
    "pd.options.display.max_columns = 100\n",
    "pd.options.display.max_rows = 100"
   ]
  },
  {
   "cell_type": "code",
   "execution_count": 2,
   "id": "14108acb",
   "metadata": {},
   "outputs": [],
   "source": [
    "df = pd.read_csv('survey_results_public.csv')\n",
    "df_schema = pd.read_csv('survey_results_schema.csv')"
   ]
  },
  {
   "cell_type": "code",
   "execution_count": 3,
   "id": "7626876a",
   "metadata": {},
   "outputs": [
    {
     "data": {
      "text/plain": [
       "Index(['Respondent', 'MainBranch', 'Hobbyist', 'OpenSourcer', 'OpenSource',\n",
       "       'Employment', 'Country', 'Student', 'EdLevel', 'UndergradMajor',\n",
       "       'EduOther', 'OrgSize', 'DevType', 'YearsCode', 'Age1stCode',\n",
       "       'YearsCodePro', 'CareerSat', 'JobSat', 'MgrIdiot', 'MgrMoney',\n",
       "       'MgrWant', 'JobSeek', 'LastHireDate', 'LastInt', 'FizzBuzz',\n",
       "       'JobFactors', 'ResumeUpdate', 'CurrencySymbol', 'CurrencyDesc',\n",
       "       'CompTotal', 'CompFreq', 'ConvertedComp', 'WorkWeekHrs', 'WorkPlan',\n",
       "       'WorkChallenge', 'WorkRemote', 'WorkLoc', 'ImpSyn', 'CodeRev',\n",
       "       'CodeRevHrs', 'UnitTests', 'PurchaseHow', 'PurchaseWhat',\n",
       "       'LanguageWorkedWith', 'LanguageDesireNextYear', 'DatabaseWorkedWith',\n",
       "       'DatabaseDesireNextYear', 'PlatformWorkedWith',\n",
       "       'PlatformDesireNextYear', 'WebFrameWorkedWith',\n",
       "       'WebFrameDesireNextYear', 'MiscTechWorkedWith',\n",
       "       'MiscTechDesireNextYear', 'DevEnviron', 'OpSys', 'Containers',\n",
       "       'BlockchainOrg', 'BlockchainIs', 'BetterLife', 'ITperson', 'OffOn',\n",
       "       'SocialMedia', 'Extraversion', 'ScreenName', 'SOVisit1st',\n",
       "       'SOVisitFreq', 'SOVisitTo', 'SOFindAnswer', 'SOTimeSaved',\n",
       "       'SOHowMuchTime', 'SOAccount', 'SOPartFreq', 'SOJobs', 'EntTeams',\n",
       "       'SOComm', 'WelcomeChange', 'SONewContent', 'Age', 'Gender', 'Trans',\n",
       "       'Sexuality', 'Ethnicity', 'Dependents', 'SurveyLength', 'SurveyEase'],\n",
       "      dtype='object')"
      ]
     },
     "execution_count": 3,
     "metadata": {},
     "output_type": "execute_result"
    }
   ],
   "source": [
    "df.columns"
   ]
  },
  {
   "cell_type": "code",
   "execution_count": 8,
   "id": "36ba3bac",
   "metadata": {},
   "outputs": [],
   "source": [
    "df.LanguageWorkedWith.to_csv('data.csv')"
   ]
  },
  {
   "cell_type": "code",
   "execution_count": 9,
   "id": "2f6188d8",
   "metadata": {},
   "outputs": [],
   "source": [
    "import csv\n",
    "from collections import Counter"
   ]
  },
  {
   "cell_type": "code",
   "execution_count": 18,
   "id": "8ca19800",
   "metadata": {},
   "outputs": [],
   "source": [
    "with open('data.csv') as file:\n",
    "    csv_reader = csv.DictReader(file)\n",
    "    count_lang = Counter()\n",
    "    for row in csv_reader:\n",
    "        count_lang.update(row['LanguageWorkedWith'].split(';'))"
   ]
  },
  {
   "cell_type": "code",
   "execution_count": 19,
   "id": "fc924b79",
   "metadata": {},
   "outputs": [
    {
     "data": {
      "text/plain": [
       "Counter({'HTML/CSS': 55466,\n",
       "         'Java': 35917,\n",
       "         'JavaScript': 59219,\n",
       "         'Python': 36443,\n",
       "         'C++': 20524,\n",
       "         'C': 18017,\n",
       "         'C#': 27097,\n",
       "         'SQL': 47544,\n",
       "         'VBA': 4781,\n",
       "         'R': 5048,\n",
       "         'Bash/Shell/PowerShell': 31991,\n",
       "         'Ruby': 7331,\n",
       "         'Rust': 2794,\n",
       "         'TypeScript': 18523,\n",
       "         'WebAssembly': 1015,\n",
       "         'Other(s):': 7920,\n",
       "         'Go': 7201,\n",
       "         'PHP': 23030,\n",
       "         'Assembly': 5833,\n",
       "         'Kotlin': 5620,\n",
       "         'Swift': 5744,\n",
       "         '': 1314,\n",
       "         'Objective-C': 4191,\n",
       "         'Elixir': 1260,\n",
       "         'Erlang': 777,\n",
       "         'Clojure': 1254,\n",
       "         'F#': 973,\n",
       "         'Scala': 3309,\n",
       "         'Dart': 1683})"
      ]
     },
     "execution_count": 19,
     "metadata": {},
     "output_type": "execute_result"
    }
   ],
   "source": [
    "count_lang"
   ]
  },
  {
   "cell_type": "code",
   "execution_count": 20,
   "id": "2f9f6465",
   "metadata": {},
   "outputs": [
    {
     "data": {
      "text/plain": [
       "[('JavaScript', 59219),\n",
       " ('HTML/CSS', 55466),\n",
       " ('SQL', 47544),\n",
       " ('Python', 36443),\n",
       " ('Java', 35917),\n",
       " ('Bash/Shell/PowerShell', 31991),\n",
       " ('C#', 27097),\n",
       " ('PHP', 23030),\n",
       " ('C++', 20524),\n",
       " ('TypeScript', 18523),\n",
       " ('C', 18017),\n",
       " ('Other(s):', 7920),\n",
       " ('Ruby', 7331),\n",
       " ('Go', 7201),\n",
       " ('Assembly', 5833)]"
      ]
     },
     "execution_count": 20,
     "metadata": {},
     "output_type": "execute_result"
    }
   ],
   "source": [
    "count_lang.most_common(15)"
   ]
  },
  {
   "cell_type": "code",
   "execution_count": 23,
   "id": "05a0c886",
   "metadata": {},
   "outputs": [],
   "source": [
    "languages = []\n",
    "popularity = []\n",
    "\n",
    "for item in count_lang.most_common(15):\n",
    "    languages.append(item[0])\n",
    "    popularity.append(item[1])"
   ]
  },
  {
   "cell_type": "code",
   "execution_count": 24,
   "id": "983a502d",
   "metadata": {},
   "outputs": [
    {
     "data": {
      "text/plain": [
       "['JavaScript',\n",
       " 'HTML/CSS',\n",
       " 'SQL',\n",
       " 'Python',\n",
       " 'Java',\n",
       " 'Bash/Shell/PowerShell',\n",
       " 'C#',\n",
       " 'PHP',\n",
       " 'C++',\n",
       " 'TypeScript',\n",
       " 'C',\n",
       " 'Other(s):',\n",
       " 'Ruby',\n",
       " 'Go',\n",
       " 'Assembly']"
      ]
     },
     "execution_count": 24,
     "metadata": {},
     "output_type": "execute_result"
    }
   ],
   "source": [
    "languages"
   ]
  },
  {
   "cell_type": "code",
   "execution_count": 25,
   "id": "374b72a3",
   "metadata": {},
   "outputs": [
    {
     "data": {
      "text/plain": [
       "[59219,\n",
       " 55466,\n",
       " 47544,\n",
       " 36443,\n",
       " 35917,\n",
       " 31991,\n",
       " 27097,\n",
       " 23030,\n",
       " 20524,\n",
       " 18523,\n",
       " 18017,\n",
       " 7920,\n",
       " 7331,\n",
       " 7201,\n",
       " 5833]"
      ]
     },
     "execution_count": 25,
     "metadata": {},
     "output_type": "execute_result"
    }
   ],
   "source": [
    "popularity"
   ]
  },
  {
   "cell_type": "code",
   "execution_count": 32,
   "id": "db47355b",
   "metadata": {},
   "outputs": [
    {
     "data": {
      "image/png": "[encoded data removed]",
      "text/plain": [
       "<Figure size 640x480 with 1 Axes>"
      ]
     },
     "metadata": {},
     "output_type": "display_data"
    }
   ],
   "source": [
    "plt.style.use('seaborn-pastel')\n",
    "plt.bar(languages, popularity, label='popularity')\n",
    "plt.xlabel('language')\n",
    "plt.ylabel('popularity')\n",
    "plt.legend(loc='best')\n",
    "plt.show()"
   ]
  },
  {
   "cell_type": "code",
   "execution_count": 37,
   "id": "ff601563",
   "metadata": {},
   "outputs": [
    {
     "data": {
      "image/png": "[encoded data removed]",
      "text/plain": [
       "<Figure size 640x480 with 1 Axes>"
      ]
     },
     "metadata": {},
     "output_type": "display_data"
    }
   ],
   "source": [
    "plt.style.use('seaborn-pastel')\n",
    "plt.barh(languages[::-1], popularity[::-1], label='popularity')\n",
    "plt.xlabel('popularity')\n",
    "plt.xticks()\n",
    "plt.legend(loc='best')\n",
    "plt.show()"
   ]
  },
  {
   "cell_type": "code",
   "execution_count": 38,
   "id": "b8b89feb",
   "metadata": {},
   "outputs": [
    {
     "data": {
      "image/png": "[encoded data removed]",
      "text/plain": [
       "<Figure size 640x480 with 1 Axes>"
      ]
     },
     "metadata": {},
     "output_type": "display_data"
    }
   ],
   "source": [
    "languages.reverse()\n",
    "popularity.reverse()\n",
    "\n",
    "plt.style.use('seaborn-pastel')\n",
    "plt.barh(languages, popularity, label='popularity')\n",
    "plt.xlabel('popularity')\n",
    "plt.xticks()\n",
    "plt.legend(loc='best')\n",
    "plt.show()"
   ]
  },
  {
   "cell_type": "code",
   "execution_count": 40,
   "id": "126f5f6d",
   "metadata": {},
   "outputs": [],
   "source": [
    "df = pd.read_csv('data.csv')"
   ]
  },
  {
   "cell_type": "code",
   "execution_count": 41,
   "id": "2cd4dcdb",
   "metadata": {},
   "outputs": [
    {
     "data": {
      "text/html": [
       "<div>\n",
       "<style scoped>\n",
       "    .dataframe tbody tr th:only-of-type {\n",
       "        vertical-align: middle;\n",
       "    }\n",
       "\n",
       "    .dataframe tbody tr th {\n",
       "        vertical-align: top;\n",
       "    }\n",
       "\n",
       "    .dataframe thead th {\n",
       "        text-align: right;\n",
       "    }\n",
       "</style>\n",
       "<table border=\"1\" class=\"dataframe\">\n",
       "  <thead>\n",
       "    <tr style=\"text-align: right;\">\n",
       "      <th></th>\n",
       "      <th>Unnamed: 0</th>\n",
       "      <th>LanguageWorkedWith</th>\n",
       "    </tr>\n",
       "  </thead>\n",
       "  <tbody>\n",
       "    <tr>\n",
       "      <th>0</th>\n",
       "      <td>0</td>\n",
       "      <td>HTML/CSS;Java;JavaScript;Python</td>\n",
       "    </tr>\n",
       "    <tr>\n",
       "      <th>1</th>\n",
       "      <td>1</td>\n",
       "      <td>C++;HTML/CSS;Python</td>\n",
       "    </tr>\n",
       "    <tr>\n",
       "      <th>2</th>\n",
       "      <td>2</td>\n",
       "      <td>HTML/CSS</td>\n",
       "    </tr>\n",
       "  </tbody>\n",
       "</table>\n",
       "</div>"
      ],
      "text/plain": [
       "   Unnamed: 0               LanguageWorkedWith\n",
       "0           0  HTML/CSS;Java;JavaScript;Python\n",
       "1           1              C++;HTML/CSS;Python\n",
       "2           2                         HTML/CSS"
      ]
     },
     "execution_count": 41,
     "metadata": {},
     "output_type": "execute_result"
    }
   ],
   "source": [
    "df.head(3)"
   ]
  },
  {
   "cell_type": "code",
   "execution_count": 45,
   "id": "9f85067d",
   "metadata": {},
   "outputs": [],
   "source": [
    "df.rename(columns={'Unnamed: 0': 'id'}, inplace=True)"
   ]
  },
  {
   "cell_type": "code",
   "execution_count": 46,
   "id": "6bfe3425",
   "metadata": {},
   "outputs": [
    {
     "data": {
      "text/html": [
       "<div>\n",
       "<style scoped>\n",
       "    .dataframe tbody tr th:only-of-type {\n",
       "        vertical-align: middle;\n",
       "    }\n",
       "\n",
       "    .dataframe tbody tr th {\n",
       "        vertical-align: top;\n",
       "    }\n",
       "\n",
       "    .dataframe thead th {\n",
       "        text-align: right;\n",
       "    }\n",
       "</style>\n",
       "<table border=\"1\" class=\"dataframe\">\n",
       "  <thead>\n",
       "    <tr style=\"text-align: right;\">\n",
       "      <th></th>\n",
       "      <th>id</th>\n",
       "      <th>LanguageWorkedWith</th>\n",
       "    </tr>\n",
       "  </thead>\n",
       "  <tbody>\n",
       "    <tr>\n",
       "      <th>0</th>\n",
       "      <td>0</td>\n",
       "      <td>HTML/CSS;Java;JavaScript;Python</td>\n",
       "    </tr>\n",
       "    <tr>\n",
       "      <th>1</th>\n",
       "      <td>1</td>\n",
       "      <td>C++;HTML/CSS;Python</td>\n",
       "    </tr>\n",
       "    <tr>\n",
       "      <th>2</th>\n",
       "      <td>2</td>\n",
       "      <td>HTML/CSS</td>\n",
       "    </tr>\n",
       "  </tbody>\n",
       "</table>\n",
       "</div>"
      ],
      "text/plain": [
       "   id               LanguageWorkedWith\n",
       "0   0  HTML/CSS;Java;JavaScript;Python\n",
       "1   1              C++;HTML/CSS;Python\n",
       "2   2                         HTML/CSS"
      ]
     },
     "execution_count": 46,
     "metadata": {},
     "output_type": "execute_result"
    }
   ],
   "source": [
    "df.head(3)"
   ]
  },
  {
   "cell_type": "code",
   "execution_count": 65,
   "id": "67c5ef18",
   "metadata": {},
   "outputs": [],
   "source": [
    "languages = df.loc[:5, 'LanguageWorkedWith']\n",
    "ids = df['id']"
   ]
  },
  {
   "cell_type": "code",
   "execution_count": 66,
   "id": "22cf1e76",
   "metadata": {},
   "outputs": [],
   "source": [
    "lang_count = Counter()\n",
    "for x in languages:\n",
    "    lang_count.update(x.split(';'))"
   ]
  },
  {
   "cell_type": "code",
   "execution_count": 67,
   "id": "d0a1bccc",
   "metadata": {},
   "outputs": [
    {
     "data": {
      "text/plain": [
       "dtype('O')"
      ]
     },
     "execution_count": 67,
     "metadata": {},
     "output_type": "execute_result"
    }
   ],
   "source": [
    "languages.dtypes"
   ]
  },
  {
   "cell_type": "code",
   "execution_count": 68,
   "id": "1228035b",
   "metadata": {},
   "outputs": [
    {
     "data": {
      "text/plain": [
       "str"
      ]
     },
     "execution_count": 68,
     "metadata": {},
     "output_type": "execute_result"
    }
   ],
   "source": [
    "type(languages[0])"
   ]
  },
  {
   "cell_type": "code",
   "execution_count": 69,
   "id": "8b414b0a",
   "metadata": {},
   "outputs": [
    {
     "data": {
      "text/plain": [
       "Counter({'HTML/CSS': 4,\n",
       "         'Java': 3,\n",
       "         'JavaScript': 2,\n",
       "         'Python': 4,\n",
       "         'C++': 3,\n",
       "         'C': 1,\n",
       "         'C#': 1,\n",
       "         'SQL': 3,\n",
       "         'VBA': 1,\n",
       "         'R': 1})"
      ]
     },
     "execution_count": 69,
     "metadata": {},
     "output_type": "execute_result"
    }
   ],
   "source": [
    "lang_count"
   ]
  },
  {
   "cell_type": "code",
   "execution_count": 75,
   "id": "5603c1ec",
   "metadata": {},
   "outputs": [
    {
     "data": {
      "text/html": [
       "<div>\n",
       "<style scoped>\n",
       "    .dataframe tbody tr th:only-of-type {\n",
       "        vertical-align: middle;\n",
       "    }\n",
       "\n",
       "    .dataframe tbody tr th {\n",
       "        vertical-align: top;\n",
       "    }\n",
       "\n",
       "    .dataframe thead th {\n",
       "        text-align: right;\n",
       "    }\n",
       "</style>\n",
       "<table border=\"1\" class=\"dataframe\">\n",
       "  <thead>\n",
       "    <tr style=\"text-align: right;\">\n",
       "      <th></th>\n",
       "      <th>0</th>\n",
       "      <th>1</th>\n",
       "      <th>2</th>\n",
       "      <th>3</th>\n",
       "      <th>4</th>\n",
       "      <th>5</th>\n",
       "      <th>6</th>\n",
       "      <th>7</th>\n",
       "      <th>8</th>\n",
       "      <th>9</th>\n",
       "      <th>10</th>\n",
       "      <th>11</th>\n",
       "      <th>12</th>\n",
       "      <th>13</th>\n",
       "      <th>14</th>\n",
       "      <th>15</th>\n",
       "      <th>16</th>\n",
       "      <th>17</th>\n",
       "      <th>18</th>\n",
       "      <th>19</th>\n",
       "      <th>20</th>\n",
       "      <th>21</th>\n",
       "      <th>22</th>\n",
       "      <th>23</th>\n",
       "      <th>24</th>\n",
       "      <th>25</th>\n",
       "      <th>26</th>\n",
       "      <th>27</th>\n",
       "    </tr>\n",
       "  </thead>\n",
       "  <tbody>\n",
       "    <tr>\n",
       "      <th>0</th>\n",
       "      <td>HTML/CSS</td>\n",
       "      <td>Java</td>\n",
       "      <td>JavaScript</td>\n",
       "      <td>Python</td>\n",
       "      <td>None</td>\n",
       "      <td>None</td>\n",
       "      <td>None</td>\n",
       "      <td>None</td>\n",
       "      <td>None</td>\n",
       "      <td>None</td>\n",
       "      <td>None</td>\n",
       "      <td>None</td>\n",
       "      <td>None</td>\n",
       "      <td>None</td>\n",
       "      <td>None</td>\n",
       "      <td>None</td>\n",
       "      <td>None</td>\n",
       "      <td>None</td>\n",
       "      <td>None</td>\n",
       "      <td>None</td>\n",
       "      <td>None</td>\n",
       "      <td>None</td>\n",
       "      <td>None</td>\n",
       "      <td>None</td>\n",
       "      <td>None</td>\n",
       "      <td>None</td>\n",
       "      <td>None</td>\n",
       "      <td>None</td>\n",
       "    </tr>\n",
       "    <tr>\n",
       "      <th>1</th>\n",
       "      <td>C++</td>\n",
       "      <td>HTML/CSS</td>\n",
       "      <td>Python</td>\n",
       "      <td>None</td>\n",
       "      <td>None</td>\n",
       "      <td>None</td>\n",
       "      <td>None</td>\n",
       "      <td>None</td>\n",
       "      <td>None</td>\n",
       "      <td>None</td>\n",
       "      <td>None</td>\n",
       "      <td>None</td>\n",
       "      <td>None</td>\n",
       "      <td>None</td>\n",
       "      <td>None</td>\n",
       "      <td>None</td>\n",
       "      <td>None</td>\n",
       "      <td>None</td>\n",
       "      <td>None</td>\n",
       "      <td>None</td>\n",
       "      <td>None</td>\n",
       "      <td>None</td>\n",
       "      <td>None</td>\n",
       "      <td>None</td>\n",
       "      <td>None</td>\n",
       "      <td>None</td>\n",
       "      <td>None</td>\n",
       "      <td>None</td>\n",
       "    </tr>\n",
       "    <tr>\n",
       "      <th>2</th>\n",
       "      <td>HTML/CSS</td>\n",
       "      <td>None</td>\n",
       "      <td>None</td>\n",
       "      <td>None</td>\n",
       "      <td>None</td>\n",
       "      <td>None</td>\n",
       "      <td>None</td>\n",
       "      <td>None</td>\n",
       "      <td>None</td>\n",
       "      <td>None</td>\n",
       "      <td>None</td>\n",
       "      <td>None</td>\n",
       "      <td>None</td>\n",
       "      <td>None</td>\n",
       "      <td>None</td>\n",
       "      <td>None</td>\n",
       "      <td>None</td>\n",
       "      <td>None</td>\n",
       "      <td>None</td>\n",
       "      <td>None</td>\n",
       "      <td>None</td>\n",
       "      <td>None</td>\n",
       "      <td>None</td>\n",
       "      <td>None</td>\n",
       "      <td>None</td>\n",
       "      <td>None</td>\n",
       "      <td>None</td>\n",
       "      <td>None</td>\n",
       "    </tr>\n",
       "    <tr>\n",
       "      <th>3</th>\n",
       "      <td>C</td>\n",
       "      <td>C++</td>\n",
       "      <td>C#</td>\n",
       "      <td>Python</td>\n",
       "      <td>SQL</td>\n",
       "      <td>None</td>\n",
       "      <td>None</td>\n",
       "      <td>None</td>\n",
       "      <td>None</td>\n",
       "      <td>None</td>\n",
       "      <td>None</td>\n",
       "      <td>None</td>\n",
       "      <td>None</td>\n",
       "      <td>None</td>\n",
       "      <td>None</td>\n",
       "      <td>None</td>\n",
       "      <td>None</td>\n",
       "      <td>None</td>\n",
       "      <td>None</td>\n",
       "      <td>None</td>\n",
       "      <td>None</td>\n",
       "      <td>None</td>\n",
       "      <td>None</td>\n",
       "      <td>None</td>\n",
       "      <td>None</td>\n",
       "      <td>None</td>\n",
       "      <td>None</td>\n",
       "      <td>None</td>\n",
       "    </tr>\n",
       "    <tr>\n",
       "      <th>4</th>\n",
       "      <td>C++</td>\n",
       "      <td>HTML/CSS</td>\n",
       "      <td>Java</td>\n",
       "      <td>JavaScript</td>\n",
       "      <td>Python</td>\n",
       "      <td>SQL</td>\n",
       "      <td>VBA</td>\n",
       "      <td>None</td>\n",
       "      <td>None</td>\n",
       "      <td>None</td>\n",
       "      <td>None</td>\n",
       "      <td>None</td>\n",
       "      <td>None</td>\n",
       "      <td>None</td>\n",
       "      <td>None</td>\n",
       "      <td>None</td>\n",
       "      <td>None</td>\n",
       "      <td>None</td>\n",
       "      <td>None</td>\n",
       "      <td>None</td>\n",
       "      <td>None</td>\n",
       "      <td>None</td>\n",
       "      <td>None</td>\n",
       "      <td>None</td>\n",
       "      <td>None</td>\n",
       "      <td>None</td>\n",
       "      <td>None</td>\n",
       "      <td>None</td>\n",
       "    </tr>\n",
       "    <tr>\n",
       "      <th>...</th>\n",
       "      <td>...</td>\n",
       "      <td>...</td>\n",
       "      <td>...</td>\n",
       "      <td>...</td>\n",
       "      <td>...</td>\n",
       "      <td>...</td>\n",
       "      <td>...</td>\n",
       "      <td>...</td>\n",
       "      <td>...</td>\n",
       "      <td>...</td>\n",
       "      <td>...</td>\n",
       "      <td>...</td>\n",
       "      <td>...</td>\n",
       "      <td>...</td>\n",
       "      <td>...</td>\n",
       "      <td>...</td>\n",
       "      <td>...</td>\n",
       "      <td>...</td>\n",
       "      <td>...</td>\n",
       "      <td>...</td>\n",
       "      <td>...</td>\n",
       "      <td>...</td>\n",
       "      <td>...</td>\n",
       "      <td>...</td>\n",
       "      <td>...</td>\n",
       "      <td>...</td>\n",
       "      <td>...</td>\n",
       "      <td>...</td>\n",
       "    </tr>\n",
       "    <tr>\n",
       "      <th>88878</th>\n",
       "      <td>HTML/CSS</td>\n",
       "      <td>JavaScript</td>\n",
       "      <td>Other(s):</td>\n",
       "      <td>None</td>\n",
       "      <td>None</td>\n",
       "      <td>None</td>\n",
       "      <td>None</td>\n",
       "      <td>None</td>\n",
       "      <td>None</td>\n",
       "      <td>None</td>\n",
       "      <td>None</td>\n",
       "      <td>None</td>\n",
       "      <td>None</td>\n",
       "      <td>None</td>\n",
       "      <td>None</td>\n",
       "      <td>None</td>\n",
       "      <td>None</td>\n",
       "      <td>None</td>\n",
       "      <td>None</td>\n",
       "      <td>None</td>\n",
       "      <td>None</td>\n",
       "      <td>None</td>\n",
       "      <td>None</td>\n",
       "      <td>None</td>\n",
       "      <td>None</td>\n",
       "      <td>None</td>\n",
       "      <td>None</td>\n",
       "      <td>None</td>\n",
       "    </tr>\n",
       "    <tr>\n",
       "      <th>88879</th>\n",
       "      <td>NaN</td>\n",
       "      <td>NaN</td>\n",
       "      <td>NaN</td>\n",
       "      <td>NaN</td>\n",
       "      <td>NaN</td>\n",
       "      <td>NaN</td>\n",
       "      <td>NaN</td>\n",
       "      <td>NaN</td>\n",
       "      <td>NaN</td>\n",
       "      <td>NaN</td>\n",
       "      <td>NaN</td>\n",
       "      <td>NaN</td>\n",
       "      <td>NaN</td>\n",
       "      <td>NaN</td>\n",
       "      <td>NaN</td>\n",
       "      <td>NaN</td>\n",
       "      <td>NaN</td>\n",
       "      <td>NaN</td>\n",
       "      <td>NaN</td>\n",
       "      <td>NaN</td>\n",
       "      <td>NaN</td>\n",
       "      <td>NaN</td>\n",
       "      <td>NaN</td>\n",
       "      <td>NaN</td>\n",
       "      <td>NaN</td>\n",
       "      <td>NaN</td>\n",
       "      <td>NaN</td>\n",
       "      <td>NaN</td>\n",
       "    </tr>\n",
       "    <tr>\n",
       "      <th>88880</th>\n",
       "      <td>NaN</td>\n",
       "      <td>NaN</td>\n",
       "      <td>NaN</td>\n",
       "      <td>NaN</td>\n",
       "      <td>NaN</td>\n",
       "      <td>NaN</td>\n",
       "      <td>NaN</td>\n",
       "      <td>NaN</td>\n",
       "      <td>NaN</td>\n",
       "      <td>NaN</td>\n",
       "      <td>NaN</td>\n",
       "      <td>NaN</td>\n",
       "      <td>NaN</td>\n",
       "      <td>NaN</td>\n",
       "      <td>NaN</td>\n",
       "      <td>NaN</td>\n",
       "      <td>NaN</td>\n",
       "      <td>NaN</td>\n",
       "      <td>NaN</td>\n",
       "      <td>NaN</td>\n",
       "      <td>NaN</td>\n",
       "      <td>NaN</td>\n",
       "      <td>NaN</td>\n",
       "      <td>NaN</td>\n",
       "      <td>NaN</td>\n",
       "      <td>NaN</td>\n",
       "      <td>NaN</td>\n",
       "      <td>NaN</td>\n",
       "    </tr>\n",
       "    <tr>\n",
       "      <th>88881</th>\n",
       "      <td>NaN</td>\n",
       "      <td>NaN</td>\n",
       "      <td>NaN</td>\n",
       "      <td>NaN</td>\n",
       "      <td>NaN</td>\n",
       "      <td>NaN</td>\n",
       "      <td>NaN</td>\n",
       "      <td>NaN</td>\n",
       "      <td>NaN</td>\n",
       "      <td>NaN</td>\n",
       "      <td>NaN</td>\n",
       "      <td>NaN</td>\n",
       "      <td>NaN</td>\n",
       "      <td>NaN</td>\n",
       "      <td>NaN</td>\n",
       "      <td>NaN</td>\n",
       "      <td>NaN</td>\n",
       "      <td>NaN</td>\n",
       "      <td>NaN</td>\n",
       "      <td>NaN</td>\n",
       "      <td>NaN</td>\n",
       "      <td>NaN</td>\n",
       "      <td>NaN</td>\n",
       "      <td>NaN</td>\n",
       "      <td>NaN</td>\n",
       "      <td>NaN</td>\n",
       "      <td>NaN</td>\n",
       "      <td>NaN</td>\n",
       "    </tr>\n",
       "    <tr>\n",
       "      <th>88882</th>\n",
       "      <td>Bash/Shell/PowerShell</td>\n",
       "      <td>HTML/CSS</td>\n",
       "      <td>Java</td>\n",
       "      <td>JavaScript</td>\n",
       "      <td>PHP</td>\n",
       "      <td>SQL</td>\n",
       "      <td>Swift</td>\n",
       "      <td>None</td>\n",
       "      <td>None</td>\n",
       "      <td>None</td>\n",
       "      <td>None</td>\n",
       "      <td>None</td>\n",
       "      <td>None</td>\n",
       "      <td>None</td>\n",
       "      <td>None</td>\n",
       "      <td>None</td>\n",
       "      <td>None</td>\n",
       "      <td>None</td>\n",
       "      <td>None</td>\n",
       "      <td>None</td>\n",
       "      <td>None</td>\n",
       "      <td>None</td>\n",
       "      <td>None</td>\n",
       "      <td>None</td>\n",
       "      <td>None</td>\n",
       "      <td>None</td>\n",
       "      <td>None</td>\n",
       "      <td>None</td>\n",
       "    </tr>\n",
       "  </tbody>\n",
       "</table>\n",
       "<p>88883 rows × 28 columns</p>\n",
       "</div>"
      ],
      "text/plain": [
       "                          0           1           2           3       4   \\\n",
       "0                   HTML/CSS        Java  JavaScript      Python    None   \n",
       "1                        C++    HTML/CSS      Python        None    None   \n",
       "2                   HTML/CSS        None        None        None    None   \n",
       "3                          C         C++          C#      Python     SQL   \n",
       "4                        C++    HTML/CSS        Java  JavaScript  Python   \n",
       "...                      ...         ...         ...         ...     ...   \n",
       "88878               HTML/CSS  JavaScript   Other(s):        None    None   \n",
       "88879                    NaN         NaN         NaN         NaN     NaN   \n",
       "88880                    NaN         NaN         NaN         NaN     NaN   \n",
       "88881                    NaN         NaN         NaN         NaN     NaN   \n",
       "88882  Bash/Shell/PowerShell    HTML/CSS        Java  JavaScript     PHP   \n",
       "\n",
       "         5      6     7     8     9     10    11    12    13    14    15  \\\n",
       "0      None   None  None  None  None  None  None  None  None  None  None   \n",
       "1      None   None  None  None  None  None  None  None  None  None  None   \n",
       "2      None   None  None  None  None  None  None  None  None  None  None   \n",
       "3      None   None  None  None  None  None  None  None  None  None  None   \n",
       "4       SQL    VBA  None  None  None  None  None  None  None  None  None   \n",
       "...     ...    ...   ...   ...   ...   ...   ...   ...   ...   ...   ...   \n",
       "88878  None   None  None  None  None  None  None  None  None  None  None   \n",
       "88879   NaN    NaN   NaN   NaN   NaN   NaN   NaN   NaN   NaN   NaN   NaN   \n",
       "88880   NaN    NaN   NaN   NaN   NaN   NaN   NaN   NaN   NaN   NaN   NaN   \n",
       "88881   NaN    NaN   NaN   NaN   NaN   NaN   NaN   NaN   NaN   NaN   NaN   \n",
       "88882   SQL  Swift  None  None  None  None  None  None  None  None  None   \n",
       "\n",
       "         16    17    18    19    20    21    22    23    24    25    26    27  \n",
       "0      None  None  None  None  None  None  None  None  None  None  None  None  \n",
       "1      None  None  None  None  None  None  None  None  None  None  None  None  \n",
       "2      None  None  None  None  None  None  None  None  None  None  None  None  \n",
       "3      None  None  None  None  None  None  None  None  None  None  None  None  \n",
       "4      None  None  None  None  None  None  None  None  None  None  None  None  \n",
       "...     ...   ...   ...   ...   ...   ...   ...   ...   ...   ...   ...   ...  \n",
       "88878  None  None  None  None  None  None  None  None  None  None  None  None  \n",
       "88879   NaN   NaN   NaN   NaN   NaN   NaN   NaN   NaN   NaN   NaN   NaN   NaN  \n",
       "88880   NaN   NaN   NaN   NaN   NaN   NaN   NaN   NaN   NaN   NaN   NaN   NaN  \n",
       "88881   NaN   NaN   NaN   NaN   NaN   NaN   NaN   NaN   NaN   NaN   NaN   NaN  \n",
       "88882  None  None  None  None  None  None  None  None  None  None  None  None  \n",
       "\n",
       "[88883 rows x 28 columns]"
      ]
     },
     "execution_count": 75,
     "metadata": {},
     "output_type": "execute_result"
    }
   ],
   "source": [
    "df.loc[:,'LanguageWorkedWith'].str.split(';', expand=True)"
   ]
  },
  {
   "cell_type": "code",
   "execution_count": 78,
   "id": "79b6b48d",
   "metadata": {},
   "outputs": [],
   "source": [
    "c = Counter()\n",
    "\n",
    "for x in df.loc[:5,'LanguageWorkedWith'].str.split(';'):\n",
    "    c.update(x)"
   ]
  },
  {
   "cell_type": "code",
   "execution_count": 79,
   "id": "fc7e5994",
   "metadata": {},
   "outputs": [
    {
     "data": {
      "text/plain": [
       "Counter({'HTML/CSS': 4,\n",
       "         'Java': 3,\n",
       "         'JavaScript': 2,\n",
       "         'Python': 4,\n",
       "         'C++': 3,\n",
       "         'C': 1,\n",
       "         'C#': 1,\n",
       "         'SQL': 3,\n",
       "         'VBA': 1,\n",
       "         'R': 1})"
      ]
     },
     "execution_count": 79,
     "metadata": {},
     "output_type": "execute_result"
    }
   ],
   "source": [
    "c"
   ]
  },
  {
   "cell_type": "code",
   "execution_count": 80,
   "id": "33f1bf43",
   "metadata": {},
   "outputs": [
    {
     "data": {
      "text/plain": [
       "[HTML/CSS, Java, JavaScript, Python]                   1\n",
       "[C++, HTML/CSS, Python]                                1\n",
       "[HTML/CSS]                                             1\n",
       "[C, C++, C#, Python, SQL]                              1\n",
       "[C++, HTML/CSS, Java, JavaScript, Python, SQL, VBA]    1\n",
       "[Java, R, SQL]                                         1\n",
       "Name: LanguageWorkedWith, dtype: int64"
      ]
     },
     "execution_count": 80,
     "metadata": {},
     "output_type": "execute_result"
    }
   ],
   "source": [
    "df.loc[:5,'LanguageWorkedWith'].str.split(';').value_counts()"
   ]
  },
  {
   "cell_type": "code",
   "execution_count": 81,
   "id": "acf9cde9",
   "metadata": {},
   "outputs": [
    {
     "data": {
      "text/plain": [
       "0     True\n",
       "1     True\n",
       "2    False\n",
       "3     True\n",
       "4     True\n",
       "5    False\n",
       "Name: LanguageWorkedWith, dtype: bool"
      ]
     },
     "execution_count": 81,
     "metadata": {},
     "output_type": "execute_result"
    }
   ],
   "source": [
    "df.loc[:5,'LanguageWorkedWith'].str.contains('Python')"
   ]
  },
  {
   "cell_type": "code",
   "execution_count": 82,
   "id": "7cdd7ff3",
   "metadata": {},
   "outputs": [
    {
     "data": {
      "text/plain": [
       "0    False\n",
       "1    False\n",
       "2    False\n",
       "3    False\n",
       "4    False\n",
       "5    False\n",
       "Name: LanguageWorkedWith, dtype: bool"
      ]
     },
     "execution_count": 82,
     "metadata": {},
     "output_type": "execute_result"
    }
   ],
   "source": [
    "l = ['Python', 'JavaScript']\n",
    "df.loc[:5,'LanguageWorkedWith'].isin(l)"
   ]
  },
  {
   "cell_type": "code",
   "execution_count": 86,
   "id": "a3f59694",
   "metadata": {},
   "outputs": [
    {
     "data": {
      "text/plain": [
       "0                     [HTML/CSS, Java, JavaScript, Python]\n",
       "1                                  [C++, HTML/CSS, Python]\n",
       "2                                               [HTML/CSS]\n",
       "3                                [C, C++, C#, Python, SQL]\n",
       "4        [C++, HTML/CSS, Java, JavaScript, Python, SQL,...\n",
       "                               ...                        \n",
       "88878                    [HTML/CSS, JavaScript, Other(s):]\n",
       "88879                                                  NaN\n",
       "88880                                                  NaN\n",
       "88881                                                  NaN\n",
       "88882    [Bash/Shell/PowerShell, HTML/CSS, Java, JavaSc...\n",
       "Name: LanguageWorkedWith, Length: 88883, dtype: object"
      ]
     },
     "execution_count": 86,
     "metadata": {},
     "output_type": "execute_result"
    }
   ],
   "source": [
    "df.loc[:,'LanguageWorkedWith'].str.split(';')"
   ]
  },
  {
   "cell_type": "code",
   "execution_count": 89,
   "id": "97514281",
   "metadata": {},
   "outputs": [
    {
     "data": {
      "text/plain": [
       "JavaScript               59219\n",
       "HTML/CSS                 55466\n",
       "SQL                      47544\n",
       "Python                   36443\n",
       "Java                     35917\n",
       "Bash/Shell/PowerShell    31991\n",
       "C#                       27097\n",
       "PHP                      23030\n",
       "C++                      20524\n",
       "TypeScript               18523\n",
       "C                        18017\n",
       "Other(s):                 7920\n",
       "Ruby                      7331\n",
       "Go                        7201\n",
       "Assembly                  5833\n",
       "Name: LanguageWorkedWith, dtype: int64"
      ]
     },
     "execution_count": 89,
     "metadata": {},
     "output_type": "execute_result"
    }
   ],
   "source": [
    "df.loc[:,'LanguageWorkedWith'].str.split(';').explode().value_counts().head(15)"
   ]
  },
  {
   "cell_type": "code",
   "execution_count": 90,
   "id": "71afd184",
   "metadata": {},
   "outputs": [
    {
     "data": {
      "text/plain": [
       "JavaScript               0.134434\n",
       "HTML/CSS                 0.125915\n",
       "SQL                      0.107931\n",
       "Python                   0.082730\n",
       "Java                     0.081536\n",
       "Bash/Shell/PowerShell    0.072623\n",
       "C#                       0.061513\n",
       "PHP                      0.052281\n",
       "C++                      0.046592\n",
       "TypeScript               0.042049\n",
       "C                        0.040901\n",
       "Other(s):                0.017979\n",
       "Ruby                     0.016642\n",
       "Go                       0.016347\n",
       "Assembly                 0.013242\n",
       "Name: LanguageWorkedWith, dtype: float64"
      ]
     },
     "execution_count": 90,
     "metadata": {},
     "output_type": "execute_result"
    }
   ],
   "source": [
    "df.loc[:,'LanguageWorkedWith'].str.split(';').explode().value_counts(normalize=True).head(15)"
   ]
  },
  {
   "cell_type": "code",
   "execution_count": 92,
   "id": "cb658de4",
   "metadata": {},
   "outputs": [
    {
     "data": {
      "text/plain": [
       "pandas.core.series.Series"
      ]
     },
     "execution_count": 92,
     "metadata": {},
     "output_type": "execute_result"
    }
   ],
   "source": [
    "type(df.loc[:,'LanguageWorkedWith'].str.split(';').explode().value_counts().head(15))"
   ]
  },
  {
   "cell_type": "code",
   "execution_count": 135,
   "id": "5c28044f",
   "metadata": {},
   "outputs": [
    {
     "data": {
      "image/png": "[encoded data removed]",
      "text/plain": [
       "<Figure size 640x480 with 1 Axes>"
      ]
     },
     "metadata": {},
     "output_type": "display_data"
    }
   ],
   "source": [
    "d = df.loc[:,'LanguageWorkedWith'].str.split(';').explode().value_counts().head(15)\n",
    "d.sort_values(ascending=True, inplace=True)\n",
    "\n",
    "plt.style.use('seaborn-pastel')\n",
    "plt.barh(d.index, d.values)\n",
    "plt.xlabel('popularity')\n",
    "plt.tight_layout()\n",
    "plt.show()"
   ]
  },
  {
   "cell_type": "code",
   "execution_count": 114,
   "id": "f1424257",
   "metadata": {},
   "outputs": [
    {
     "data": {
      "text/plain": [
       "array([ 5833,  7201,  7331,  7920, 18017, 18523, 20524, 23030, 27097,\n",
       "       31991, 35917, 36443, 47544, 55466, 59219])"
      ]
     },
     "execution_count": 114,
     "metadata": {},
     "output_type": "execute_result"
    }
   ],
   "source": [
    "d.values"
   ]
  },
  {
   "cell_type": "code",
   "execution_count": 136,
   "id": "d1dd265c",
   "metadata": {},
   "outputs": [],
   "source": [
    "lst = []\n",
    "for i in d.values:\n",
    "    lst.append(str(i/1000) + 'K')"
   ]
  },
  {
   "cell_type": "code",
   "execution_count": 137,
   "id": "991a64d4",
   "metadata": {},
   "outputs": [
    {
     "data": {
      "text/plain": [
       "['5.833K',\n",
       " '7.201K',\n",
       " '7.331K',\n",
       " '7.92K',\n",
       " '18.017K',\n",
       " '18.523K',\n",
       " '20.524K',\n",
       " '23.03K',\n",
       " '27.097K',\n",
       " '31.991K',\n",
       " '35.917K',\n",
       " '36.443K',\n",
       " '47.544K',\n",
       " '55.466K',\n",
       " '59.219K']"
      ]
     },
     "execution_count": 137,
     "metadata": {},
     "output_type": "execute_result"
    }
   ],
   "source": [
    "lst"
   ]
  },
  {
   "cell_type": "code",
   "execution_count": 140,
   "id": "2ade50b4",
   "metadata": {},
   "outputs": [
    {
     "data": {
      "image/png": "[encoded data removed]",
      "text/plain": [
       "<Figure size 640x480 with 1 Axes>"
      ]
     },
     "metadata": {},
     "output_type": "display_data"
    }
   ],
   "source": [
    "d = df.loc[:,'LanguageWorkedWith'].str.split(';').explode().value_counts(normalize=True).head(15)\n",
    "d.sort_values(ascending=True, inplace=True)\n",
    "\n",
    "plt.style.use('seaborn-pastel')\n",
    "plt.barh(d.index, d.values)\n",
    "plt.xlabel('popularity')\n",
    "plt.tight_layout()\n",
    "plt.show()"
   ]
  },
  {
   "cell_type": "code",
   "execution_count": 176,
   "id": "22c5abd7",
   "metadata": {},
   "outputs": [
    {
     "data": {
      "image/png": "[encoded data removed]",
      "text/plain": [
       "<Figure size 700x500 with 1 Axes>"
      ]
     },
     "metadata": {},
     "output_type": "display_data"
    }
   ],
   "source": [
    "plt.style.use('ggplot')\n",
    "fig, ax = plt.subplots(1, 1, figsize=(7,5), layout='tight')\n",
    "ax.barh(d.index, d.values, label='popularity')\n",
    "ax.set_xlabel('popularity')\n",
    "ax.set_ylabel('language')\n",
    "ax.legend(loc='best')\n",
    "plt.show()"
   ]
  },
  {
   "cell_type": "code",
   "execution_count": 177,
   "id": "2cda669b",
   "metadata": {},
   "outputs": [
    {
     "data": {
      "text/plain": [
       "[Text(0.0, 0, '0.00'),\n",
       " Text(0.02, 0, '0.02'),\n",
       " Text(0.04, 0, '0.04'),\n",
       " Text(0.06, 0, '0.06'),\n",
       " Text(0.08, 0, '0.08'),\n",
       " Text(0.1, 0, '0.10'),\n",
       " Text(0.12, 0, '0.12'),\n",
       " Text(0.14, 0, '0.14'),\n",
       " Text(0.16, 0, '0.16')]"
      ]
     },
     "execution_count": 177,
     "metadata": {},
     "output_type": "execute_result"
    }
   ],
   "source": [
    "ax.get_xticklabels()"
   ]
  },
  {
   "cell_type": "code",
   "execution_count": 178,
   "id": "82c2573f",
   "metadata": {},
   "outputs": [
    {
     "data": {
      "text/plain": [
       "['0.00', '0.02', '0.04', '0.06', '0.08', '0.10', '0.12', '0.14', '0.16']"
      ]
     },
     "execution_count": 178,
     "metadata": {},
     "output_type": "execute_result"
    }
   ],
   "source": [
    "[i.get_text() for i in ax.get_xticklabels()]"
   ]
  },
  {
   "cell_type": "code",
   "execution_count": 179,
   "id": "047380df",
   "metadata": {},
   "outputs": [
    {
     "data": {
      "text/plain": [
       "['0.00', '0.02', '0.04', '0.06', '0.08', '0.10', '0.12', '0.14', '0.16']"
      ]
     },
     "execution_count": 179,
     "metadata": {},
     "output_type": "execute_result"
    }
   ],
   "source": [
    "[i.get_text() for i in ax.get_xticklabels()]"
   ]
  },
  {
   "cell_type": "code",
   "execution_count": 180,
   "id": "be7079f9",
   "metadata": {},
   "outputs": [
    {
     "data": {
      "text/plain": [
       "0.0"
      ]
     },
     "execution_count": 180,
     "metadata": {},
     "output_type": "execute_result"
    }
   ],
   "source": [
    "float(ax.get_xticklabels()[0].get_text())"
   ]
  },
  {
   "cell_type": "code",
   "execution_count": 181,
   "id": "2bb0f883",
   "metadata": {},
   "outputs": [],
   "source": [
    "labs = [float(i.get_text()) for i in ax.get_xticklabels()]"
   ]
  },
  {
   "cell_type": "code",
   "execution_count": 182,
   "id": "f8cedad0",
   "metadata": {},
   "outputs": [
    {
     "data": {
      "text/plain": [
       "[0.0, 0.02, 0.04, 0.06, 0.08, 0.1, 0.12, 0.14, 0.16]"
      ]
     },
     "execution_count": 182,
     "metadata": {},
     "output_type": "execute_result"
    }
   ],
   "source": [
    "labs"
   ]
  },
  {
   "cell_type": "code",
   "execution_count": 183,
   "id": "a80d7157",
   "metadata": {},
   "outputs": [
    {
     "name": "stderr",
     "output_type": "stream",
     "text": [
      "/tmp/ipykernel_11309/1809908868.py:9: UserWarning: FixedFormatter should only be used together with FixedLocator\n",
      "  ax.set_xticklabels(labs3)\n"
     ]
    },
    {
     "data": {
      "image/png": "[encoded data removed]",
      "text/plain": [
       "<Figure size 700x500 with 1 Axes>"
      ]
     },
     "metadata": {},
     "output_type": "display_data"
    }
   ],
   "source": [
    "labs = [float(i.get_text()) for i in ax.get_xticklabels()]\n",
    "labs2 = [x*100 for x in labs]\n",
    "labs3 = [str(i)+'%' for i in labs2]\n",
    "\n",
    "plt.style.use('ggplot')\n",
    "fig, ax = plt.subplots(1, 1, figsize=(7,5), layout='tight')\n",
    "ax.barh(d.index, d.values, label='popularity')\n",
    "ax.set_xlabel('popularity')\n",
    "ax.set_xticklabels(labs3)\n",
    "ax.set_ylabel('language')\n",
    "ax.legend(loc='best')\n",
    "plt.show()"
   ]
  },
  {
   "cell_type": "code",
   "execution_count": 184,
   "id": "443a6846",
   "metadata": {},
   "outputs": [
    {
     "data": {
      "text/plain": [
       "['0.0%',\n",
       " '2.0%',\n",
       " '4.0%',\n",
       " '6.0%',\n",
       " '8.0%',\n",
       " '10.0%',\n",
       " '12.0%',\n",
       " '14.000000000000002%',\n",
       " '16.0%']"
      ]
     },
     "execution_count": 184,
     "metadata": {},
     "output_type": "execute_result"
    }
   ],
   "source": [
    "labs3"
   ]
  },
  {
   "cell_type": "code",
   "execution_count": 185,
   "id": "68fdf6ac",
   "metadata": {},
   "outputs": [],
   "source": [
    "pd.options.display.float_format = '{:.1f}'.format"
   ]
  },
  {
   "cell_type": "code",
   "execution_count": 186,
   "id": "0bf571d6",
   "metadata": {},
   "outputs": [
    {
     "data": {
      "text/plain": [
       "[0.0, 2.0, 4.0, 6.0, 8.0, 10.0, 12.0, 14.000000000000002, 16.0]"
      ]
     },
     "execution_count": 186,
     "metadata": {},
     "output_type": "execute_result"
    }
   ],
   "source": [
    "labs2"
   ]
  }
 ],
 "metadata": {
  "kernelspec": {
   "display_name": "Python 3 (ipykernel)",
   "language": "python",
   "name": "python3"
  },
  "language_info": {
   "codemirror_mode": {
    "name": "ipython",
    "version": 3
   },
   "file_extension": ".py",
   "mimetype": "text/x-python",
   "name": "python",
   "nbconvert_exporter": "python",
   "pygments_lexer": "ipython3",
   "version": "3.9.13"
  }
 },
 "nbformat": 4,
 "nbformat_minor": 5
}
