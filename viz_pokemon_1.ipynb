{
 "cells":[
  {
   "cell_type":"code",
   "source":[
    "import numpy as np\n",
    "import pandas as pd\n",
    "from matplotlib import pyplot as plt\n",
    "import seaborn as sns\n",
    "\n",
    "df = pd.read_csv('Pokemon.csv', index_col=0, encoding='latin')"
   ],
   "execution_count":null,
   "outputs":[
    
   ],
   "metadata":{
    "datalore":{
     "node_id":"ZjCRt9QIWpxjfimHCiuxMh",
     "type":"CODE",
     "hide_input_from_viewers":false,
     "hide_output_from_viewers":false,
     "report_properties":{
      
     }
    }
   }
  },
  {
   "cell_type":"code",
   "source":[
    "df.head(3)"
   ],
   "execution_count":null,
   "outputs":[
    {
     "data":{
      "text\/html":[
       "<div>\n",
       "<style scoped>\n",
       "    .dataframe tbody tr th:only-of-type {\n",
       "        vertical-align: middle;\n",
       "    }\n",
       "\n",
       "    .dataframe tbody tr th {\n",
       "        vertical-align: top;\n",
       "    }\n",
       "\n",
       "    .dataframe thead th {\n",
       "        text-align: right;\n",
       "    }\n",
       "<\/style>\n",
       "<table border=\"1\" class=\"dataframe\">\n",
       "  <thead>\n",
       "    <tr style=\"text-align: right;\">\n",
       "      <th><\/th>\n",
       "      <th>Name<\/th>\n",
       "      <th>Type 1<\/th>\n",
       "      <th>Type 2<\/th>\n",
       "      <th>Total<\/th>\n",
       "      <th>HP<\/th>\n",
       "      <th>Attack<\/th>\n",
       "      <th>Defense<\/th>\n",
       "      <th>Sp. Atk<\/th>\n",
       "      <th>Sp. Def<\/th>\n",
       "      <th>Speed<\/th>\n",
       "      <th>Stage<\/th>\n",
       "      <th>Legendary<\/th>\n",
       "    <\/tr>\n",
       "    <tr>\n",
       "      <th>#<\/th>\n",
       "      <th><\/th>\n",
       "      <th><\/th>\n",
       "      <th><\/th>\n",
       "      <th><\/th>\n",
       "      <th><\/th>\n",
       "      <th><\/th>\n",
       "      <th><\/th>\n",
       "      <th><\/th>\n",
       "      <th><\/th>\n",
       "      <th><\/th>\n",
       "      <th><\/th>\n",
       "      <th><\/th>\n",
       "    <\/tr>\n",
       "  <\/thead>\n",
       "  <tbody>\n",
       "    <tr>\n",
       "      <th>1<\/th>\n",
       "      <td>Bulbasaur<\/td>\n",
       "      <td>Grass<\/td>\n",
       "      <td>Poison<\/td>\n",
       "      <td>318<\/td>\n",
       "      <td>45<\/td>\n",
       "      <td>49<\/td>\n",
       "      <td>49<\/td>\n",
       "      <td>65<\/td>\n",
       "      <td>65<\/td>\n",
       "      <td>45<\/td>\n",
       "      <td>1<\/td>\n",
       "      <td>False<\/td>\n",
       "    <\/tr>\n",
       "    <tr>\n",
       "      <th>2<\/th>\n",
       "      <td>Ivysaur<\/td>\n",
       "      <td>Grass<\/td>\n",
       "      <td>Poison<\/td>\n",
       "      <td>405<\/td>\n",
       "      <td>60<\/td>\n",
       "      <td>62<\/td>\n",
       "      <td>63<\/td>\n",
       "      <td>80<\/td>\n",
       "      <td>80<\/td>\n",
       "      <td>60<\/td>\n",
       "      <td>2<\/td>\n",
       "      <td>False<\/td>\n",
       "    <\/tr>\n",
       "    <tr>\n",
       "      <th>3<\/th>\n",
       "      <td>Venusaur<\/td>\n",
       "      <td>Grass<\/td>\n",
       "      <td>Poison<\/td>\n",
       "      <td>525<\/td>\n",
       "      <td>80<\/td>\n",
       "      <td>82<\/td>\n",
       "      <td>83<\/td>\n",
       "      <td>100<\/td>\n",
       "      <td>100<\/td>\n",
       "      <td>80<\/td>\n",
       "      <td>3<\/td>\n",
       "      <td>False<\/td>\n",
       "    <\/tr>\n",
       "  <\/tbody>\n",
       "<\/table>\n",
       "<\/div>"
      ]
     },
     "metadata":{
      
     },
     "output_type":"display_data"
    },
    {
     "data":{
      "text\/plain":[
       "        Name Type 1  Type 2  Total  HP  Attack  Defense  Sp. Atk  Sp. Def  \\\n",
       "#                                                                           \n",
       "1  Bulbasaur  Grass  Poison    318  45      49       49       65       65   \n",
       "2    Ivysaur  Grass  Poison    405  60      62       63       80       80   \n",
       "3   Venusaur  Grass  Poison    525  80      82       83      100      100   \n",
       "\n",
       "   Speed  Stage  Legendary  \n",
       "#                           \n",
       "1     45      1      False  \n",
       "2     60      2      False  \n",
       "3     80      3      False  "
      ]
     },
     "metadata":{
      
     },
     "output_type":"display_data"
    }
   ],
   "metadata":{
    "datalore":{
     "node_id":"kshy3MO9q7hDBO5GAVpwrV",
     "type":"CODE",
     "hide_input_from_viewers":false,
     "hide_output_from_viewers":false,
     "report_properties":{
      
     }
    }
   }
  },
  {
   "cell_type":"code",
   "source":[
    "df.groupby(['Type 1', 'Type 2'])[['HP', 'Attack', 'Defense']].agg('mean')"
   ],
   "execution_count":null,
   "outputs":[
    {
     "data":{
      "text\/html":[
       "<div>\n",
       "<style scoped>\n",
       "    .dataframe tbody tr th:only-of-type {\n",
       "        vertical-align: middle;\n",
       "    }\n",
       "\n",
       "    .dataframe tbody tr th {\n",
       "        vertical-align: top;\n",
       "    }\n",
       "\n",
       "    .dataframe thead th {\n",
       "        text-align: right;\n",
       "    }\n",
       "<\/style>\n",
       "<table border=\"1\" class=\"dataframe\">\n",
       "  <thead>\n",
       "    <tr style=\"text-align: right;\">\n",
       "      <th><\/th>\n",
       "      <th><\/th>\n",
       "      <th>HP<\/th>\n",
       "      <th>Attack<\/th>\n",
       "      <th>Defense<\/th>\n",
       "    <\/tr>\n",
       "    <tr>\n",
       "      <th>Type 1<\/th>\n",
       "      <th>Type 2<\/th>\n",
       "      <th><\/th>\n",
       "      <th><\/th>\n",
       "      <th><\/th>\n",
       "    <\/tr>\n",
       "  <\/thead>\n",
       "  <tbody>\n",
       "    <tr>\n",
       "      <th rowspan=\"3\" valign=\"top\">Bug<\/th>\n",
       "      <th>Flying<\/th>\n",
       "      <td>65.000000<\/td>\n",
       "      <td>77.500000<\/td>\n",
       "      <td>65.000000<\/td>\n",
       "    <\/tr>\n",
       "    <tr>\n",
       "      <th>Grass<\/th>\n",
       "      <td>47.500000<\/td>\n",
       "      <td>82.500000<\/td>\n",
       "      <td>67.500000<\/td>\n",
       "    <\/tr>\n",
       "    <tr>\n",
       "      <th>Poison<\/th>\n",
       "      <td>56.000000<\/td>\n",
       "      <td>54.000000<\/td>\n",
       "      <td>46.000000<\/td>\n",
       "    <\/tr>\n",
       "    <tr>\n",
       "      <th>Dragon<\/th>\n",
       "      <th>Flying<\/th>\n",
       "      <td>91.000000<\/td>\n",
       "      <td>134.000000<\/td>\n",
       "      <td>95.000000<\/td>\n",
       "    <\/tr>\n",
       "    <tr>\n",
       "      <th rowspan=\"2\" valign=\"top\">Electric<\/th>\n",
       "      <th>Flying<\/th>\n",
       "      <td>90.000000<\/td>\n",
       "      <td>90.000000<\/td>\n",
       "      <td>85.000000<\/td>\n",
       "    <\/tr>\n",
       "    <tr>\n",
       "      <th>Steel<\/th>\n",
       "      <td>37.500000<\/td>\n",
       "      <td>47.500000<\/td>\n",
       "      <td>82.500000<\/td>\n",
       "    <\/tr>\n",
       "    <tr>\n",
       "      <th>Fire<\/th>\n",
       "      <th>Flying<\/th>\n",
       "      <td>84.000000<\/td>\n",
       "      <td>92.000000<\/td>\n",
       "      <td>84.000000<\/td>\n",
       "    <\/tr>\n",
       "    <tr>\n",
       "      <th>Ghost<\/th>\n",
       "      <th>Poison<\/th>\n",
       "      <td>45.000000<\/td>\n",
       "      <td>50.000000<\/td>\n",
       "      <td>45.000000<\/td>\n",
       "    <\/tr>\n",
       "    <tr>\n",
       "      <th rowspan=\"2\" valign=\"top\">Grass<\/th>\n",
       "      <th>Poison<\/th>\n",
       "      <td>62.222222<\/td>\n",
       "      <td>73.111111<\/td>\n",
       "      <td>61.666667<\/td>\n",
       "    <\/tr>\n",
       "    <tr>\n",
       "      <th>Psychic<\/th>\n",
       "      <td>77.500000<\/td>\n",
       "      <td>67.500000<\/td>\n",
       "      <td>82.500000<\/td>\n",
       "    <\/tr>\n",
       "    <tr>\n",
       "      <th>Ground<\/th>\n",
       "      <th>Rock<\/th>\n",
       "      <td>92.500000<\/td>\n",
       "      <td>107.500000<\/td>\n",
       "      <td>107.500000<\/td>\n",
       "    <\/tr>\n",
       "    <tr>\n",
       "      <th rowspan=\"2\" valign=\"top\">Ice<\/th>\n",
       "      <th>Flying<\/th>\n",
       "      <td>90.000000<\/td>\n",
       "      <td>85.000000<\/td>\n",
       "      <td>100.000000<\/td>\n",
       "    <\/tr>\n",
       "    <tr>\n",
       "      <th>Psychic<\/th>\n",
       "      <td>65.000000<\/td>\n",
       "      <td>50.000000<\/td>\n",
       "      <td>35.000000<\/td>\n",
       "    <\/tr>\n",
       "    <tr>\n",
       "      <th rowspan=\"2\" valign=\"top\">Normal<\/th>\n",
       "      <th>Fairy<\/th>\n",
       "      <td>127.500000<\/td>\n",
       "      <td>57.500000<\/td>\n",
       "      <td>32.500000<\/td>\n",
       "    <\/tr>\n",
       "    <tr>\n",
       "      <th>Flying<\/th>\n",
       "      <td>54.750000<\/td>\n",
       "      <td>74.375000<\/td>\n",
       "      <td>54.375000<\/td>\n",
       "    <\/tr>\n",
       "    <tr>\n",
       "      <th rowspan=\"2\" valign=\"top\">Poison<\/th>\n",
       "      <th>Flying<\/th>\n",
       "      <td>57.500000<\/td>\n",
       "      <td>62.500000<\/td>\n",
       "      <td>52.500000<\/td>\n",
       "    <\/tr>\n",
       "    <tr>\n",
       "      <th>Ground<\/th>\n",
       "      <td>85.500000<\/td>\n",
       "      <td>97.000000<\/td>\n",
       "      <td>82.000000<\/td>\n",
       "    <\/tr>\n",
       "    <tr>\n",
       "      <th>Psychic<\/th>\n",
       "      <th>Fairy<\/th>\n",
       "      <td>40.000000<\/td>\n",
       "      <td>45.000000<\/td>\n",
       "      <td>65.000000<\/td>\n",
       "    <\/tr>\n",
       "    <tr>\n",
       "      <th rowspan=\"3\" valign=\"top\">Rock<\/th>\n",
       "      <th>Flying<\/th>\n",
       "      <td>80.000000<\/td>\n",
       "      <td>105.000000<\/td>\n",
       "      <td>65.000000<\/td>\n",
       "    <\/tr>\n",
       "    <tr>\n",
       "      <th>Ground<\/th>\n",
       "      <td>52.500000<\/td>\n",
       "      <td>85.000000<\/td>\n",
       "      <td>126.250000<\/td>\n",
       "    <\/tr>\n",
       "    <tr>\n",
       "      <th>Water<\/th>\n",
       "      <td>48.750000<\/td>\n",
       "      <td>73.750000<\/td>\n",
       "      <td>105.000000<\/td>\n",
       "    <\/tr>\n",
       "    <tr>\n",
       "      <th rowspan=\"5\" valign=\"top\">Water<\/th>\n",
       "      <th>Fighting<\/th>\n",
       "      <td>90.000000<\/td>\n",
       "      <td>95.000000<\/td>\n",
       "      <td>95.000000<\/td>\n",
       "    <\/tr>\n",
       "    <tr>\n",
       "      <th>Flying<\/th>\n",
       "      <td>95.000000<\/td>\n",
       "      <td>125.000000<\/td>\n",
       "      <td>79.000000<\/td>\n",
       "    <\/tr>\n",
       "    <tr>\n",
       "      <th>Ice<\/th>\n",
       "      <td>90.000000<\/td>\n",
       "      <td>83.333333<\/td>\n",
       "      <td>113.333333<\/td>\n",
       "    <\/tr>\n",
       "    <tr>\n",
       "      <th>Poison<\/th>\n",
       "      <td>60.000000<\/td>\n",
       "      <td>55.000000<\/td>\n",
       "      <td>50.000000<\/td>\n",
       "    <\/tr>\n",
       "    <tr>\n",
       "      <th>Psychic<\/th>\n",
       "      <td>81.666667<\/td>\n",
       "      <td>71.666667<\/td>\n",
       "      <td>86.666667<\/td>\n",
       "    <\/tr>\n",
       "  <\/tbody>\n",
       "<\/table>\n",
       "<\/div>"
      ]
     },
     "metadata":{
      
     },
     "output_type":"display_data"
    },
    {
     "data":{
      "text\/plain":[
       "                           HP      Attack     Defense\n",
       "Type 1   Type 2                                      \n",
       "Bug      Flying     65.000000   77.500000   65.000000\n",
       "         Grass      47.500000   82.500000   67.500000\n",
       "         Poison     56.000000   54.000000   46.000000\n",
       "Dragon   Flying     91.000000  134.000000   95.000000\n",
       "Electric Flying     90.000000   90.000000   85.000000\n",
       "         Steel      37.500000   47.500000   82.500000\n",
       "Fire     Flying     84.000000   92.000000   84.000000\n",
       "Ghost    Poison     45.000000   50.000000   45.000000\n",
       "Grass    Poison     62.222222   73.111111   61.666667\n",
       "         Psychic    77.500000   67.500000   82.500000\n",
       "Ground   Rock       92.500000  107.500000  107.500000\n",
       "Ice      Flying     90.000000   85.000000  100.000000\n",
       "         Psychic    65.000000   50.000000   35.000000\n",
       "Normal   Fairy     127.500000   57.500000   32.500000\n",
       "         Flying     54.750000   74.375000   54.375000\n",
       "Poison   Flying     57.500000   62.500000   52.500000\n",
       "         Ground     85.500000   97.000000   82.000000\n",
       "Psychic  Fairy      40.000000   45.000000   65.000000\n",
       "Rock     Flying     80.000000  105.000000   65.000000\n",
       "         Ground     52.500000   85.000000  126.250000\n",
       "         Water      48.750000   73.750000  105.000000\n",
       "Water    Fighting   90.000000   95.000000   95.000000\n",
       "         Flying     95.000000  125.000000   79.000000\n",
       "         Ice        90.000000   83.333333  113.333333\n",
       "         Poison     60.000000   55.000000   50.000000\n",
       "         Psychic    81.666667   71.666667   86.666667"
      ]
     },
     "metadata":{
      
     },
     "output_type":"display_data"
    }
   ],
   "metadata":{
    "datalore":{
     "node_id":"bEx3PILmPviEVxZCTWmbBB",
     "type":"CODE",
     "hide_input_from_viewers":false,
     "hide_output_from_viewers":false,
     "report_properties":{
      
     }
    }
   }
  },
  {
   "cell_type":"code",
   "source":[
    "type_stats = df.groupby(['Type 1', 'Type 2'])[['HP', 'Attack', 'Defense']].agg([np.mean, np.median])"
   ],
   "execution_count":null,
   "outputs":[
    
   ],
   "metadata":{
    "datalore":{
     "node_id":"4yO1oVolgKRkY59IhXLSDD",
     "type":"CODE",
     "hide_input_from_viewers":false,
     "hide_output_from_viewers":false,
     "report_properties":{
      
     }
    }
   }
  },
  {
   "cell_type":"code",
   "source":[
    "type_stats"
   ],
   "execution_count":null,
   "outputs":[
    {
     "data":{
      "text\/html":[
       "<div>\n",
       "<style scoped>\n",
       "    .dataframe tbody tr th:only-of-type {\n",
       "        vertical-align: middle;\n",
       "    }\n",
       "\n",
       "    .dataframe tbody tr th {\n",
       "        vertical-align: top;\n",
       "    }\n",
       "\n",
       "    .dataframe thead tr th {\n",
       "        text-align: left;\n",
       "    }\n",
       "\n",
       "    .dataframe thead tr:last-of-type th {\n",
       "        text-align: right;\n",
       "    }\n",
       "<\/style>\n",
       "<table border=\"1\" class=\"dataframe\">\n",
       "  <thead>\n",
       "    <tr>\n",
       "      <th><\/th>\n",
       "      <th><\/th>\n",
       "      <th colspan=\"2\" halign=\"left\">HP<\/th>\n",
       "      <th colspan=\"2\" halign=\"left\">Attack<\/th>\n",
       "      <th colspan=\"2\" halign=\"left\">Defense<\/th>\n",
       "    <\/tr>\n",
       "    <tr>\n",
       "      <th><\/th>\n",
       "      <th><\/th>\n",
       "      <th>mean<\/th>\n",
       "      <th>median<\/th>\n",
       "      <th>mean<\/th>\n",
       "      <th>median<\/th>\n",
       "      <th>mean<\/th>\n",
       "      <th>median<\/th>\n",
       "    <\/tr>\n",
       "    <tr>\n",
       "      <th>Type 1<\/th>\n",
       "      <th>Type 2<\/th>\n",
       "      <th><\/th>\n",
       "      <th><\/th>\n",
       "      <th><\/th>\n",
       "      <th><\/th>\n",
       "      <th><\/th>\n",
       "      <th><\/th>\n",
       "    <\/tr>\n",
       "  <\/thead>\n",
       "  <tbody>\n",
       "    <tr>\n",
       "      <th rowspan=\"3\" valign=\"top\">Bug<\/th>\n",
       "      <th>Flying<\/th>\n",
       "      <td>65.000000<\/td>\n",
       "      <td>65.0<\/td>\n",
       "      <td>77.500000<\/td>\n",
       "      <td>77.5<\/td>\n",
       "      <td>65.000000<\/td>\n",
       "      <td>65.0<\/td>\n",
       "    <\/tr>\n",
       "    <tr>\n",
       "      <th>Grass<\/th>\n",
       "      <td>47.500000<\/td>\n",
       "      <td>47.5<\/td>\n",
       "      <td>82.500000<\/td>\n",
       "      <td>82.5<\/td>\n",
       "      <td>67.500000<\/td>\n",
       "      <td>67.5<\/td>\n",
       "    <\/tr>\n",
       "    <tr>\n",
       "      <th>Poison<\/th>\n",
       "      <td>56.000000<\/td>\n",
       "      <td>60.0<\/td>\n",
       "      <td>54.000000<\/td>\n",
       "      <td>55.0<\/td>\n",
       "      <td>46.000000<\/td>\n",
       "      <td>50.0<\/td>\n",
       "    <\/tr>\n",
       "    <tr>\n",
       "      <th>Dragon<\/th>\n",
       "      <th>Flying<\/th>\n",
       "      <td>91.000000<\/td>\n",
       "      <td>91.0<\/td>\n",
       "      <td>134.000000<\/td>\n",
       "      <td>134.0<\/td>\n",
       "      <td>95.000000<\/td>\n",
       "      <td>95.0<\/td>\n",
       "    <\/tr>\n",
       "    <tr>\n",
       "      <th rowspan=\"2\" valign=\"top\">Electric<\/th>\n",
       "      <th>Flying<\/th>\n",
       "      <td>90.000000<\/td>\n",
       "      <td>90.0<\/td>\n",
       "      <td>90.000000<\/td>\n",
       "      <td>90.0<\/td>\n",
       "      <td>85.000000<\/td>\n",
       "      <td>85.0<\/td>\n",
       "    <\/tr>\n",
       "    <tr>\n",
       "      <th>Steel<\/th>\n",
       "      <td>37.500000<\/td>\n",
       "      <td>37.5<\/td>\n",
       "      <td>47.500000<\/td>\n",
       "      <td>47.5<\/td>\n",
       "      <td>82.500000<\/td>\n",
       "      <td>82.5<\/td>\n",
       "    <\/tr>\n",
       "    <tr>\n",
       "      <th>Fire<\/th>\n",
       "      <th>Flying<\/th>\n",
       "      <td>84.000000<\/td>\n",
       "      <td>84.0<\/td>\n",
       "      <td>92.000000<\/td>\n",
       "      <td>92.0<\/td>\n",
       "      <td>84.000000<\/td>\n",
       "      <td>84.0<\/td>\n",
       "    <\/tr>\n",
       "    <tr>\n",
       "      <th>Ghost<\/th>\n",
       "      <th>Poison<\/th>\n",
       "      <td>45.000000<\/td>\n",
       "      <td>45.0<\/td>\n",
       "      <td>50.000000<\/td>\n",
       "      <td>50.0<\/td>\n",
       "      <td>45.000000<\/td>\n",
       "      <td>45.0<\/td>\n",
       "    <\/tr>\n",
       "    <tr>\n",
       "      <th rowspan=\"2\" valign=\"top\">Grass<\/th>\n",
       "      <th>Poison<\/th>\n",
       "      <td>62.222222<\/td>\n",
       "      <td>60.0<\/td>\n",
       "      <td>73.111111<\/td>\n",
       "      <td>75.0<\/td>\n",
       "      <td>61.666667<\/td>\n",
       "      <td>63.0<\/td>\n",
       "    <\/tr>\n",
       "    <tr>\n",
       "      <th>Psychic<\/th>\n",
       "      <td>77.500000<\/td>\n",
       "      <td>77.5<\/td>\n",
       "      <td>67.500000<\/td>\n",
       "      <td>67.5<\/td>\n",
       "      <td>82.500000<\/td>\n",
       "      <td>82.5<\/td>\n",
       "    <\/tr>\n",
       "    <tr>\n",
       "      <th>Ground<\/th>\n",
       "      <th>Rock<\/th>\n",
       "      <td>92.500000<\/td>\n",
       "      <td>92.5<\/td>\n",
       "      <td>107.500000<\/td>\n",
       "      <td>107.5<\/td>\n",
       "      <td>107.500000<\/td>\n",
       "      <td>107.5<\/td>\n",
       "    <\/tr>\n",
       "    <tr>\n",
       "      <th rowspan=\"2\" valign=\"top\">Ice<\/th>\n",
       "      <th>Flying<\/th>\n",
       "      <td>90.000000<\/td>\n",
       "      <td>90.0<\/td>\n",
       "      <td>85.000000<\/td>\n",
       "      <td>85.0<\/td>\n",
       "      <td>100.000000<\/td>\n",
       "      <td>100.0<\/td>\n",
       "    <\/tr>\n",
       "    <tr>\n",
       "      <th>Psychic<\/th>\n",
       "      <td>65.000000<\/td>\n",
       "      <td>65.0<\/td>\n",
       "      <td>50.000000<\/td>\n",
       "      <td>50.0<\/td>\n",
       "      <td>35.000000<\/td>\n",
       "      <td>35.0<\/td>\n",
       "    <\/tr>\n",
       "    <tr>\n",
       "      <th rowspan=\"2\" valign=\"top\">Normal<\/th>\n",
       "      <th>Fairy<\/th>\n",
       "      <td>127.500000<\/td>\n",
       "      <td>127.5<\/td>\n",
       "      <td>57.500000<\/td>\n",
       "      <td>57.5<\/td>\n",
       "      <td>32.500000<\/td>\n",
       "      <td>32.5<\/td>\n",
       "    <\/tr>\n",
       "    <tr>\n",
       "      <th>Flying<\/th>\n",
       "      <td>54.750000<\/td>\n",
       "      <td>56.0<\/td>\n",
       "      <td>74.375000<\/td>\n",
       "      <td>72.5<\/td>\n",
       "      <td>54.375000<\/td>\n",
       "      <td>55.0<\/td>\n",
       "    <\/tr>\n",
       "    <tr>\n",
       "      <th rowspan=\"2\" valign=\"top\">Poison<\/th>\n",
       "      <th>Flying<\/th>\n",
       "      <td>57.500000<\/td>\n",
       "      <td>57.5<\/td>\n",
       "      <td>62.500000<\/td>\n",
       "      <td>62.5<\/td>\n",
       "      <td>52.500000<\/td>\n",
       "      <td>52.5<\/td>\n",
       "    <\/tr>\n",
       "    <tr>\n",
       "      <th>Ground<\/th>\n",
       "      <td>85.500000<\/td>\n",
       "      <td>85.5<\/td>\n",
       "      <td>97.000000<\/td>\n",
       "      <td>97.0<\/td>\n",
       "      <td>82.000000<\/td>\n",
       "      <td>82.0<\/td>\n",
       "    <\/tr>\n",
       "    <tr>\n",
       "      <th>Psychic<\/th>\n",
       "      <th>Fairy<\/th>\n",
       "      <td>40.000000<\/td>\n",
       "      <td>40.0<\/td>\n",
       "      <td>45.000000<\/td>\n",
       "      <td>45.0<\/td>\n",
       "      <td>65.000000<\/td>\n",
       "      <td>65.0<\/td>\n",
       "    <\/tr>\n",
       "    <tr>\n",
       "      <th rowspan=\"3\" valign=\"top\">Rock<\/th>\n",
       "      <th>Flying<\/th>\n",
       "      <td>80.000000<\/td>\n",
       "      <td>80.0<\/td>\n",
       "      <td>105.000000<\/td>\n",
       "      <td>105.0<\/td>\n",
       "      <td>65.000000<\/td>\n",
       "      <td>65.0<\/td>\n",
       "    <\/tr>\n",
       "    <tr>\n",
       "      <th>Ground<\/th>\n",
       "      <td>52.500000<\/td>\n",
       "      <td>47.5<\/td>\n",
       "      <td>85.000000<\/td>\n",
       "      <td>87.5<\/td>\n",
       "      <td>126.250000<\/td>\n",
       "      <td>122.5<\/td>\n",
       "    <\/tr>\n",
       "    <tr>\n",
       "      <th>Water<\/th>\n",
       "      <td>48.750000<\/td>\n",
       "      <td>47.5<\/td>\n",
       "      <td>73.750000<\/td>\n",
       "      <td>70.0<\/td>\n",
       "      <td>105.000000<\/td>\n",
       "      <td>102.5<\/td>\n",
       "    <\/tr>\n",
       "    <tr>\n",
       "      <th rowspan=\"5\" valign=\"top\">Water<\/th>\n",
       "      <th>Fighting<\/th>\n",
       "      <td>90.000000<\/td>\n",
       "      <td>90.0<\/td>\n",
       "      <td>95.000000<\/td>\n",
       "      <td>95.0<\/td>\n",
       "      <td>95.000000<\/td>\n",
       "      <td>95.0<\/td>\n",
       "    <\/tr>\n",
       "    <tr>\n",
       "      <th>Flying<\/th>\n",
       "      <td>95.000000<\/td>\n",
       "      <td>95.0<\/td>\n",
       "      <td>125.000000<\/td>\n",
       "      <td>125.0<\/td>\n",
       "      <td>79.000000<\/td>\n",
       "      <td>79.0<\/td>\n",
       "    <\/tr>\n",
       "    <tr>\n",
       "      <th>Ice<\/th>\n",
       "      <td>90.000000<\/td>\n",
       "      <td>90.0<\/td>\n",
       "      <td>83.333333<\/td>\n",
       "      <td>85.0<\/td>\n",
       "      <td>113.333333<\/td>\n",
       "      <td>80.0<\/td>\n",
       "    <\/tr>\n",
       "    <tr>\n",
       "      <th>Poison<\/th>\n",
       "      <td>60.000000<\/td>\n",
       "      <td>60.0<\/td>\n",
       "      <td>55.000000<\/td>\n",
       "      <td>55.0<\/td>\n",
       "      <td>50.000000<\/td>\n",
       "      <td>50.0<\/td>\n",
       "    <\/tr>\n",
       "    <tr>\n",
       "      <th>Psychic<\/th>\n",
       "      <td>81.666667<\/td>\n",
       "      <td>90.0<\/td>\n",
       "      <td>71.666667<\/td>\n",
       "      <td>75.0<\/td>\n",
       "      <td>86.666667<\/td>\n",
       "      <td>85.0<\/td>\n",
       "    <\/tr>\n",
       "  <\/tbody>\n",
       "<\/table>\n",
       "<\/div>"
      ]
     },
     "metadata":{
      
     },
     "output_type":"display_data"
    },
    {
     "data":{
      "text\/plain":[
       "                           HP             Attack            Defense       \n",
       "                         mean median        mean median        mean median\n",
       "Type 1   Type 2                                                           \n",
       "Bug      Flying     65.000000   65.0   77.500000   77.5   65.000000   65.0\n",
       "         Grass      47.500000   47.5   82.500000   82.5   67.500000   67.5\n",
       "         Poison     56.000000   60.0   54.000000   55.0   46.000000   50.0\n",
       "Dragon   Flying     91.000000   91.0  134.000000  134.0   95.000000   95.0\n",
       "Electric Flying     90.000000   90.0   90.000000   90.0   85.000000   85.0\n",
       "         Steel      37.500000   37.5   47.500000   47.5   82.500000   82.5\n",
       "Fire     Flying     84.000000   84.0   92.000000   92.0   84.000000   84.0\n",
       "Ghost    Poison     45.000000   45.0   50.000000   50.0   45.000000   45.0\n",
       "Grass    Poison     62.222222   60.0   73.111111   75.0   61.666667   63.0\n",
       "         Psychic    77.500000   77.5   67.500000   67.5   82.500000   82.5\n",
       "Ground   Rock       92.500000   92.5  107.500000  107.5  107.500000  107.5\n",
       "Ice      Flying     90.000000   90.0   85.000000   85.0  100.000000  100.0\n",
       "         Psychic    65.000000   65.0   50.000000   50.0   35.000000   35.0\n",
       "Normal   Fairy     127.500000  127.5   57.500000   57.5   32.500000   32.5\n",
       "         Flying     54.750000   56.0   74.375000   72.5   54.375000   55.0\n",
       "Poison   Flying     57.500000   57.5   62.500000   62.5   52.500000   52.5\n",
       "         Ground     85.500000   85.5   97.000000   97.0   82.000000   82.0\n",
       "Psychic  Fairy      40.000000   40.0   45.000000   45.0   65.000000   65.0\n",
       "Rock     Flying     80.000000   80.0  105.000000  105.0   65.000000   65.0\n",
       "         Ground     52.500000   47.5   85.000000   87.5  126.250000  122.5\n",
       "         Water      48.750000   47.5   73.750000   70.0  105.000000  102.5\n",
       "Water    Fighting   90.000000   90.0   95.000000   95.0   95.000000   95.0\n",
       "         Flying     95.000000   95.0  125.000000  125.0   79.000000   79.0\n",
       "         Ice        90.000000   90.0   83.333333   85.0  113.333333   80.0\n",
       "         Poison     60.000000   60.0   55.000000   55.0   50.000000   50.0\n",
       "         Psychic    81.666667   90.0   71.666667   75.0   86.666667   85.0"
      ]
     },
     "metadata":{
      
     },
     "output_type":"display_data"
    }
   ],
   "metadata":{
    "datalore":{
     "node_id":"tmSzZA5o2iNZAo0ylMh7tm",
     "type":"CODE",
     "hide_input_from_viewers":false,
     "hide_output_from_viewers":false,
     "report_properties":{
      
     }
    }
   }
  },
  {
   "cell_type":"code",
   "source":[
    "type_stats.loc['Bug'].loc['Flying']"
   ],
   "execution_count":null,
   "outputs":[
    {
     "data":{
      "text\/plain":[
       "HP       mean      65.0\n",
       "         median    65.0\n",
       "Attack   mean      77.5\n",
       "         median    77.5\n",
       "Defense  mean      65.0\n",
       "         median    65.0\n",
       "Name: Flying, dtype: float64"
      ]
     },
     "metadata":{
      
     },
     "output_type":"display_data"
    }
   ],
   "metadata":{
    "datalore":{
     "node_id":"9iJJmojmOOGBtH8Ix2QwZg",
     "type":"CODE",
     "hide_input_from_viewers":false,
     "hide_output_from_viewers":false,
     "report_properties":{
      
     }
    }
   }
  },
  {
   "cell_type":"code",
   "source":[
    "type_stats.loc['Bug'].loc['Flying']['HP']['mean']"
   ],
   "execution_count":null,
   "outputs":[
    {
     "data":{
      "text\/plain":[
       "65.0"
      ]
     },
     "metadata":{
      
     },
     "output_type":"display_data"
    }
   ],
   "metadata":{
    "datalore":{
     "node_id":"eE9NSq398cB9eGRG40U5aG",
     "type":"CODE",
     "hide_input_from_viewers":false,
     "hide_output_from_viewers":false,
     "report_properties":{
      
     }
    }
   }
  },
  {
   "cell_type":"code",
   "source":[
    "type_stats.loc[['Bug', 'Dragon'], ['HP', 'Attack']]"
   ],
   "execution_count":null,
   "outputs":[
    {
     "data":{
      "text\/html":[
       "<div>\n",
       "<style scoped>\n",
       "    .dataframe tbody tr th:only-of-type {\n",
       "        vertical-align: middle;\n",
       "    }\n",
       "\n",
       "    .dataframe tbody tr th {\n",
       "        vertical-align: top;\n",
       "    }\n",
       "\n",
       "    .dataframe thead tr th {\n",
       "        text-align: left;\n",
       "    }\n",
       "\n",
       "    .dataframe thead tr:last-of-type th {\n",
       "        text-align: right;\n",
       "    }\n",
       "<\/style>\n",
       "<table border=\"1\" class=\"dataframe\">\n",
       "  <thead>\n",
       "    <tr>\n",
       "      <th><\/th>\n",
       "      <th><\/th>\n",
       "      <th colspan=\"2\" halign=\"left\">HP<\/th>\n",
       "      <th colspan=\"2\" halign=\"left\">Attack<\/th>\n",
       "    <\/tr>\n",
       "    <tr>\n",
       "      <th><\/th>\n",
       "      <th><\/th>\n",
       "      <th>mean<\/th>\n",
       "      <th>median<\/th>\n",
       "      <th>mean<\/th>\n",
       "      <th>median<\/th>\n",
       "    <\/tr>\n",
       "    <tr>\n",
       "      <th>Type 1<\/th>\n",
       "      <th>Type 2<\/th>\n",
       "      <th><\/th>\n",
       "      <th><\/th>\n",
       "      <th><\/th>\n",
       "      <th><\/th>\n",
       "    <\/tr>\n",
       "  <\/thead>\n",
       "  <tbody>\n",
       "    <tr>\n",
       "      <th rowspan=\"3\" valign=\"top\">Bug<\/th>\n",
       "      <th>Flying<\/th>\n",
       "      <td>65.0<\/td>\n",
       "      <td>65.0<\/td>\n",
       "      <td>77.5<\/td>\n",
       "      <td>77.5<\/td>\n",
       "    <\/tr>\n",
       "    <tr>\n",
       "      <th>Grass<\/th>\n",
       "      <td>47.5<\/td>\n",
       "      <td>47.5<\/td>\n",
       "      <td>82.5<\/td>\n",
       "      <td>82.5<\/td>\n",
       "    <\/tr>\n",
       "    <tr>\n",
       "      <th>Poison<\/th>\n",
       "      <td>56.0<\/td>\n",
       "      <td>60.0<\/td>\n",
       "      <td>54.0<\/td>\n",
       "      <td>55.0<\/td>\n",
       "    <\/tr>\n",
       "    <tr>\n",
       "      <th>Dragon<\/th>\n",
       "      <th>Flying<\/th>\n",
       "      <td>91.0<\/td>\n",
       "      <td>91.0<\/td>\n",
       "      <td>134.0<\/td>\n",
       "      <td>134.0<\/td>\n",
       "    <\/tr>\n",
       "  <\/tbody>\n",
       "<\/table>\n",
       "<\/div>"
      ]
     },
     "metadata":{
      
     },
     "output_type":"display_data"
    },
    {
     "data":{
      "text\/plain":[
       "                 HP        Attack       \n",
       "               mean median   mean median\n",
       "Type 1 Type 2                           \n",
       "Bug    Flying  65.0   65.0   77.5   77.5\n",
       "       Grass   47.5   47.5   82.5   82.5\n",
       "       Poison  56.0   60.0   54.0   55.0\n",
       "Dragon Flying  91.0   91.0  134.0  134.0"
      ]
     },
     "metadata":{
      
     },
     "output_type":"display_data"
    }
   ],
   "metadata":{
    "datalore":{
     "node_id":"w9anufPttph7bhn5vS9ovU",
     "type":"CODE",
     "hide_input_from_viewers":false,
     "hide_output_from_viewers":false,
     "report_properties":{
      
     }
    }
   }
  },
  {
   "cell_type":"code",
   "source":[
    "type_stats.HP.loc['Bug'].reset_index().melt(id_vars='Type 2', \n",
    "                value_vars=['mean', 'median']).sort_values(by=['Type 2', 'variable'], \n",
    "                ascending=[True, False])"
   ],
   "execution_count":null,
   "outputs":[
    {
     "data":{
      "text\/html":[
       "<div>\n",
       "<style scoped>\n",
       "    .dataframe tbody tr th:only-of-type {\n",
       "        vertical-align: middle;\n",
       "    }\n",
       "\n",
       "    .dataframe tbody tr th {\n",
       "        vertical-align: top;\n",
       "    }\n",
       "\n",
       "    .dataframe thead th {\n",
       "        text-align: right;\n",
       "    }\n",
       "<\/style>\n",
       "<table border=\"1\" class=\"dataframe\">\n",
       "  <thead>\n",
       "    <tr style=\"text-align: right;\">\n",
       "      <th><\/th>\n",
       "      <th>Type 2<\/th>\n",
       "      <th>variable<\/th>\n",
       "      <th>value<\/th>\n",
       "    <\/tr>\n",
       "  <\/thead>\n",
       "  <tbody>\n",
       "    <tr>\n",
       "      <th>3<\/th>\n",
       "      <td>Flying<\/td>\n",
       "      <td>median<\/td>\n",
       "      <td>65.0<\/td>\n",
       "    <\/tr>\n",
       "    <tr>\n",
       "      <th>0<\/th>\n",
       "      <td>Flying<\/td>\n",
       "      <td>mean<\/td>\n",
       "      <td>65.0<\/td>\n",
       "    <\/tr>\n",
       "    <tr>\n",
       "      <th>4<\/th>\n",
       "      <td>Grass<\/td>\n",
       "      <td>median<\/td>\n",
       "      <td>47.5<\/td>\n",
       "    <\/tr>\n",
       "    <tr>\n",
       "      <th>1<\/th>\n",
       "      <td>Grass<\/td>\n",
       "      <td>mean<\/td>\n",
       "      <td>47.5<\/td>\n",
       "    <\/tr>\n",
       "    <tr>\n",
       "      <th>5<\/th>\n",
       "      <td>Poison<\/td>\n",
       "      <td>median<\/td>\n",
       "      <td>60.0<\/td>\n",
       "    <\/tr>\n",
       "    <tr>\n",
       "      <th>2<\/th>\n",
       "      <td>Poison<\/td>\n",
       "      <td>mean<\/td>\n",
       "      <td>56.0<\/td>\n",
       "    <\/tr>\n",
       "  <\/tbody>\n",
       "<\/table>\n",
       "<\/div>"
      ]
     },
     "metadata":{
      
     },
     "output_type":"display_data"
    },
    {
     "data":{
      "text\/plain":[
       "   Type 2 variable  value\n",
       "3  Flying   median   65.0\n",
       "0  Flying     mean   65.0\n",
       "4   Grass   median   47.5\n",
       "1   Grass     mean   47.5\n",
       "5  Poison   median   60.0\n",
       "2  Poison     mean   56.0"
      ]
     },
     "metadata":{
      
     },
     "output_type":"display_data"
    }
   ],
   "metadata":{
    "datalore":{
     "node_id":"ncNRTfFN9y5fN7b71oyMwo",
     "type":"CODE",
     "hide_input_from_viewers":false,
     "hide_output_from_viewers":false,
     "report_properties":{
      
     }
    }
   }
  },
  {
   "cell_type":"code",
   "source":[
    "type_stats.loc[[('Bug', 'Flying'), ('Electric', 'Steel')], [('HP', 'mean'), ('Attack', 'median')]]"
   ],
   "execution_count":null,
   "outputs":[
    {
     "data":{
      "text\/html":[
       "<div>\n",
       "<style scoped>\n",
       "    .dataframe tbody tr th:only-of-type {\n",
       "        vertical-align: middle;\n",
       "    }\n",
       "\n",
       "    .dataframe tbody tr th {\n",
       "        vertical-align: top;\n",
       "    }\n",
       "\n",
       "    .dataframe thead tr th {\n",
       "        text-align: left;\n",
       "    }\n",
       "\n",
       "    .dataframe thead tr:last-of-type th {\n",
       "        text-align: right;\n",
       "    }\n",
       "<\/style>\n",
       "<table border=\"1\" class=\"dataframe\">\n",
       "  <thead>\n",
       "    <tr>\n",
       "      <th><\/th>\n",
       "      <th><\/th>\n",
       "      <th>HP<\/th>\n",
       "      <th>Attack<\/th>\n",
       "    <\/tr>\n",
       "    <tr>\n",
       "      <th><\/th>\n",
       "      <th><\/th>\n",
       "      <th>mean<\/th>\n",
       "      <th>median<\/th>\n",
       "    <\/tr>\n",
       "    <tr>\n",
       "      <th>Type 1<\/th>\n",
       "      <th>Type 2<\/th>\n",
       "      <th><\/th>\n",
       "      <th><\/th>\n",
       "    <\/tr>\n",
       "  <\/thead>\n",
       "  <tbody>\n",
       "    <tr>\n",
       "      <th>Bug<\/th>\n",
       "      <th>Flying<\/th>\n",
       "      <td>65.0<\/td>\n",
       "      <td>77.5<\/td>\n",
       "    <\/tr>\n",
       "    <tr>\n",
       "      <th>Electric<\/th>\n",
       "      <th>Steel<\/th>\n",
       "      <td>37.5<\/td>\n",
       "      <td>47.5<\/td>\n",
       "    <\/tr>\n",
       "  <\/tbody>\n",
       "<\/table>\n",
       "<\/div>"
      ]
     },
     "metadata":{
      
     },
     "output_type":"display_data"
    },
    {
     "data":{
      "text\/plain":[
       "                   HP Attack\n",
       "                 mean median\n",
       "Type 1   Type 2             \n",
       "Bug      Flying  65.0   77.5\n",
       "Electric Steel   37.5   47.5"
      ]
     },
     "metadata":{
      
     },
     "output_type":"display_data"
    }
   ],
   "metadata":{
    "datalore":{
     "node_id":"hZ7p2T35YcDu0hLljPxIn8",
     "type":"CODE",
     "hide_input_from_viewers":false,
     "hide_output_from_viewers":false,
     "report_properties":{
      
     }
    }
   }
  },
  {
   "cell_type":"code",
   "source":[
    "type_stats.loc[[('Bug', 'Flying'), ('Electric', 'Steel')], \n",
    "               [('HP', 'mean'), ('Attack', 'median')]]"
   ],
   "execution_count":null,
   "outputs":[
    {
     "data":{
      "text\/html":[
       "<div>\n",
       "<style scoped>\n",
       "    .dataframe tbody tr th:only-of-type {\n",
       "        vertical-align: middle;\n",
       "    }\n",
       "\n",
       "    .dataframe tbody tr th {\n",
       "        vertical-align: top;\n",
       "    }\n",
       "\n",
       "    .dataframe thead tr th {\n",
       "        text-align: left;\n",
       "    }\n",
       "\n",
       "    .dataframe thead tr:last-of-type th {\n",
       "        text-align: right;\n",
       "    }\n",
       "<\/style>\n",
       "<table border=\"1\" class=\"dataframe\">\n",
       "  <thead>\n",
       "    <tr>\n",
       "      <th><\/th>\n",
       "      <th><\/th>\n",
       "      <th>HP<\/th>\n",
       "      <th>Attack<\/th>\n",
       "    <\/tr>\n",
       "    <tr>\n",
       "      <th><\/th>\n",
       "      <th><\/th>\n",
       "      <th>mean<\/th>\n",
       "      <th>median<\/th>\n",
       "    <\/tr>\n",
       "    <tr>\n",
       "      <th>Type 1<\/th>\n",
       "      <th>Type 2<\/th>\n",
       "      <th><\/th>\n",
       "      <th><\/th>\n",
       "    <\/tr>\n",
       "  <\/thead>\n",
       "  <tbody>\n",
       "    <tr>\n",
       "      <th>Bug<\/th>\n",
       "      <th>Flying<\/th>\n",
       "      <td>65.0<\/td>\n",
       "      <td>77.5<\/td>\n",
       "    <\/tr>\n",
       "    <tr>\n",
       "      <th>Electric<\/th>\n",
       "      <th>Steel<\/th>\n",
       "      <td>37.5<\/td>\n",
       "      <td>47.5<\/td>\n",
       "    <\/tr>\n",
       "  <\/tbody>\n",
       "<\/table>\n",
       "<\/div>"
      ]
     },
     "metadata":{
      
     },
     "output_type":"display_data"
    },
    {
     "data":{
      "text\/plain":[
       "                   HP Attack\n",
       "                 mean median\n",
       "Type 1   Type 2             \n",
       "Bug      Flying  65.0   77.5\n",
       "Electric Steel   37.5   47.5"
      ]
     },
     "metadata":{
      
     },
     "output_type":"display_data"
    }
   ],
   "metadata":{
    "datalore":{
     "node_id":"2JXdRKI9atRujLtKXwWoVn",
     "type":"CODE",
     "hide_input_from_viewers":false,
     "hide_output_from_viewers":false,
     "report_properties":{
      
     }
    }
   }
  },
  {
   "cell_type":"code",
   "source":[
    "type_stats.loc[[('Bug', 'Flying'), ('Electric', 'Steel')], \n",
    "               [('HP', 'mean'), ('Attack', 'median')]].reset_index()"
   ],
   "execution_count":null,
   "outputs":[
    {
     "data":{
      "text\/html":[
       "<div>\n",
       "<style scoped>\n",
       "    .dataframe tbody tr th:only-of-type {\n",
       "        vertical-align: middle;\n",
       "    }\n",
       "\n",
       "    .dataframe tbody tr th {\n",
       "        vertical-align: top;\n",
       "    }\n",
       "\n",
       "    .dataframe thead tr th {\n",
       "        text-align: left;\n",
       "    }\n",
       "<\/style>\n",
       "<table border=\"1\" class=\"dataframe\">\n",
       "  <thead>\n",
       "    <tr>\n",
       "      <th><\/th>\n",
       "      <th>Type 1<\/th>\n",
       "      <th>Type 2<\/th>\n",
       "      <th>HP<\/th>\n",
       "      <th>Attack<\/th>\n",
       "    <\/tr>\n",
       "    <tr>\n",
       "      <th><\/th>\n",
       "      <th><\/th>\n",
       "      <th><\/th>\n",
       "      <th>mean<\/th>\n",
       "      <th>median<\/th>\n",
       "    <\/tr>\n",
       "  <\/thead>\n",
       "  <tbody>\n",
       "    <tr>\n",
       "      <th>0<\/th>\n",
       "      <td>Bug<\/td>\n",
       "      <td>Flying<\/td>\n",
       "      <td>65.0<\/td>\n",
       "      <td>77.5<\/td>\n",
       "    <\/tr>\n",
       "    <tr>\n",
       "      <th>1<\/th>\n",
       "      <td>Electric<\/td>\n",
       "      <td>Steel<\/td>\n",
       "      <td>37.5<\/td>\n",
       "      <td>47.5<\/td>\n",
       "    <\/tr>\n",
       "  <\/tbody>\n",
       "<\/table>\n",
       "<\/div>"
      ]
     },
     "metadata":{
      
     },
     "output_type":"display_data"
    },
    {
     "data":{
      "text\/plain":[
       "     Type 1  Type 2    HP Attack\n",
       "                     mean median\n",
       "0       Bug  Flying  65.0   77.5\n",
       "1  Electric   Steel  37.5   47.5"
      ]
     },
     "metadata":{
      
     },
     "output_type":"display_data"
    }
   ],
   "metadata":{
    "datalore":{
     "node_id":"KeCqTdSLSanzPteRD8SzTL",
     "type":"CODE",
     "hide_input_from_viewers":false,
     "hide_output_from_viewers":false,
     "report_properties":{
      
     }
    }
   }
  },
  {
   "cell_type":"code",
   "source":[
    "type_stats.loc[[('Bug', 'Flying'), ('Electric', 'Steel')], \n",
    "               [('HP', 'mean'), ('Attack', 'median')]].reset_index().T.reset_index()"
   ],
   "execution_count":null,
   "outputs":[
    {
     "data":{
      "text\/html":[
       "<div>\n",
       "<style scoped>\n",
       "    .dataframe tbody tr th:only-of-type {\n",
       "        vertical-align: middle;\n",
       "    }\n",
       "\n",
       "    .dataframe tbody tr th {\n",
       "        vertical-align: top;\n",
       "    }\n",
       "\n",
       "    .dataframe thead th {\n",
       "        text-align: right;\n",
       "    }\n",
       "<\/style>\n",
       "<table border=\"1\" class=\"dataframe\">\n",
       "  <thead>\n",
       "    <tr style=\"text-align: right;\">\n",
       "      <th><\/th>\n",
       "      <th>level_0<\/th>\n",
       "      <th>level_1<\/th>\n",
       "      <th>0<\/th>\n",
       "      <th>1<\/th>\n",
       "    <\/tr>\n",
       "  <\/thead>\n",
       "  <tbody>\n",
       "    <tr>\n",
       "      <th>0<\/th>\n",
       "      <td>Type 1<\/td>\n",
       "      <td><\/td>\n",
       "      <td>Bug<\/td>\n",
       "      <td>Electric<\/td>\n",
       "    <\/tr>\n",
       "    <tr>\n",
       "      <th>1<\/th>\n",
       "      <td>Type 2<\/td>\n",
       "      <td><\/td>\n",
       "      <td>Flying<\/td>\n",
       "      <td>Steel<\/td>\n",
       "    <\/tr>\n",
       "    <tr>\n",
       "      <th>2<\/th>\n",
       "      <td>HP<\/td>\n",
       "      <td>mean<\/td>\n",
       "      <td>65.0<\/td>\n",
       "      <td>37.5<\/td>\n",
       "    <\/tr>\n",
       "    <tr>\n",
       "      <th>3<\/th>\n",
       "      <td>Attack<\/td>\n",
       "      <td>median<\/td>\n",
       "      <td>77.5<\/td>\n",
       "      <td>47.5<\/td>\n",
       "    <\/tr>\n",
       "  <\/tbody>\n",
       "<\/table>\n",
       "<\/div>"
      ]
     },
     "metadata":{
      
     },
     "output_type":"display_data"
    },
    {
     "data":{
      "text\/plain":[
       "  level_0 level_1       0         1\n",
       "0  Type 1             Bug  Electric\n",
       "1  Type 2          Flying     Steel\n",
       "2      HP    mean    65.0      37.5\n",
       "3  Attack  median    77.5      47.5"
      ]
     },
     "metadata":{
      
     },
     "output_type":"display_data"
    }
   ],
   "metadata":{
    "datalore":{
     "node_id":"uqtoupwZMbKZZPfQyvfvwK",
     "type":"CODE",
     "hide_input_from_viewers":false,
     "hide_output_from_viewers":false,
     "report_properties":{
      
     }
    }
   }
  },
  {
   "cell_type":"code",
   "source":[
    "df.head(3)"
   ],
   "execution_count":null,
   "outputs":[
    {
     "data":{
      "text\/html":[
       "<div>\n",
       "<style scoped>\n",
       "    .dataframe tbody tr th:only-of-type {\n",
       "        vertical-align: middle;\n",
       "    }\n",
       "\n",
       "    .dataframe tbody tr th {\n",
       "        vertical-align: top;\n",
       "    }\n",
       "\n",
       "    .dataframe thead th {\n",
       "        text-align: right;\n",
       "    }\n",
       "<\/style>\n",
       "<table border=\"1\" class=\"dataframe\">\n",
       "  <thead>\n",
       "    <tr style=\"text-align: right;\">\n",
       "      <th><\/th>\n",
       "      <th>Name<\/th>\n",
       "      <th>Type 1<\/th>\n",
       "      <th>Type 2<\/th>\n",
       "      <th>Total<\/th>\n",
       "      <th>HP<\/th>\n",
       "      <th>Attack<\/th>\n",
       "      <th>Defense<\/th>\n",
       "      <th>Sp. Atk<\/th>\n",
       "      <th>Sp. Def<\/th>\n",
       "      <th>Speed<\/th>\n",
       "      <th>Stage<\/th>\n",
       "      <th>Legendary<\/th>\n",
       "    <\/tr>\n",
       "    <tr>\n",
       "      <th>#<\/th>\n",
       "      <th><\/th>\n",
       "      <th><\/th>\n",
       "      <th><\/th>\n",
       "      <th><\/th>\n",
       "      <th><\/th>\n",
       "      <th><\/th>\n",
       "      <th><\/th>\n",
       "      <th><\/th>\n",
       "      <th><\/th>\n",
       "      <th><\/th>\n",
       "      <th><\/th>\n",
       "      <th><\/th>\n",
       "    <\/tr>\n",
       "  <\/thead>\n",
       "  <tbody>\n",
       "    <tr>\n",
       "      <th>1<\/th>\n",
       "      <td>Bulbasaur<\/td>\n",
       "      <td>Grass<\/td>\n",
       "      <td>Poison<\/td>\n",
       "      <td>318<\/td>\n",
       "      <td>45<\/td>\n",
       "      <td>49<\/td>\n",
       "      <td>49<\/td>\n",
       "      <td>65<\/td>\n",
       "      <td>65<\/td>\n",
       "      <td>45<\/td>\n",
       "      <td>1<\/td>\n",
       "      <td>False<\/td>\n",
       "    <\/tr>\n",
       "    <tr>\n",
       "      <th>2<\/th>\n",
       "      <td>Ivysaur<\/td>\n",
       "      <td>Grass<\/td>\n",
       "      <td>Poison<\/td>\n",
       "      <td>405<\/td>\n",
       "      <td>60<\/td>\n",
       "      <td>62<\/td>\n",
       "      <td>63<\/td>\n",
       "      <td>80<\/td>\n",
       "      <td>80<\/td>\n",
       "      <td>60<\/td>\n",
       "      <td>2<\/td>\n",
       "      <td>False<\/td>\n",
       "    <\/tr>\n",
       "    <tr>\n",
       "      <th>3<\/th>\n",
       "      <td>Venusaur<\/td>\n",
       "      <td>Grass<\/td>\n",
       "      <td>Poison<\/td>\n",
       "      <td>525<\/td>\n",
       "      <td>80<\/td>\n",
       "      <td>82<\/td>\n",
       "      <td>83<\/td>\n",
       "      <td>100<\/td>\n",
       "      <td>100<\/td>\n",
       "      <td>80<\/td>\n",
       "      <td>3<\/td>\n",
       "      <td>False<\/td>\n",
       "    <\/tr>\n",
       "  <\/tbody>\n",
       "<\/table>\n",
       "<\/div>"
      ]
     },
     "metadata":{
      
     },
     "output_type":"display_data"
    },
    {
     "data":{
      "text\/plain":[
       "        Name Type 1  Type 2  Total  HP  Attack  Defense  Sp. Atk  Sp. Def  \\\n",
       "#                                                                           \n",
       "1  Bulbasaur  Grass  Poison    318  45      49       49       65       65   \n",
       "2    Ivysaur  Grass  Poison    405  60      62       63       80       80   \n",
       "3   Venusaur  Grass  Poison    525  80      82       83      100      100   \n",
       "\n",
       "   Speed  Stage  Legendary  \n",
       "#                           \n",
       "1     45      1      False  \n",
       "2     60      2      False  \n",
       "3     80      3      False  "
      ]
     },
     "metadata":{
      
     },
     "output_type":"display_data"
    }
   ],
   "metadata":{
    "datalore":{
     "node_id":"Jt3WVcpxQCUexx6IoPS9hM",
     "type":"CODE",
     "hide_input_from_viewers":false,
     "hide_output_from_viewers":false,
     "report_properties":{
      
     }
    }
   }
  },
  {
   "cell_type":"code",
   "source":[
    "df.query('Total == 405')"
   ],
   "execution_count":null,
   "outputs":[
    {
     "data":{
      "text\/html":[
       "<div>\n",
       "<style scoped>\n",
       "    .dataframe tbody tr th:only-of-type {\n",
       "        vertical-align: middle;\n",
       "    }\n",
       "\n",
       "    .dataframe tbody tr th {\n",
       "        vertical-align: top;\n",
       "    }\n",
       "\n",
       "    .dataframe thead th {\n",
       "        text-align: right;\n",
       "    }\n",
       "<\/style>\n",
       "<table border=\"1\" class=\"dataframe\">\n",
       "  <thead>\n",
       "    <tr style=\"text-align: right;\">\n",
       "      <th><\/th>\n",
       "      <th>Name<\/th>\n",
       "      <th>Type 1<\/th>\n",
       "      <th>Type 2<\/th>\n",
       "      <th>Total<\/th>\n",
       "      <th>HP<\/th>\n",
       "      <th>Attack<\/th>\n",
       "      <th>Defense<\/th>\n",
       "      <th>Sp. Atk<\/th>\n",
       "      <th>Sp. Def<\/th>\n",
       "      <th>Speed<\/th>\n",
       "      <th>Stage<\/th>\n",
       "      <th>Legendary<\/th>\n",
       "    <\/tr>\n",
       "    <tr>\n",
       "      <th>#<\/th>\n",
       "      <th><\/th>\n",
       "      <th><\/th>\n",
       "      <th><\/th>\n",
       "      <th><\/th>\n",
       "      <th><\/th>\n",
       "      <th><\/th>\n",
       "      <th><\/th>\n",
       "      <th><\/th>\n",
       "      <th><\/th>\n",
       "      <th><\/th>\n",
       "      <th><\/th>\n",
       "      <th><\/th>\n",
       "    <\/tr>\n",
       "  <\/thead>\n",
       "  <tbody>\n",
       "    <tr>\n",
       "      <th>2<\/th>\n",
       "      <td>Ivysaur<\/td>\n",
       "      <td>Grass<\/td>\n",
       "      <td>Poison<\/td>\n",
       "      <td>405<\/td>\n",
       "      <td>60<\/td>\n",
       "      <td>62<\/td>\n",
       "      <td>63<\/td>\n",
       "      <td>80<\/td>\n",
       "      <td>80<\/td>\n",
       "      <td>60<\/td>\n",
       "      <td>2<\/td>\n",
       "      <td>False<\/td>\n",
       "    <\/tr>\n",
       "    <tr>\n",
       "      <th>5<\/th>\n",
       "      <td>Charmeleon<\/td>\n",
       "      <td>Fire<\/td>\n",
       "      <td>NaN<\/td>\n",
       "      <td>405<\/td>\n",
       "      <td>58<\/td>\n",
       "      <td>64<\/td>\n",
       "      <td>58<\/td>\n",
       "      <td>80<\/td>\n",
       "      <td>65<\/td>\n",
       "      <td>80<\/td>\n",
       "      <td>2<\/td>\n",
       "      <td>False<\/td>\n",
       "    <\/tr>\n",
       "    <tr>\n",
       "      <th>8<\/th>\n",
       "      <td>Wartortle<\/td>\n",
       "      <td>Water<\/td>\n",
       "      <td>NaN<\/td>\n",
       "      <td>405<\/td>\n",
       "      <td>59<\/td>\n",
       "      <td>63<\/td>\n",
       "      <td>80<\/td>\n",
       "      <td>65<\/td>\n",
       "      <td>80<\/td>\n",
       "      <td>58<\/td>\n",
       "      <td>2<\/td>\n",
       "      <td>False<\/td>\n",
       "    <\/tr>\n",
       "    <tr>\n",
       "      <th>47<\/th>\n",
       "      <td>Parasect<\/td>\n",
       "      <td>Bug<\/td>\n",
       "      <td>Grass<\/td>\n",
       "      <td>405<\/td>\n",
       "      <td>60<\/td>\n",
       "      <td>95<\/td>\n",
       "      <td>80<\/td>\n",
       "      <td>60<\/td>\n",
       "      <td>80<\/td>\n",
       "      <td>30<\/td>\n",
       "      <td>2<\/td>\n",
       "      <td>False<\/td>\n",
       "    <\/tr>\n",
       "    <tr>\n",
       "      <th>51<\/th>\n",
       "      <td>Dugtrio<\/td>\n",
       "      <td>Ground<\/td>\n",
       "      <td>NaN<\/td>\n",
       "      <td>405<\/td>\n",
       "      <td>35<\/td>\n",
       "      <td>80<\/td>\n",
       "      <td>50<\/td>\n",
       "      <td>50<\/td>\n",
       "      <td>70<\/td>\n",
       "      <td>120<\/td>\n",
       "      <td>2<\/td>\n",
       "      <td>False<\/td>\n",
       "    <\/tr>\n",
       "    <tr>\n",
       "      <th>67<\/th>\n",
       "      <td>Machoke<\/td>\n",
       "      <td>Fighting<\/td>\n",
       "      <td>NaN<\/td>\n",
       "      <td>405<\/td>\n",
       "      <td>80<\/td>\n",
       "      <td>100<\/td>\n",
       "      <td>70<\/td>\n",
       "      <td>50<\/td>\n",
       "      <td>60<\/td>\n",
       "      <td>45<\/td>\n",
       "      <td>2<\/td>\n",
       "      <td>False<\/td>\n",
       "    <\/tr>\n",
       "    <tr>\n",
       "      <th>93<\/th>\n",
       "      <td>Haunter<\/td>\n",
       "      <td>Ghost<\/td>\n",
       "      <td>Poison<\/td>\n",
       "      <td>405<\/td>\n",
       "      <td>45<\/td>\n",
       "      <td>50<\/td>\n",
       "      <td>45<\/td>\n",
       "      <td>115<\/td>\n",
       "      <td>55<\/td>\n",
       "      <td>95<\/td>\n",
       "      <td>2<\/td>\n",
       "      <td>False<\/td>\n",
       "    <\/tr>\n",
       "  <\/tbody>\n",
       "<\/table>\n",
       "<\/div>"
      ]
     },
     "metadata":{
      
     },
     "output_type":"display_data"
    },
    {
     "data":{
      "text\/plain":[
       "          Name    Type 1  Type 2  Total  HP  Attack  Defense  Sp. Atk  \\\n",
       "#                                                                       \n",
       "2      Ivysaur     Grass  Poison    405  60      62       63       80   \n",
       "5   Charmeleon      Fire     NaN    405  58      64       58       80   \n",
       "8    Wartortle     Water     NaN    405  59      63       80       65   \n",
       "47    Parasect       Bug   Grass    405  60      95       80       60   \n",
       "51     Dugtrio    Ground     NaN    405  35      80       50       50   \n",
       "67     Machoke  Fighting     NaN    405  80     100       70       50   \n",
       "93     Haunter     Ghost  Poison    405  45      50       45      115   \n",
       "\n",
       "    Sp. Def  Speed  Stage  Legendary  \n",
       "#                                     \n",
       "2        80     60      2      False  \n",
       "5        65     80      2      False  \n",
       "8        80     58      2      False  \n",
       "47       80     30      2      False  \n",
       "51       70    120      2      False  \n",
       "67       60     45      2      False  \n",
       "93       55     95      2      False  "
      ]
     },
     "metadata":{
      
     },
     "output_type":"display_data"
    }
   ],
   "metadata":{
    "datalore":{
     "node_id":"m4rpMX7l6bwXqnsFgscEM4",
     "type":"CODE",
     "hide_input_from_viewers":false,
     "hide_output_from_viewers":false,
     "report_properties":{
      
     }
    }
   }
  },
  {
   "cell_type":"code",
   "source":[
    "df.loc[(df.Total == 405)]"
   ],
   "execution_count":null,
   "outputs":[
    {
     "data":{
      "text\/html":[
       "<div>\n",
       "<style scoped>\n",
       "    .dataframe tbody tr th:only-of-type {\n",
       "        vertical-align: middle;\n",
       "    }\n",
       "\n",
       "    .dataframe tbody tr th {\n",
       "        vertical-align: top;\n",
       "    }\n",
       "\n",
       "    .dataframe thead th {\n",
       "        text-align: right;\n",
       "    }\n",
       "<\/style>\n",
       "<table border=\"1\" class=\"dataframe\">\n",
       "  <thead>\n",
       "    <tr style=\"text-align: right;\">\n",
       "      <th><\/th>\n",
       "      <th>Name<\/th>\n",
       "      <th>Type 1<\/th>\n",
       "      <th>Type 2<\/th>\n",
       "      <th>Total<\/th>\n",
       "      <th>HP<\/th>\n",
       "      <th>Attack<\/th>\n",
       "      <th>Defense<\/th>\n",
       "      <th>Sp. Atk<\/th>\n",
       "      <th>Sp. Def<\/th>\n",
       "      <th>Speed<\/th>\n",
       "      <th>Stage<\/th>\n",
       "      <th>Legendary<\/th>\n",
       "    <\/tr>\n",
       "    <tr>\n",
       "      <th>#<\/th>\n",
       "      <th><\/th>\n",
       "      <th><\/th>\n",
       "      <th><\/th>\n",
       "      <th><\/th>\n",
       "      <th><\/th>\n",
       "      <th><\/th>\n",
       "      <th><\/th>\n",
       "      <th><\/th>\n",
       "      <th><\/th>\n",
       "      <th><\/th>\n",
       "      <th><\/th>\n",
       "      <th><\/th>\n",
       "    <\/tr>\n",
       "  <\/thead>\n",
       "  <tbody>\n",
       "    <tr>\n",
       "      <th>2<\/th>\n",
       "      <td>Ivysaur<\/td>\n",
       "      <td>Grass<\/td>\n",
       "      <td>Poison<\/td>\n",
       "      <td>405<\/td>\n",
       "      <td>60<\/td>\n",
       "      <td>62<\/td>\n",
       "      <td>63<\/td>\n",
       "      <td>80<\/td>\n",
       "      <td>80<\/td>\n",
       "      <td>60<\/td>\n",
       "      <td>2<\/td>\n",
       "      <td>False<\/td>\n",
       "    <\/tr>\n",
       "    <tr>\n",
       "      <th>5<\/th>\n",
       "      <td>Charmeleon<\/td>\n",
       "      <td>Fire<\/td>\n",
       "      <td>NaN<\/td>\n",
       "      <td>405<\/td>\n",
       "      <td>58<\/td>\n",
       "      <td>64<\/td>\n",
       "      <td>58<\/td>\n",
       "      <td>80<\/td>\n",
       "      <td>65<\/td>\n",
       "      <td>80<\/td>\n",
       "      <td>2<\/td>\n",
       "      <td>False<\/td>\n",
       "    <\/tr>\n",
       "    <tr>\n",
       "      <th>8<\/th>\n",
       "      <td>Wartortle<\/td>\n",
       "      <td>Water<\/td>\n",
       "      <td>NaN<\/td>\n",
       "      <td>405<\/td>\n",
       "      <td>59<\/td>\n",
       "      <td>63<\/td>\n",
       "      <td>80<\/td>\n",
       "      <td>65<\/td>\n",
       "      <td>80<\/td>\n",
       "      <td>58<\/td>\n",
       "      <td>2<\/td>\n",
       "      <td>False<\/td>\n",
       "    <\/tr>\n",
       "    <tr>\n",
       "      <th>47<\/th>\n",
       "      <td>Parasect<\/td>\n",
       "      <td>Bug<\/td>\n",
       "      <td>Grass<\/td>\n",
       "      <td>405<\/td>\n",
       "      <td>60<\/td>\n",
       "      <td>95<\/td>\n",
       "      <td>80<\/td>\n",
       "      <td>60<\/td>\n",
       "      <td>80<\/td>\n",
       "      <td>30<\/td>\n",
       "      <td>2<\/td>\n",
       "      <td>False<\/td>\n",
       "    <\/tr>\n",
       "    <tr>\n",
       "      <th>51<\/th>\n",
       "      <td>Dugtrio<\/td>\n",
       "      <td>Ground<\/td>\n",
       "      <td>NaN<\/td>\n",
       "      <td>405<\/td>\n",
       "      <td>35<\/td>\n",
       "      <td>80<\/td>\n",
       "      <td>50<\/td>\n",
       "      <td>50<\/td>\n",
       "      <td>70<\/td>\n",
       "      <td>120<\/td>\n",
       "      <td>2<\/td>\n",
       "      <td>False<\/td>\n",
       "    <\/tr>\n",
       "    <tr>\n",
       "      <th>67<\/th>\n",
       "      <td>Machoke<\/td>\n",
       "      <td>Fighting<\/td>\n",
       "      <td>NaN<\/td>\n",
       "      <td>405<\/td>\n",
       "      <td>80<\/td>\n",
       "      <td>100<\/td>\n",
       "      <td>70<\/td>\n",
       "      <td>50<\/td>\n",
       "      <td>60<\/td>\n",
       "      <td>45<\/td>\n",
       "      <td>2<\/td>\n",
       "      <td>False<\/td>\n",
       "    <\/tr>\n",
       "    <tr>\n",
       "      <th>93<\/th>\n",
       "      <td>Haunter<\/td>\n",
       "      <td>Ghost<\/td>\n",
       "      <td>Poison<\/td>\n",
       "      <td>405<\/td>\n",
       "      <td>45<\/td>\n",
       "      <td>50<\/td>\n",
       "      <td>45<\/td>\n",
       "      <td>115<\/td>\n",
       "      <td>55<\/td>\n",
       "      <td>95<\/td>\n",
       "      <td>2<\/td>\n",
       "      <td>False<\/td>\n",
       "    <\/tr>\n",
       "  <\/tbody>\n",
       "<\/table>\n",
       "<\/div>"
      ]
     },
     "metadata":{
      
     },
     "output_type":"display_data"
    },
    {
     "data":{
      "text\/plain":[
       "          Name    Type 1  Type 2  Total  HP  Attack  Defense  Sp. Atk  \\\n",
       "#                                                                       \n",
       "2      Ivysaur     Grass  Poison    405  60      62       63       80   \n",
       "5   Charmeleon      Fire     NaN    405  58      64       58       80   \n",
       "8    Wartortle     Water     NaN    405  59      63       80       65   \n",
       "47    Parasect       Bug   Grass    405  60      95       80       60   \n",
       "51     Dugtrio    Ground     NaN    405  35      80       50       50   \n",
       "67     Machoke  Fighting     NaN    405  80     100       70       50   \n",
       "93     Haunter     Ghost  Poison    405  45      50       45      115   \n",
       "\n",
       "    Sp. Def  Speed  Stage  Legendary  \n",
       "#                                     \n",
       "2        80     60      2      False  \n",
       "5        65     80      2      False  \n",
       "8        80     58      2      False  \n",
       "47       80     30      2      False  \n",
       "51       70    120      2      False  \n",
       "67       60     45      2      False  \n",
       "93       55     95      2      False  "
      ]
     },
     "metadata":{
      
     },
     "output_type":"display_data"
    }
   ],
   "metadata":{
    "datalore":{
     "node_id":"1krLg7cOp2pV4TZ0gRHagh",
     "type":"CODE",
     "hide_input_from_viewers":false,
     "hide_output_from_viewers":false,
     "report_properties":{
      
     }
    }
   }
  },
  {
   "cell_type":"code",
   "source":[
    "pd.crosstab(index=df['Type 2'], columns=df['Type 1'], values=df.Total, \n",
    "            aggfunc=np.mean, dropna=True, normalize=True)"
   ],
   "execution_count":null,
   "outputs":[
    {
     "data":{
      "text\/html":[
       "<div>\n",
       "<style scoped>\n",
       "    .dataframe tbody tr th:only-of-type {\n",
       "        vertical-align: middle;\n",
       "    }\n",
       "\n",
       "    .dataframe tbody tr th {\n",
       "        vertical-align: top;\n",
       "    }\n",
       "\n",
       "    .dataframe thead th {\n",
       "        text-align: right;\n",
       "    }\n",
       "<\/style>\n",
       "<table border=\"1\" class=\"dataframe\">\n",
       "  <thead>\n",
       "    <tr style=\"text-align: right;\">\n",
       "      <th>Type 1<\/th>\n",
       "      <th>Bug<\/th>\n",
       "      <th>Dragon<\/th>\n",
       "      <th>Electric<\/th>\n",
       "      <th>Fire<\/th>\n",
       "      <th>Ghost<\/th>\n",
       "      <th>Grass<\/th>\n",
       "      <th>Ground<\/th>\n",
       "      <th>Ice<\/th>\n",
       "      <th>Normal<\/th>\n",
       "      <th>Poison<\/th>\n",
       "      <th>Psychic<\/th>\n",
       "      <th>Rock<\/th>\n",
       "      <th>Water<\/th>\n",
       "    <\/tr>\n",
       "    <tr>\n",
       "      <th>Type 2<\/th>\n",
       "      <th><\/th>\n",
       "      <th><\/th>\n",
       "      <th><\/th>\n",
       "      <th><\/th>\n",
       "      <th><\/th>\n",
       "      <th><\/th>\n",
       "      <th><\/th>\n",
       "      <th><\/th>\n",
       "      <th><\/th>\n",
       "      <th><\/th>\n",
       "      <th><\/th>\n",
       "      <th><\/th>\n",
       "      <th><\/th>\n",
       "    <\/tr>\n",
       "  <\/thead>\n",
       "  <tbody>\n",
       "    <tr>\n",
       "      <th>Fairy<\/th>\n",
       "      <td>0.000000<\/td>\n",
       "      <td>0.000000<\/td>\n",
       "      <td>0.000000<\/td>\n",
       "      <td>0.000000<\/td>\n",
       "      <td>0.000000<\/td>\n",
       "      <td>0.000000<\/td>\n",
       "      <td>0.000000<\/td>\n",
       "      <td>0.000000<\/td>\n",
       "      <td>0.030110<\/td>\n",
       "      <td>0.000000<\/td>\n",
       "      <td>0.039292<\/td>\n",
       "      <td>0.000000<\/td>\n",
       "      <td>0.000000<\/td>\n",
       "    <\/tr>\n",
       "    <tr>\n",
       "      <th>Fighting<\/th>\n",
       "      <td>0.000000<\/td>\n",
       "      <td>0.000000<\/td>\n",
       "      <td>0.000000<\/td>\n",
       "      <td>0.000000<\/td>\n",
       "      <td>0.000000<\/td>\n",
       "      <td>0.000000<\/td>\n",
       "      <td>0.000000<\/td>\n",
       "      <td>0.000000<\/td>\n",
       "      <td>0.000000<\/td>\n",
       "      <td>0.000000<\/td>\n",
       "      <td>0.000000<\/td>\n",
       "      <td>0.000000<\/td>\n",
       "      <td>0.043563<\/td>\n",
       "    <\/tr>\n",
       "    <tr>\n",
       "      <th>Flying<\/th>\n",
       "      <td>0.038225<\/td>\n",
       "      <td>0.051251<\/td>\n",
       "      <td>0.049542<\/td>\n",
       "      <td>0.047578<\/td>\n",
       "      <td>0.000000<\/td>\n",
       "      <td>0.000000<\/td>\n",
       "      <td>0.000000<\/td>\n",
       "      <td>0.049542<\/td>\n",
       "      <td>0.031017<\/td>\n",
       "      <td>0.029896<\/td>\n",
       "      <td>0.000000<\/td>\n",
       "      <td>0.043990<\/td>\n",
       "      <td>0.046126<\/td>\n",
       "    <\/tr>\n",
       "    <tr>\n",
       "      <th>Grass<\/th>\n",
       "      <td>0.029469<\/td>\n",
       "      <td>0.000000<\/td>\n",
       "      <td>0.000000<\/td>\n",
       "      <td>0.000000<\/td>\n",
       "      <td>0.000000<\/td>\n",
       "      <td>0.000000<\/td>\n",
       "      <td>0.000000<\/td>\n",
       "      <td>0.000000<\/td>\n",
       "      <td>0.000000<\/td>\n",
       "      <td>0.000000<\/td>\n",
       "      <td>0.000000<\/td>\n",
       "      <td>0.000000<\/td>\n",
       "      <td>0.000000<\/td>\n",
       "    <\/tr>\n",
       "    <tr>\n",
       "      <th>Ground<\/th>\n",
       "      <td>0.000000<\/td>\n",
       "      <td>0.000000<\/td>\n",
       "      <td>0.000000<\/td>\n",
       "      <td>0.000000<\/td>\n",
       "      <td>0.000000<\/td>\n",
       "      <td>0.000000<\/td>\n",
       "      <td>0.000000<\/td>\n",
       "      <td>0.000000<\/td>\n",
       "      <td>0.000000<\/td>\n",
       "      <td>0.043136<\/td>\n",
       "      <td>0.000000<\/td>\n",
       "      <td>0.033527<\/td>\n",
       "      <td>0.000000<\/td>\n",
       "    <\/tr>\n",
       "    <tr>\n",
       "      <th>Ice<\/th>\n",
       "      <td>0.000000<\/td>\n",
       "      <td>0.000000<\/td>\n",
       "      <td>0.000000<\/td>\n",
       "      <td>0.000000<\/td>\n",
       "      <td>0.000000<\/td>\n",
       "      <td>0.000000<\/td>\n",
       "      <td>0.000000<\/td>\n",
       "      <td>0.000000<\/td>\n",
       "      <td>0.000000<\/td>\n",
       "      <td>0.000000<\/td>\n",
       "      <td>0.000000<\/td>\n",
       "      <td>0.000000<\/td>\n",
       "      <td>0.043706<\/td>\n",
       "    <\/tr>\n",
       "    <tr>\n",
       "      <th>Poison<\/th>\n",
       "      <td>0.026480<\/td>\n",
       "      <td>0.000000<\/td>\n",
       "      <td>0.000000<\/td>\n",
       "      <td>0.000000<\/td>\n",
       "      <td>0.034594<\/td>\n",
       "      <td>0.034480<\/td>\n",
       "      <td>0.000000<\/td>\n",
       "      <td>0.000000<\/td>\n",
       "      <td>0.000000<\/td>\n",
       "      <td>0.000000<\/td>\n",
       "      <td>0.000000<\/td>\n",
       "      <td>0.000000<\/td>\n",
       "      <td>0.036303<\/td>\n",
       "    <\/tr>\n",
       "    <tr>\n",
       "      <th>Psychic<\/th>\n",
       "      <td>0.000000<\/td>\n",
       "      <td>0.000000<\/td>\n",
       "      <td>0.000000<\/td>\n",
       "      <td>0.000000<\/td>\n",
       "      <td>0.000000<\/td>\n",
       "      <td>0.036089<\/td>\n",
       "      <td>0.000000<\/td>\n",
       "      <td>0.038865<\/td>\n",
       "      <td>0.000000<\/td>\n",
       "      <td>0.000000<\/td>\n",
       "      <td>0.000000<\/td>\n",
       "      <td>0.000000<\/td>\n",
       "      <td>0.037726<\/td>\n",
       "    <\/tr>\n",
       "    <tr>\n",
       "      <th>Rock<\/th>\n",
       "      <td>0.000000<\/td>\n",
       "      <td>0.000000<\/td>\n",
       "      <td>0.000000<\/td>\n",
       "      <td>0.000000<\/td>\n",
       "      <td>0.000000<\/td>\n",
       "      <td>0.000000<\/td>\n",
       "      <td>0.035448<\/td>\n",
       "      <td>0.000000<\/td>\n",
       "      <td>0.000000<\/td>\n",
       "      <td>0.000000<\/td>\n",
       "      <td>0.000000<\/td>\n",
       "      <td>0.000000<\/td>\n",
       "      <td>0.000000<\/td>\n",
       "    <\/tr>\n",
       "    <tr>\n",
       "      <th>Steel<\/th>\n",
       "      <td>0.000000<\/td>\n",
       "      <td>0.000000<\/td>\n",
       "      <td>0.033740<\/td>\n",
       "      <td>0.000000<\/td>\n",
       "      <td>0.000000<\/td>\n",
       "      <td>0.000000<\/td>\n",
       "      <td>0.000000<\/td>\n",
       "      <td>0.000000<\/td>\n",
       "      <td>0.000000<\/td>\n",
       "      <td>0.000000<\/td>\n",
       "      <td>0.000000<\/td>\n",
       "      <td>0.000000<\/td>\n",
       "      <td>0.000000<\/td>\n",
       "    <\/tr>\n",
       "    <tr>\n",
       "      <th>Water<\/th>\n",
       "      <td>0.000000<\/td>\n",
       "      <td>0.000000<\/td>\n",
       "      <td>0.000000<\/td>\n",
       "      <td>0.000000<\/td>\n",
       "      <td>0.000000<\/td>\n",
       "      <td>0.000000<\/td>\n",
       "      <td>0.000000<\/td>\n",
       "      <td>0.000000<\/td>\n",
       "      <td>0.000000<\/td>\n",
       "      <td>0.000000<\/td>\n",
       "      <td>0.000000<\/td>\n",
       "      <td>0.036303<\/td>\n",
       "      <td>0.000000<\/td>\n",
       "    <\/tr>\n",
       "  <\/tbody>\n",
       "<\/table>\n",
       "<\/div>"
      ]
     },
     "metadata":{
      
     },
     "output_type":"display_data"
    },
    {
     "data":{
      "text\/plain":[
       "Type 1         Bug    Dragon  Electric      Fire     Ghost     Grass  \\\n",
       "Type 2                                                                 \n",
       "Fairy     0.000000  0.000000  0.000000  0.000000  0.000000  0.000000   \n",
       "Fighting  0.000000  0.000000  0.000000  0.000000  0.000000  0.000000   \n",
       "Flying    0.038225  0.051251  0.049542  0.047578  0.000000  0.000000   \n",
       "Grass     0.029469  0.000000  0.000000  0.000000  0.000000  0.000000   \n",
       "Ground    0.000000  0.000000  0.000000  0.000000  0.000000  0.000000   \n",
       "Ice       0.000000  0.000000  0.000000  0.000000  0.000000  0.000000   \n",
       "Poison    0.026480  0.000000  0.000000  0.000000  0.034594  0.034480   \n",
       "Psychic   0.000000  0.000000  0.000000  0.000000  0.000000  0.036089   \n",
       "Rock      0.000000  0.000000  0.000000  0.000000  0.000000  0.000000   \n",
       "Steel     0.000000  0.000000  0.033740  0.000000  0.000000  0.000000   \n",
       "Water     0.000000  0.000000  0.000000  0.000000  0.000000  0.000000   \n",
       "\n",
       "Type 1      Ground       Ice    Normal    Poison   Psychic      Rock     Water  \n",
       "Type 2                                                                          \n",
       "Fairy     0.000000  0.000000  0.030110  0.000000  0.039292  0.000000  0.000000  \n",
       "Fighting  0.000000  0.000000  0.000000  0.000000  0.000000  0.000000  0.043563  \n",
       "Flying    0.000000  0.049542  0.031017  0.029896  0.000000  0.043990  0.046126  \n",
       "Grass     0.000000  0.000000  0.000000  0.000000  0.000000  0.000000  0.000000  \n",
       "Ground    0.000000  0.000000  0.000000  0.043136  0.000000  0.033527  0.000000  \n",
       "Ice       0.000000  0.000000  0.000000  0.000000  0.000000  0.000000  0.043706  \n",
       "Poison    0.000000  0.000000  0.000000  0.000000  0.000000  0.000000  0.036303  \n",
       "Psychic   0.000000  0.038865  0.000000  0.000000  0.000000  0.000000  0.037726  \n",
       "Rock      0.035448  0.000000  0.000000  0.000000  0.000000  0.000000  0.000000  \n",
       "Steel     0.000000  0.000000  0.000000  0.000000  0.000000  0.000000  0.000000  \n",
       "Water     0.000000  0.000000  0.000000  0.000000  0.000000  0.036303  0.000000  "
      ]
     },
     "metadata":{
      
     },
     "output_type":"display_data"
    }
   ],
   "metadata":{
    "datalore":{
     "node_id":"ooGW2uXuks5o0bfneQ9xxB",
     "type":"CODE",
     "hide_input_from_viewers":false,
     "hide_output_from_viewers":false,
     "report_properties":{
      
     }
    }
   }
  },
  {
   "cell_type":"code",
   "source":[
    "pd.pivot_table(data=df, values='Total', index='Type 2', columns='Type 1', \n",
    "               aggfunc=np.mean, sort=True, dropna=True, margins_name='All', margins=True)"
   ],
   "execution_count":null,
   "outputs":[
    {
     "data":{
      "text\/html":[
       "<div>\n",
       "<style scoped>\n",
       "    .dataframe tbody tr th:only-of-type {\n",
       "        vertical-align: middle;\n",
       "    }\n",
       "\n",
       "    .dataframe tbody tr th {\n",
       "        vertical-align: top;\n",
       "    }\n",
       "\n",
       "    .dataframe thead th {\n",
       "        text-align: right;\n",
       "    }\n",
       "<\/style>\n",
       "<table border=\"1\" class=\"dataframe\">\n",
       "  <thead>\n",
       "    <tr style=\"text-align: right;\">\n",
       "      <th>Type 1<\/th>\n",
       "      <th>Bug<\/th>\n",
       "      <th>Dragon<\/th>\n",
       "      <th>Electric<\/th>\n",
       "      <th>Fire<\/th>\n",
       "      <th>Ghost<\/th>\n",
       "      <th>Grass<\/th>\n",
       "      <th>Ground<\/th>\n",
       "      <th>Ice<\/th>\n",
       "      <th>Normal<\/th>\n",
       "      <th>Poison<\/th>\n",
       "      <th>Psychic<\/th>\n",
       "      <th>Rock<\/th>\n",
       "      <th>Water<\/th>\n",
       "      <th>All<\/th>\n",
       "    <\/tr>\n",
       "    <tr>\n",
       "      <th>Type 2<\/th>\n",
       "      <th><\/th>\n",
       "      <th><\/th>\n",
       "      <th><\/th>\n",
       "      <th><\/th>\n",
       "      <th><\/th>\n",
       "      <th><\/th>\n",
       "      <th><\/th>\n",
       "      <th><\/th>\n",
       "      <th><\/th>\n",
       "      <th><\/th>\n",
       "      <th><\/th>\n",
       "      <th><\/th>\n",
       "      <th><\/th>\n",
       "      <th><\/th>\n",
       "    <\/tr>\n",
       "  <\/thead>\n",
       "  <tbody>\n",
       "    <tr>\n",
       "      <th>Fairy<\/th>\n",
       "      <td>NaN<\/td>\n",
       "      <td>NaN<\/td>\n",
       "      <td>NaN<\/td>\n",
       "      <td>NaN<\/td>\n",
       "      <td>NaN<\/td>\n",
       "      <td>NaN<\/td>\n",
       "      <td>NaN<\/td>\n",
       "      <td>NaN<\/td>\n",
       "      <td>352.500<\/td>\n",
       "      <td>NaN<\/td>\n",
       "      <td>460.0<\/td>\n",
       "      <td>NaN<\/td>\n",
       "      <td>NaN<\/td>\n",
       "      <td>388.333333<\/td>\n",
       "    <\/tr>\n",
       "    <tr>\n",
       "      <th>Fighting<\/th>\n",
       "      <td>NaN<\/td>\n",
       "      <td>NaN<\/td>\n",
       "      <td>NaN<\/td>\n",
       "      <td>NaN<\/td>\n",
       "      <td>NaN<\/td>\n",
       "      <td>NaN<\/td>\n",
       "      <td>NaN<\/td>\n",
       "      <td>NaN<\/td>\n",
       "      <td>NaN<\/td>\n",
       "      <td>NaN<\/td>\n",
       "      <td>NaN<\/td>\n",
       "      <td>NaN<\/td>\n",
       "      <td>510.000000<\/td>\n",
       "      <td>510.000000<\/td>\n",
       "    <\/tr>\n",
       "    <tr>\n",
       "      <th>Flying<\/th>\n",
       "      <td>447.500000<\/td>\n",
       "      <td>600.0<\/td>\n",
       "      <td>580.000000<\/td>\n",
       "      <td>557.0<\/td>\n",
       "      <td>NaN<\/td>\n",
       "      <td>NaN<\/td>\n",
       "      <td>NaN<\/td>\n",
       "      <td>580.0<\/td>\n",
       "      <td>363.125<\/td>\n",
       "      <td>350.0<\/td>\n",
       "      <td>NaN<\/td>\n",
       "      <td>515.000000<\/td>\n",
       "      <td>540.000000<\/td>\n",
       "      <td>443.631579<\/td>\n",
       "    <\/tr>\n",
       "    <tr>\n",
       "      <th>Grass<\/th>\n",
       "      <td>345.000000<\/td>\n",
       "      <td>NaN<\/td>\n",
       "      <td>NaN<\/td>\n",
       "      <td>NaN<\/td>\n",
       "      <td>NaN<\/td>\n",
       "      <td>NaN<\/td>\n",
       "      <td>NaN<\/td>\n",
       "      <td>NaN<\/td>\n",
       "      <td>NaN<\/td>\n",
       "      <td>NaN<\/td>\n",
       "      <td>NaN<\/td>\n",
       "      <td>NaN<\/td>\n",
       "      <td>NaN<\/td>\n",
       "      <td>345.000000<\/td>\n",
       "    <\/tr>\n",
       "    <tr>\n",
       "      <th>Ground<\/th>\n",
       "      <td>NaN<\/td>\n",
       "      <td>NaN<\/td>\n",
       "      <td>NaN<\/td>\n",
       "      <td>NaN<\/td>\n",
       "      <td>NaN<\/td>\n",
       "      <td>NaN<\/td>\n",
       "      <td>NaN<\/td>\n",
       "      <td>NaN<\/td>\n",
       "      <td>NaN<\/td>\n",
       "      <td>505.0<\/td>\n",
       "      <td>NaN<\/td>\n",
       "      <td>392.500000<\/td>\n",
       "      <td>NaN<\/td>\n",
       "      <td>430.000000<\/td>\n",
       "    <\/tr>\n",
       "    <tr>\n",
       "      <th>Ice<\/th>\n",
       "      <td>NaN<\/td>\n",
       "      <td>NaN<\/td>\n",
       "      <td>NaN<\/td>\n",
       "      <td>NaN<\/td>\n",
       "      <td>NaN<\/td>\n",
       "      <td>NaN<\/td>\n",
       "      <td>NaN<\/td>\n",
       "      <td>NaN<\/td>\n",
       "      <td>NaN<\/td>\n",
       "      <td>NaN<\/td>\n",
       "      <td>NaN<\/td>\n",
       "      <td>NaN<\/td>\n",
       "      <td>511.666667<\/td>\n",
       "      <td>511.666667<\/td>\n",
       "    <\/tr>\n",
       "    <tr>\n",
       "      <th>Poison<\/th>\n",
       "      <td>310.000000<\/td>\n",
       "      <td>NaN<\/td>\n",
       "      <td>NaN<\/td>\n",
       "      <td>NaN<\/td>\n",
       "      <td>405.0<\/td>\n",
       "      <td>403.666667<\/td>\n",
       "      <td>NaN<\/td>\n",
       "      <td>NaN<\/td>\n",
       "      <td>NaN<\/td>\n",
       "      <td>NaN<\/td>\n",
       "      <td>NaN<\/td>\n",
       "      <td>NaN<\/td>\n",
       "      <td>425.000000<\/td>\n",
       "      <td>381.473684<\/td>\n",
       "    <\/tr>\n",
       "    <tr>\n",
       "      <th>Psychic<\/th>\n",
       "      <td>NaN<\/td>\n",
       "      <td>NaN<\/td>\n",
       "      <td>NaN<\/td>\n",
       "      <td>NaN<\/td>\n",
       "      <td>NaN<\/td>\n",
       "      <td>422.500000<\/td>\n",
       "      <td>NaN<\/td>\n",
       "      <td>455.0<\/td>\n",
       "      <td>NaN<\/td>\n",
       "      <td>NaN<\/td>\n",
       "      <td>NaN<\/td>\n",
       "      <td>NaN<\/td>\n",
       "      <td>441.666667<\/td>\n",
       "      <td>437.500000<\/td>\n",
       "    <\/tr>\n",
       "    <tr>\n",
       "      <th>Rock<\/th>\n",
       "      <td>NaN<\/td>\n",
       "      <td>NaN<\/td>\n",
       "      <td>NaN<\/td>\n",
       "      <td>NaN<\/td>\n",
       "      <td>NaN<\/td>\n",
       "      <td>NaN<\/td>\n",
       "      <td>415.0<\/td>\n",
       "      <td>NaN<\/td>\n",
       "      <td>NaN<\/td>\n",
       "      <td>NaN<\/td>\n",
       "      <td>NaN<\/td>\n",
       "      <td>NaN<\/td>\n",
       "      <td>NaN<\/td>\n",
       "      <td>415.000000<\/td>\n",
       "    <\/tr>\n",
       "    <tr>\n",
       "      <th>Steel<\/th>\n",
       "      <td>NaN<\/td>\n",
       "      <td>NaN<\/td>\n",
       "      <td>395.000000<\/td>\n",
       "      <td>NaN<\/td>\n",
       "      <td>NaN<\/td>\n",
       "      <td>NaN<\/td>\n",
       "      <td>NaN<\/td>\n",
       "      <td>NaN<\/td>\n",
       "      <td>NaN<\/td>\n",
       "      <td>NaN<\/td>\n",
       "      <td>NaN<\/td>\n",
       "      <td>NaN<\/td>\n",
       "      <td>NaN<\/td>\n",
       "      <td>395.000000<\/td>\n",
       "    <\/tr>\n",
       "    <tr>\n",
       "      <th>Water<\/th>\n",
       "      <td>NaN<\/td>\n",
       "      <td>NaN<\/td>\n",
       "      <td>NaN<\/td>\n",
       "      <td>NaN<\/td>\n",
       "      <td>NaN<\/td>\n",
       "      <td>NaN<\/td>\n",
       "      <td>NaN<\/td>\n",
       "      <td>NaN<\/td>\n",
       "      <td>NaN<\/td>\n",
       "      <td>NaN<\/td>\n",
       "      <td>NaN<\/td>\n",
       "      <td>425.000000<\/td>\n",
       "      <td>NaN<\/td>\n",
       "      <td>425.000000<\/td>\n",
       "    <\/tr>\n",
       "    <tr>\n",
       "      <th>All<\/th>\n",
       "      <td>348.333333<\/td>\n",
       "      <td>600.0<\/td>\n",
       "      <td>456.666667<\/td>\n",
       "      <td>557.0<\/td>\n",
       "      <td>405.0<\/td>\n",
       "      <td>407.090909<\/td>\n",
       "      <td>415.0<\/td>\n",
       "      <td>517.5<\/td>\n",
       "      <td>361.000<\/td>\n",
       "      <td>427.5<\/td>\n",
       "      <td>460.0<\/td>\n",
       "      <td>420.555556<\/td>\n",
       "      <td>476.000000<\/td>\n",
       "      <td>419.432836<\/td>\n",
       "    <\/tr>\n",
       "  <\/tbody>\n",
       "<\/table>\n",
       "<\/div>"
      ]
     },
     "metadata":{
      
     },
     "output_type":"display_data"
    },
    {
     "data":{
      "text\/plain":[
       "Type 1           Bug  Dragon    Electric   Fire  Ghost       Grass  Ground  \\\n",
       "Type 2                                                                       \n",
       "Fairy            NaN     NaN         NaN    NaN    NaN         NaN     NaN   \n",
       "Fighting         NaN     NaN         NaN    NaN    NaN         NaN     NaN   \n",
       "Flying    447.500000   600.0  580.000000  557.0    NaN         NaN     NaN   \n",
       "Grass     345.000000     NaN         NaN    NaN    NaN         NaN     NaN   \n",
       "Ground           NaN     NaN         NaN    NaN    NaN         NaN     NaN   \n",
       "Ice              NaN     NaN         NaN    NaN    NaN         NaN     NaN   \n",
       "Poison    310.000000     NaN         NaN    NaN  405.0  403.666667     NaN   \n",
       "Psychic          NaN     NaN         NaN    NaN    NaN  422.500000     NaN   \n",
       "Rock             NaN     NaN         NaN    NaN    NaN         NaN   415.0   \n",
       "Steel            NaN     NaN  395.000000    NaN    NaN         NaN     NaN   \n",
       "Water            NaN     NaN         NaN    NaN    NaN         NaN     NaN   \n",
       "All       348.333333   600.0  456.666667  557.0  405.0  407.090909   415.0   \n",
       "\n",
       "Type 1      Ice   Normal  Poison  Psychic        Rock       Water         All  \n",
       "Type 2                                                                         \n",
       "Fairy       NaN  352.500     NaN    460.0         NaN         NaN  388.333333  \n",
       "Fighting    NaN      NaN     NaN      NaN         NaN  510.000000  510.000000  \n",
       "Flying    580.0  363.125   350.0      NaN  515.000000  540.000000  443.631579  \n",
       "Grass       NaN      NaN     NaN      NaN         NaN         NaN  345.000000  \n",
       "Ground      NaN      NaN   505.0      NaN  392.500000         NaN  430.000000  \n",
       "Ice         NaN      NaN     NaN      NaN         NaN  511.666667  511.666667  \n",
       "Poison      NaN      NaN     NaN      NaN         NaN  425.000000  381.473684  \n",
       "Psychic   455.0      NaN     NaN      NaN         NaN  441.666667  437.500000  \n",
       "Rock        NaN      NaN     NaN      NaN         NaN         NaN  415.000000  \n",
       "Steel       NaN      NaN     NaN      NaN         NaN         NaN  395.000000  \n",
       "Water       NaN      NaN     NaN      NaN  425.000000         NaN  425.000000  \n",
       "All       517.5  361.000   427.5    460.0  420.555556  476.000000  419.432836  "
      ]
     },
     "metadata":{
      
     },
     "output_type":"display_data"
    }
   ],
   "metadata":{
    "datalore":{
     "node_id":"meR1FKc7qPI4YFd4qyVwuu",
     "type":"CODE",
     "hide_input_from_viewers":false,
     "hide_output_from_viewers":false,
     "report_properties":{
      
     }
    }
   }
  },
  {
   "cell_type":"code",
   "source":[
    "df.head(3)"
   ],
   "execution_count":null,
   "outputs":[
    {
     "data":{
      "text\/html":[
       "<div>\n",
       "<style scoped>\n",
       "    .dataframe tbody tr th:only-of-type {\n",
       "        vertical-align: middle;\n",
       "    }\n",
       "\n",
       "    .dataframe tbody tr th {\n",
       "        vertical-align: top;\n",
       "    }\n",
       "\n",
       "    .dataframe thead th {\n",
       "        text-align: right;\n",
       "    }\n",
       "<\/style>\n",
       "<table border=\"1\" class=\"dataframe\">\n",
       "  <thead>\n",
       "    <tr style=\"text-align: right;\">\n",
       "      <th><\/th>\n",
       "      <th>Name<\/th>\n",
       "      <th>Type 1<\/th>\n",
       "      <th>Type 2<\/th>\n",
       "      <th>Total<\/th>\n",
       "      <th>HP<\/th>\n",
       "      <th>Attack<\/th>\n",
       "      <th>Defense<\/th>\n",
       "      <th>Sp. Atk<\/th>\n",
       "      <th>Sp. Def<\/th>\n",
       "      <th>Speed<\/th>\n",
       "      <th>Stage<\/th>\n",
       "      <th>Legendary<\/th>\n",
       "    <\/tr>\n",
       "    <tr>\n",
       "      <th>#<\/th>\n",
       "      <th><\/th>\n",
       "      <th><\/th>\n",
       "      <th><\/th>\n",
       "      <th><\/th>\n",
       "      <th><\/th>\n",
       "      <th><\/th>\n",
       "      <th><\/th>\n",
       "      <th><\/th>\n",
       "      <th><\/th>\n",
       "      <th><\/th>\n",
       "      <th><\/th>\n",
       "      <th><\/th>\n",
       "    <\/tr>\n",
       "  <\/thead>\n",
       "  <tbody>\n",
       "    <tr>\n",
       "      <th>1<\/th>\n",
       "      <td>Bulbasaur<\/td>\n",
       "      <td>Grass<\/td>\n",
       "      <td>Poison<\/td>\n",
       "      <td>318<\/td>\n",
       "      <td>45<\/td>\n",
       "      <td>49<\/td>\n",
       "      <td>49<\/td>\n",
       "      <td>65<\/td>\n",
       "      <td>65<\/td>\n",
       "      <td>45<\/td>\n",
       "      <td>1<\/td>\n",
       "      <td>False<\/td>\n",
       "    <\/tr>\n",
       "    <tr>\n",
       "      <th>2<\/th>\n",
       "      <td>Ivysaur<\/td>\n",
       "      <td>Grass<\/td>\n",
       "      <td>Poison<\/td>\n",
       "      <td>405<\/td>\n",
       "      <td>60<\/td>\n",
       "      <td>62<\/td>\n",
       "      <td>63<\/td>\n",
       "      <td>80<\/td>\n",
       "      <td>80<\/td>\n",
       "      <td>60<\/td>\n",
       "      <td>2<\/td>\n",
       "      <td>False<\/td>\n",
       "    <\/tr>\n",
       "    <tr>\n",
       "      <th>3<\/th>\n",
       "      <td>Venusaur<\/td>\n",
       "      <td>Grass<\/td>\n",
       "      <td>Poison<\/td>\n",
       "      <td>525<\/td>\n",
       "      <td>80<\/td>\n",
       "      <td>82<\/td>\n",
       "      <td>83<\/td>\n",
       "      <td>100<\/td>\n",
       "      <td>100<\/td>\n",
       "      <td>80<\/td>\n",
       "      <td>3<\/td>\n",
       "      <td>False<\/td>\n",
       "    <\/tr>\n",
       "  <\/tbody>\n",
       "<\/table>\n",
       "<\/div>"
      ]
     },
     "metadata":{
      
     },
     "output_type":"display_data"
    },
    {
     "data":{
      "text\/plain":[
       "        Name Type 1  Type 2  Total  HP  Attack  Defense  Sp. Atk  Sp. Def  \\\n",
       "#                                                                           \n",
       "1  Bulbasaur  Grass  Poison    318  45      49       49       65       65   \n",
       "2    Ivysaur  Grass  Poison    405  60      62       63       80       80   \n",
       "3   Venusaur  Grass  Poison    525  80      82       83      100      100   \n",
       "\n",
       "   Speed  Stage  Legendary  \n",
       "#                           \n",
       "1     45      1      False  \n",
       "2     60      2      False  \n",
       "3     80      3      False  "
      ]
     },
     "metadata":{
      
     },
     "output_type":"display_data"
    }
   ],
   "metadata":{
    "datalore":{
     "node_id":"Fxq6AotZMJxQWxP3of1VFT",
     "type":"CODE",
     "hide_input_from_viewers":false,
     "hide_output_from_viewers":false,
     "report_properties":{
      
     }
    }
   }
  },
  {
   "cell_type":"code",
   "source":[
    "pd.options.display.float_format = '{:.0f}'.format\n",
    "df.groupby('Type 1')[['Attack', 'Defense']].agg(np.mean)"
   ],
   "execution_count":null,
   "outputs":[
    {
     "data":{
      "text\/html":[
       "<div>\n",
       "<style scoped>\n",
       "    .dataframe tbody tr th:only-of-type {\n",
       "        vertical-align: middle;\n",
       "    }\n",
       "\n",
       "    .dataframe tbody tr th {\n",
       "        vertical-align: top;\n",
       "    }\n",
       "\n",
       "    .dataframe thead th {\n",
       "        text-align: right;\n",
       "    }\n",
       "<\/style>\n",
       "<table border=\"1\" class=\"dataframe\">\n",
       "  <thead>\n",
       "    <tr style=\"text-align: right;\">\n",
       "      <th><\/th>\n",
       "      <th>Attack<\/th>\n",
       "      <th>Defense<\/th>\n",
       "    <\/tr>\n",
       "    <tr>\n",
       "      <th>Type 1<\/th>\n",
       "      <th><\/th>\n",
       "      <th><\/th>\n",
       "    <\/tr>\n",
       "  <\/thead>\n",
       "  <tbody>\n",
       "    <tr>\n",
       "      <th>Bug<\/th>\n",
       "      <td>64<\/td>\n",
       "      <td>57<\/td>\n",
       "    <\/tr>\n",
       "    <tr>\n",
       "      <th>Dragon<\/th>\n",
       "      <td>94<\/td>\n",
       "      <td>68<\/td>\n",
       "    <\/tr>\n",
       "    <tr>\n",
       "      <th>Electric<\/th>\n",
       "      <td>62<\/td>\n",
       "      <td>65<\/td>\n",
       "    <\/tr>\n",
       "    <tr>\n",
       "      <th>Fairy<\/th>\n",
       "      <td>58<\/td>\n",
       "      <td>60<\/td>\n",
       "    <\/tr>\n",
       "    <tr>\n",
       "      <th>Fighting<\/th>\n",
       "      <td>103<\/td>\n",
       "      <td>61<\/td>\n",
       "    <\/tr>\n",
       "    <tr>\n",
       "      <th>Fire<\/th>\n",
       "      <td>84<\/td>\n",
       "      <td>63<\/td>\n",
       "    <\/tr>\n",
       "    <tr>\n",
       "      <th>Ghost<\/th>\n",
       "      <td>50<\/td>\n",
       "      <td>45<\/td>\n",
       "    <\/tr>\n",
       "    <tr>\n",
       "      <th>Grass<\/th>\n",
       "      <td>71<\/td>\n",
       "      <td>70<\/td>\n",
       "    <\/tr>\n",
       "    <tr>\n",
       "      <th>Ground<\/th>\n",
       "      <td>82<\/td>\n",
       "      <td>86<\/td>\n",
       "    <\/tr>\n",
       "    <tr>\n",
       "      <th>Ice<\/th>\n",
       "      <td>68<\/td>\n",
       "      <td>68<\/td>\n",
       "    <\/tr>\n",
       "    <tr>\n",
       "      <th>Normal<\/th>\n",
       "      <td>68<\/td>\n",
       "      <td>54<\/td>\n",
       "    <\/tr>\n",
       "    <tr>\n",
       "      <th>Poison<\/th>\n",
       "      <td>74<\/td>\n",
       "      <td>67<\/td>\n",
       "    <\/tr>\n",
       "    <tr>\n",
       "      <th>Psychic<\/th>\n",
       "      <td>60<\/td>\n",
       "      <td>58<\/td>\n",
       "    <\/tr>\n",
       "    <tr>\n",
       "      <th>Rock<\/th>\n",
       "      <td>82<\/td>\n",
       "      <td>110<\/td>\n",
       "    <\/tr>\n",
       "    <tr>\n",
       "      <th>Water<\/th>\n",
       "      <td>70<\/td>\n",
       "      <td>78<\/td>\n",
       "    <\/tr>\n",
       "  <\/tbody>\n",
       "<\/table>\n",
       "<\/div>"
      ]
     },
     "metadata":{
      
     },
     "output_type":"display_data"
    },
    {
     "data":{
      "text\/plain":[
       "          Attack  Defense\n",
       "Type 1                   \n",
       "Bug           64       57\n",
       "Dragon        94       68\n",
       "Electric      62       65\n",
       "Fairy         58       60\n",
       "Fighting     103       61\n",
       "Fire          84       63\n",
       "Ghost         50       45\n",
       "Grass         71       70\n",
       "Ground        82       86\n",
       "Ice           68       68\n",
       "Normal        68       54\n",
       "Poison        74       67\n",
       "Psychic       60       58\n",
       "Rock          82      110\n",
       "Water         70       78"
      ]
     },
     "metadata":{
      
     },
     "output_type":"display_data"
    }
   ],
   "metadata":{
    "datalore":{
     "node_id":"OT74kvd38rhEjrco2wkAGT",
     "type":"CODE",
     "hide_input_from_viewers":false,
     "hide_output_from_viewers":false,
     "report_properties":{
      
     }
    }
   }
  },
  {
   "cell_type":"code",
   "source":[
    "df.groupby('Type 1')[['Attack', 'Defense']].agg(np.mean).reset_index().head()"
   ],
   "execution_count":null,
   "outputs":[
    {
     "data":{
      "text\/html":[
       "<div>\n",
       "<style scoped>\n",
       "    .dataframe tbody tr th:only-of-type {\n",
       "        vertical-align: middle;\n",
       "    }\n",
       "\n",
       "    .dataframe tbody tr th {\n",
       "        vertical-align: top;\n",
       "    }\n",
       "\n",
       "    .dataframe thead th {\n",
       "        text-align: right;\n",
       "    }\n",
       "<\/style>\n",
       "<table border=\"1\" class=\"dataframe\">\n",
       "  <thead>\n",
       "    <tr style=\"text-align: right;\">\n",
       "      <th><\/th>\n",
       "      <th>Type 1<\/th>\n",
       "      <th>Attack<\/th>\n",
       "      <th>Defense<\/th>\n",
       "    <\/tr>\n",
       "  <\/thead>\n",
       "  <tbody>\n",
       "    <tr>\n",
       "      <th>0<\/th>\n",
       "      <td>Bug<\/td>\n",
       "      <td>64<\/td>\n",
       "      <td>57<\/td>\n",
       "    <\/tr>\n",
       "    <tr>\n",
       "      <th>1<\/th>\n",
       "      <td>Dragon<\/td>\n",
       "      <td>94<\/td>\n",
       "      <td>68<\/td>\n",
       "    <\/tr>\n",
       "    <tr>\n",
       "      <th>2<\/th>\n",
       "      <td>Electric<\/td>\n",
       "      <td>62<\/td>\n",
       "      <td>65<\/td>\n",
       "    <\/tr>\n",
       "    <tr>\n",
       "      <th>3<\/th>\n",
       "      <td>Fairy<\/td>\n",
       "      <td>58<\/td>\n",
       "      <td>60<\/td>\n",
       "    <\/tr>\n",
       "    <tr>\n",
       "      <th>4<\/th>\n",
       "      <td>Fighting<\/td>\n",
       "      <td>103<\/td>\n",
       "      <td>61<\/td>\n",
       "    <\/tr>\n",
       "  <\/tbody>\n",
       "<\/table>\n",
       "<\/div>"
      ]
     },
     "metadata":{
      
     },
     "output_type":"display_data"
    },
    {
     "data":{
      "text\/plain":[
       "     Type 1  Attack  Defense\n",
       "0       Bug      64       57\n",
       "1    Dragon      94       68\n",
       "2  Electric      62       65\n",
       "3     Fairy      58       60\n",
       "4  Fighting     103       61"
      ]
     },
     "metadata":{
      
     },
     "output_type":"display_data"
    }
   ],
   "metadata":{
    "datalore":{
     "node_id":"yNI6i5eKwScQlJqJmUtTKI",
     "type":"CODE",
     "hide_input_from_viewers":false,
     "hide_output_from_viewers":false,
     "report_properties":{
      
     }
    }
   }
  },
  {
   "cell_type":"code",
   "source":[
    "plot_df = df.groupby('Type 1')[['Attack', 'Defense']].agg(np.mean).reset_index()"
   ],
   "execution_count":null,
   "outputs":[
    
   ],
   "metadata":{
    "datalore":{
     "node_id":"LB1yJRk5btyrTEVN7Jwq7A",
     "type":"CODE",
     "hide_input_from_viewers":false,
     "hide_output_from_viewers":false,
     "report_properties":{
      
     }
    }
   }
  },
  {
   "cell_type":"code",
   "source":[
    "plot_df.rename(columns={'Type 1':'Category'}, inplace=True)"
   ],
   "execution_count":null,
   "outputs":[
    
   ],
   "metadata":{
    "datalore":{
     "node_id":"DLWnyRXbC7Fm9ekl854YcP",
     "type":"CODE",
     "hide_input_from_viewers":false,
     "hide_output_from_viewers":false,
     "report_properties":{
      
     }
    }
   }
  },
  {
   "cell_type":"code",
   "source":[
    "plot_df.head(3)"
   ],
   "execution_count":null,
   "outputs":[
    {
     "data":{
      "text\/html":[
       "<div>\n",
       "<style scoped>\n",
       "    .dataframe tbody tr th:only-of-type {\n",
       "        vertical-align: middle;\n",
       "    }\n",
       "\n",
       "    .dataframe tbody tr th {\n",
       "        vertical-align: top;\n",
       "    }\n",
       "\n",
       "    .dataframe thead th {\n",
       "        text-align: right;\n",
       "    }\n",
       "<\/style>\n",
       "<table border=\"1\" class=\"dataframe\">\n",
       "  <thead>\n",
       "    <tr style=\"text-align: right;\">\n",
       "      <th><\/th>\n",
       "      <th>Category<\/th>\n",
       "      <th>Attack<\/th>\n",
       "      <th>Defense<\/th>\n",
       "    <\/tr>\n",
       "  <\/thead>\n",
       "  <tbody>\n",
       "    <tr>\n",
       "      <th>0<\/th>\n",
       "      <td>Bug<\/td>\n",
       "      <td>64<\/td>\n",
       "      <td>57<\/td>\n",
       "    <\/tr>\n",
       "    <tr>\n",
       "      <th>1<\/th>\n",
       "      <td>Dragon<\/td>\n",
       "      <td>94<\/td>\n",
       "      <td>68<\/td>\n",
       "    <\/tr>\n",
       "    <tr>\n",
       "      <th>2<\/th>\n",
       "      <td>Electric<\/td>\n",
       "      <td>62<\/td>\n",
       "      <td>65<\/td>\n",
       "    <\/tr>\n",
       "  <\/tbody>\n",
       "<\/table>\n",
       "<\/div>"
      ]
     },
     "metadata":{
      
     },
     "output_type":"display_data"
    },
    {
     "data":{
      "text\/plain":[
       "   Category  Attack  Defense\n",
       "0       Bug      64       57\n",
       "1    Dragon      94       68\n",
       "2  Electric      62       65"
      ]
     },
     "metadata":{
      
     },
     "output_type":"display_data"
    }
   ],
   "metadata":{
    "datalore":{
     "node_id":"V3rt6iviZen1DzLtNLp2B0",
     "type":"CODE",
     "hide_input_from_viewers":false,
     "hide_output_from_viewers":false,
     "report_properties":{
      
     }
    }
   }
  },
  {
   "cell_type":"code",
   "source":[
    "plot_df.shape"
   ],
   "execution_count":null,
   "outputs":[
    {
     "data":{
      "text\/plain":[
       "(15, 3)"
      ]
     },
     "metadata":{
      
     },
     "output_type":"display_data"
    }
   ],
   "metadata":{
    "datalore":{
     "node_id":"jHFcEJzXhbhc3m6nnNdGXC",
     "type":"CODE",
     "hide_input_from_viewers":false,
     "hide_output_from_viewers":false,
     "report_properties":{
      
     }
    }
   }
  },
  {
   "cell_type":"code",
   "source":[
    "np.arange(1, 16)"
   ],
   "execution_count":null,
   "outputs":[
    {
     "data":{
      "text\/plain":[
       "array([ 1,  2,  3,  4,  5,  6,  7,  8,  9, 10, 11, 12, 13, 14, 15])"
      ]
     },
     "metadata":{
      
     },
     "output_type":"display_data"
    }
   ],
   "metadata":{
    "datalore":{
     "node_id":"TDMWxmWVCNsfWvSIsGCzY1",
     "type":"CODE",
     "hide_input_from_viewers":false,
     "hide_output_from_viewers":false,
     "report_properties":{
      
     }
    }
   }
  },
  {
   "cell_type":"code",
   "source":[
    "plot_df['Round'] = np.arange(1, 16)"
   ],
   "execution_count":null,
   "outputs":[
    
   ],
   "metadata":{
    "datalore":{
     "node_id":"QKJRDKrNIEnuT7dyAscegG",
     "type":"CODE",
     "hide_input_from_viewers":false,
     "hide_output_from_viewers":false,
     "report_properties":{
      
     }
    }
   }
  },
  {
   "cell_type":"code",
   "source":[
    "d = plot_df.copy()"
   ],
   "execution_count":null,
   "outputs":[
    
   ],
   "metadata":{
    "datalore":{
     "node_id":"ZRUbGFGXxRGKpxXqrcrOqz",
     "type":"CODE",
     "hide_input_from_viewers":false,
     "hide_output_from_viewers":false,
     "report_properties":{
      
     }
    }
   }
  },
  {
   "cell_type":"code",
   "source":[
    "d.head(3)"
   ],
   "execution_count":null,
   "outputs":[
    {
     "data":{
      "text\/html":[
       "<div>\n",
       "<style scoped>\n",
       "    .dataframe tbody tr th:only-of-type {\n",
       "        vertical-align: middle;\n",
       "    }\n",
       "\n",
       "    .dataframe tbody tr th {\n",
       "        vertical-align: top;\n",
       "    }\n",
       "\n",
       "    .dataframe thead th {\n",
       "        text-align: right;\n",
       "    }\n",
       "<\/style>\n",
       "<table border=\"1\" class=\"dataframe\">\n",
       "  <thead>\n",
       "    <tr style=\"text-align: right;\">\n",
       "      <th><\/th>\n",
       "      <th>Category<\/th>\n",
       "      <th>Attack<\/th>\n",
       "      <th>Defense<\/th>\n",
       "      <th>Round<\/th>\n",
       "    <\/tr>\n",
       "  <\/thead>\n",
       "  <tbody>\n",
       "    <tr>\n",
       "      <th>0<\/th>\n",
       "      <td>Bug<\/td>\n",
       "      <td>64<\/td>\n",
       "      <td>57<\/td>\n",
       "      <td>1<\/td>\n",
       "    <\/tr>\n",
       "    <tr>\n",
       "      <th>1<\/th>\n",
       "      <td>Dragon<\/td>\n",
       "      <td>94<\/td>\n",
       "      <td>68<\/td>\n",
       "      <td>2<\/td>\n",
       "    <\/tr>\n",
       "    <tr>\n",
       "      <th>2<\/th>\n",
       "      <td>Electric<\/td>\n",
       "      <td>62<\/td>\n",
       "      <td>65<\/td>\n",
       "      <td>3<\/td>\n",
       "    <\/tr>\n",
       "  <\/tbody>\n",
       "<\/table>\n",
       "<\/div>"
      ]
     },
     "metadata":{
      
     },
     "output_type":"display_data"
    },
    {
     "data":{
      "text\/plain":[
       "   Category  Attack  Defense  Round\n",
       "0       Bug      64       57      1\n",
       "1    Dragon      94       68      2\n",
       "2  Electric      62       65      3"
      ]
     },
     "metadata":{
      
     },
     "output_type":"display_data"
    }
   ],
   "metadata":{
    "datalore":{
     "node_id":"4wy6z5A1GkojfBMSXxJNce",
     "type":"CODE",
     "hide_input_from_viewers":false,
     "hide_output_from_viewers":false,
     "report_properties":{
      
     }
    }
   }
  },
  {
   "cell_type":"code",
   "source":[
    "plt.style.use('dark_background')\n",
    "fig, ax = plt.subplots(1, 1, figsize = (7,3), layout='tight')\n",
    "ax.plot(d.Round, d.Attack, label='Attack', linestyle=':', linewidth=2, marker='o')\n",
    "ax.plot(d.Round, d.Defense, label='Defense', linestyle='--', linewidth=2, marker='x')\n",
    "ax.set_title('Scores by Round')\n",
    "ax.set_xlabel('Round')\n",
    "ax.set_ylabel('Scores')\n",
    "ax.set_xlim(0, 16)\n",
    "ax.legend(loc='best')\n",
    "plt.show()"
   ],
   "execution_count":null,
   "outputs":[
    {
     "data":{
      "image\/png":"[encoded data removed]"
     },
     "metadata":{
      "image\/png":{
       
      }
     },
     "output_type":"display_data"
    },
    {
     "data":{
      "text\/plain":[
       "<Figure size 700x300 with 1 Axes>"
      ]
     },
     "metadata":{
      
     },
     "output_type":"display_data"
    }
   ],
   "metadata":{
    "datalore":{
     "node_id":"2pR7CfX8SAskqoplHw7zEP",
     "type":"CODE",
     "hide_input_from_viewers":false,
     "hide_output_from_viewers":false,
     "report_properties":{
      
     }
    }
   }
  },
  {
   "cell_type":"code",
   "source":[
    "sns.lineplot(x = d.Round, y = d.Attack, label='Attack')\n",
    "sns.lineplot(x = d.Round, y = d.Defense, label='Defense')\n",
    "plt.title('Scores by Round')\n",
    "plt.xlabel('Round')\n",
    "plt.ylabel('Scores')\n",
    "plt.xlim(0, 16)\n",
    "plt.legend(loc='best')"
   ],
   "execution_count":null,
   "outputs":[
    {
     "name":"stdout",
     "text":[
      "\n"
     ],
     "output_type":"stream"
    },
    {
     "name":"stderr",
     "text":[
      "\n"
     ],
     "output_type":"stream"
    },
    {
     "data":{
      "text\/plain":[
       "<matplotlib.legend.Legend at 0x7fa3b51c52e0>"
      ]
     },
     "metadata":{
      
     },
     "output_type":"display_data"
    },
    {
     "data":{
      "image\/png":"[encoded data removed]"
     },
     "metadata":{
      "image\/png":{
       
      }
     },
     "output_type":"display_data"
    },
    {
     "data":{
      "text\/plain":[
       "<Figure size 640x480 with 1 Axes>"
      ]
     },
     "metadata":{
      
     },
     "output_type":"display_data"
    }
   ],
   "metadata":{
    "datalore":{
     "node_id":"cN3jVvrRFzsoEgRRl0NKUZ",
     "type":"CODE",
     "hide_input_from_viewers":false,
     "hide_output_from_viewers":false,
     "report_properties":{
      
     }
    }
   }
  },
  {
   "cell_type":"code",
   "source":[
    "plt.style.use('ggplot')\n",
    "sns.boxplot(data=d[1:2], x='Category', y='Defense')\n",
    "plt.ylim(68, 69)"
   ],
   "execution_count":null,
   "outputs":[
    {
     "name":"stdout",
     "text":[
      "\n"
     ],
     "output_type":"stream"
    },
    {
     "name":"stderr",
     "text":[
      "\n"
     ],
     "output_type":"stream"
    },
    {
     "data":{
      "text\/plain":[
       "(68.0, 69.0)"
      ]
     },
     "metadata":{
      
     },
     "output_type":"display_data"
    },
    {
     "data":{
      "image\/png":"[encoded data removed]"
     },
     "metadata":{
      "image\/png":{
       
      }
     },
     "output_type":"display_data"
    },
    {
     "data":{
      "text\/plain":[
       "<Figure size 640x480 with 1 Axes>"
      ]
     },
     "metadata":{
      
     },
     "output_type":"display_data"
    }
   ],
   "metadata":{
    "datalore":{
     "node_id":"GMuw1iKc8Jsxm7KcB4LW6v",
     "type":"CODE",
     "hide_input_from_viewers":false,
     "hide_output_from_viewers":false,
     "report_properties":{
      
     }
    }
   }
  },
  {
   "cell_type":"code",
   "source":[
    "d.head()"
   ],
   "execution_count":null,
   "outputs":[
    {
     "data":{
      "text\/html":[
       "<div>\n",
       "<style scoped>\n",
       "    .dataframe tbody tr th:only-of-type {\n",
       "        vertical-align: middle;\n",
       "    }\n",
       "\n",
       "    .dataframe tbody tr th {\n",
       "        vertical-align: top;\n",
       "    }\n",
       "\n",
       "    .dataframe thead th {\n",
       "        text-align: right;\n",
       "    }\n",
       "<\/style>\n",
       "<table border=\"1\" class=\"dataframe\">\n",
       "  <thead>\n",
       "    <tr style=\"text-align: right;\">\n",
       "      <th><\/th>\n",
       "      <th>Category<\/th>\n",
       "      <th>Attack<\/th>\n",
       "      <th>Defense<\/th>\n",
       "      <th>Round<\/th>\n",
       "    <\/tr>\n",
       "  <\/thead>\n",
       "  <tbody>\n",
       "    <tr>\n",
       "      <th>0<\/th>\n",
       "      <td>Bug<\/td>\n",
       "      <td>64<\/td>\n",
       "      <td>57<\/td>\n",
       "      <td>1<\/td>\n",
       "    <\/tr>\n",
       "    <tr>\n",
       "      <th>1<\/th>\n",
       "      <td>Dragon<\/td>\n",
       "      <td>94<\/td>\n",
       "      <td>68<\/td>\n",
       "      <td>2<\/td>\n",
       "    <\/tr>\n",
       "    <tr>\n",
       "      <th>2<\/th>\n",
       "      <td>Electric<\/td>\n",
       "      <td>62<\/td>\n",
       "      <td>65<\/td>\n",
       "      <td>3<\/td>\n",
       "    <\/tr>\n",
       "    <tr>\n",
       "      <th>3<\/th>\n",
       "      <td>Fairy<\/td>\n",
       "      <td>58<\/td>\n",
       "      <td>60<\/td>\n",
       "      <td>4<\/td>\n",
       "    <\/tr>\n",
       "    <tr>\n",
       "      <th>4<\/th>\n",
       "      <td>Fighting<\/td>\n",
       "      <td>103<\/td>\n",
       "      <td>61<\/td>\n",
       "      <td>5<\/td>\n",
       "    <\/tr>\n",
       "  <\/tbody>\n",
       "<\/table>\n",
       "<\/div>"
      ]
     },
     "metadata":{
      
     },
     "output_type":"display_data"
    },
    {
     "data":{
      "text\/plain":[
       "   Category  Attack  Defense  Round\n",
       "0       Bug      64       57      1\n",
       "1    Dragon      94       68      2\n",
       "2  Electric      62       65      3\n",
       "3     Fairy      58       60      4\n",
       "4  Fighting     103       61      5"
      ]
     },
     "metadata":{
      
     },
     "output_type":"display_data"
    }
   ],
   "metadata":{
    "datalore":{
     "node_id":"f7s6nx2V0HQ4pusNGziPfQ",
     "type":"CODE",
     "hide_input_from_viewers":false,
     "hide_output_from_viewers":false,
     "report_properties":{
      
     }
    }
   }
  },
  {
   "cell_type":"code",
   "source":[
    "d.query('Category==\"Dragon\"')"
   ],
   "execution_count":null,
   "outputs":[
    {
     "data":{
      "text\/html":[
       "<div>\n",
       "<style scoped>\n",
       "    .dataframe tbody tr th:only-of-type {\n",
       "        vertical-align: middle;\n",
       "    }\n",
       "\n",
       "    .dataframe tbody tr th {\n",
       "        vertical-align: top;\n",
       "    }\n",
       "\n",
       "    .dataframe thead th {\n",
       "        text-align: right;\n",
       "    }\n",
       "<\/style>\n",
       "<table border=\"1\" class=\"dataframe\">\n",
       "  <thead>\n",
       "    <tr style=\"text-align: right;\">\n",
       "      <th><\/th>\n",
       "      <th>Category<\/th>\n",
       "      <th>Attack<\/th>\n",
       "      <th>Defense<\/th>\n",
       "      <th>Round<\/th>\n",
       "    <\/tr>\n",
       "  <\/thead>\n",
       "  <tbody>\n",
       "    <tr>\n",
       "      <th>1<\/th>\n",
       "      <td>Dragon<\/td>\n",
       "      <td>94<\/td>\n",
       "      <td>68<\/td>\n",
       "      <td>2<\/td>\n",
       "    <\/tr>\n",
       "  <\/tbody>\n",
       "<\/table>\n",
       "<\/div>"
      ]
     },
     "metadata":{
      
     },
     "output_type":"display_data"
    },
    {
     "data":{
      "text\/plain":[
       "  Category  Attack  Defense  Round\n",
       "1   Dragon      94       68      2"
      ]
     },
     "metadata":{
      
     },
     "output_type":"display_data"
    }
   ],
   "metadata":{
    "datalore":{
     "node_id":"E152k4axVaP6GcdUf0oax1",
     "type":"CODE",
     "hide_input_from_viewers":false,
     "hide_output_from_viewers":false,
     "report_properties":{
      
     }
    }
   }
  },
  {
   "cell_type":"code",
   "source":[
    "d.shape"
   ],
   "execution_count":null,
   "outputs":[
    {
     "data":{
      "text\/plain":[
       "(15, 4)"
      ]
     },
     "metadata":{
      
     },
     "output_type":"display_data"
    }
   ],
   "metadata":{
    "datalore":{
     "node_id":"G2qA9VAmAtFVoVPQR279Mf",
     "type":"CODE",
     "hide_input_from_viewers":false,
     "hide_output_from_viewers":false,
     "report_properties":{
      
     }
    }
   }
  },
  {
   "cell_type":"code",
   "source":[
    "d.loc[:5, 'Arb'], d.loc[6:10, 'Arb'], d.loc[10:, 'Arb'] = ['A', 'B', 'C']"
   ],
   "execution_count":null,
   "outputs":[
    
   ],
   "metadata":{
    "datalore":{
     "node_id":"3CMxop96l6JDR7jByTYr8n",
     "type":"CODE",
     "hide_input_from_viewers":false,
     "hide_output_from_viewers":false,
     "report_properties":{
      
     }
    }
   }
  },
  {
   "cell_type":"code",
   "source":[
    "d"
   ],
   "execution_count":null,
   "outputs":[
    {
     "data":{
      "text\/html":[
       "<div>\n",
       "<style scoped>\n",
       "    .dataframe tbody tr th:only-of-type {\n",
       "        vertical-align: middle;\n",
       "    }\n",
       "\n",
       "    .dataframe tbody tr th {\n",
       "        vertical-align: top;\n",
       "    }\n",
       "\n",
       "    .dataframe thead th {\n",
       "        text-align: right;\n",
       "    }\n",
       "<\/style>\n",
       "<table border=\"1\" class=\"dataframe\">\n",
       "  <thead>\n",
       "    <tr style=\"text-align: right;\">\n",
       "      <th><\/th>\n",
       "      <th>Category<\/th>\n",
       "      <th>Attack<\/th>\n",
       "      <th>Defense<\/th>\n",
       "      <th>Round<\/th>\n",
       "      <th>Arb<\/th>\n",
       "    <\/tr>\n",
       "  <\/thead>\n",
       "  <tbody>\n",
       "    <tr>\n",
       "      <th>0<\/th>\n",
       "      <td>Bug<\/td>\n",
       "      <td>64<\/td>\n",
       "      <td>57<\/td>\n",
       "      <td>1<\/td>\n",
       "      <td>A<\/td>\n",
       "    <\/tr>\n",
       "    <tr>\n",
       "      <th>1<\/th>\n",
       "      <td>Dragon<\/td>\n",
       "      <td>94<\/td>\n",
       "      <td>68<\/td>\n",
       "      <td>2<\/td>\n",
       "      <td>A<\/td>\n",
       "    <\/tr>\n",
       "    <tr>\n",
       "      <th>2<\/th>\n",
       "      <td>Electric<\/td>\n",
       "      <td>62<\/td>\n",
       "      <td>65<\/td>\n",
       "      <td>3<\/td>\n",
       "      <td>A<\/td>\n",
       "    <\/tr>\n",
       "    <tr>\n",
       "      <th>3<\/th>\n",
       "      <td>Fairy<\/td>\n",
       "      <td>58<\/td>\n",
       "      <td>60<\/td>\n",
       "      <td>4<\/td>\n",
       "      <td>A<\/td>\n",
       "    <\/tr>\n",
       "    <tr>\n",
       "      <th>4<\/th>\n",
       "      <td>Fighting<\/td>\n",
       "      <td>103<\/td>\n",
       "      <td>61<\/td>\n",
       "      <td>5<\/td>\n",
       "      <td>A<\/td>\n",
       "    <\/tr>\n",
       "    <tr>\n",
       "      <th>5<\/th>\n",
       "      <td>Fire<\/td>\n",
       "      <td>84<\/td>\n",
       "      <td>63<\/td>\n",
       "      <td>6<\/td>\n",
       "      <td>A<\/td>\n",
       "    <\/tr>\n",
       "    <tr>\n",
       "      <th>6<\/th>\n",
       "      <td>Ghost<\/td>\n",
       "      <td>50<\/td>\n",
       "      <td>45<\/td>\n",
       "      <td>7<\/td>\n",
       "      <td>B<\/td>\n",
       "    <\/tr>\n",
       "    <tr>\n",
       "      <th>7<\/th>\n",
       "      <td>Grass<\/td>\n",
       "      <td>71<\/td>\n",
       "      <td>70<\/td>\n",
       "      <td>8<\/td>\n",
       "      <td>B<\/td>\n",
       "    <\/tr>\n",
       "    <tr>\n",
       "      <th>8<\/th>\n",
       "      <td>Ground<\/td>\n",
       "      <td>82<\/td>\n",
       "      <td>86<\/td>\n",
       "      <td>9<\/td>\n",
       "      <td>B<\/td>\n",
       "    <\/tr>\n",
       "    <tr>\n",
       "      <th>9<\/th>\n",
       "      <td>Ice<\/td>\n",
       "      <td>68<\/td>\n",
       "      <td>68<\/td>\n",
       "      <td>10<\/td>\n",
       "      <td>B<\/td>\n",
       "    <\/tr>\n",
       "    <tr>\n",
       "      <th>10<\/th>\n",
       "      <td>Normal<\/td>\n",
       "      <td>68<\/td>\n",
       "      <td>54<\/td>\n",
       "      <td>11<\/td>\n",
       "      <td>C<\/td>\n",
       "    <\/tr>\n",
       "    <tr>\n",
       "      <th>11<\/th>\n",
       "      <td>Poison<\/td>\n",
       "      <td>74<\/td>\n",
       "      <td>67<\/td>\n",
       "      <td>12<\/td>\n",
       "      <td>C<\/td>\n",
       "    <\/tr>\n",
       "    <tr>\n",
       "      <th>12<\/th>\n",
       "      <td>Psychic<\/td>\n",
       "      <td>60<\/td>\n",
       "      <td>58<\/td>\n",
       "      <td>13<\/td>\n",
       "      <td>C<\/td>\n",
       "    <\/tr>\n",
       "    <tr>\n",
       "      <th>13<\/th>\n",
       "      <td>Rock<\/td>\n",
       "      <td>82<\/td>\n",
       "      <td>110<\/td>\n",
       "      <td>14<\/td>\n",
       "      <td>C<\/td>\n",
       "    <\/tr>\n",
       "    <tr>\n",
       "      <th>14<\/th>\n",
       "      <td>Water<\/td>\n",
       "      <td>70<\/td>\n",
       "      <td>78<\/td>\n",
       "      <td>15<\/td>\n",
       "      <td>C<\/td>\n",
       "    <\/tr>\n",
       "  <\/tbody>\n",
       "<\/table>\n",
       "<\/div>"
      ]
     },
     "metadata":{
      
     },
     "output_type":"display_data"
    },
    {
     "data":{
      "text\/plain":[
       "    Category  Attack  Defense  Round Arb\n",
       "0        Bug      64       57      1   A\n",
       "1     Dragon      94       68      2   A\n",
       "2   Electric      62       65      3   A\n",
       "3      Fairy      58       60      4   A\n",
       "4   Fighting     103       61      5   A\n",
       "5       Fire      84       63      6   A\n",
       "6      Ghost      50       45      7   B\n",
       "7      Grass      71       70      8   B\n",
       "8     Ground      82       86      9   B\n",
       "9        Ice      68       68     10   B\n",
       "10    Normal      68       54     11   C\n",
       "11    Poison      74       67     12   C\n",
       "12   Psychic      60       58     13   C\n",
       "13      Rock      82      110     14   C\n",
       "14     Water      70       78     15   C"
      ]
     },
     "metadata":{
      
     },
     "output_type":"display_data"
    }
   ],
   "metadata":{
    "datalore":{
     "node_id":"lyK8igxE6IABaVwz76wsMU",
     "type":"CODE",
     "hide_input_from_viewers":false,
     "hide_output_from_viewers":false,
     "report_properties":{
      
     }
    }
   }
  },
  {
   "cell_type":"code",
   "source":[
    "sns.boxplot(data=d, x=d.Arb, y=d.Attack)"
   ],
   "execution_count":null,
   "outputs":[
    {
     "name":"stdout",
     "text":[
      "\n"
     ],
     "output_type":"stream"
    },
    {
     "name":"stderr",
     "text":[
      "\n"
     ],
     "output_type":"stream"
    },
    {
     "data":{
      "text\/plain":[
       "<AxesSubplot:xlabel='Arb', ylabel='Attack'>"
      ]
     },
     "metadata":{
      
     },
     "output_type":"display_data"
    },
    {
     "data":{
      "image\/png":"[encoded data removed]"
     },
     "metadata":{
      "image\/png":{
       
      }
     },
     "output_type":"display_data"
    },
    {
     "data":{
      "text\/plain":[
       "<Figure size 640x480 with 1 Axes>"
      ]
     },
     "metadata":{
      
     },
     "output_type":"display_data"
    }
   ],
   "metadata":{
    "datalore":{
     "node_id":"ZODWFWnnVn4FkMfnSrs2L8",
     "type":"CODE",
     "hide_input_from_viewers":false,
     "hide_output_from_viewers":false,
     "report_properties":{
      
     }
    }
   }
  },
  {
   "cell_type":"code",
   "source":[
    "def my_plotter(ax, data1, data2, param_dict):  \n",
    "    out = ax.plot(data1, data2, **param_dict)  \n",
    "    return out  \n",
    "    \n",
    "      \n",
    " #Defining a reusable function for a certain plot type"
   ],
   "execution_count":null,
   "outputs":[
    
   ],
   "metadata":{
    "datalore":{
     "node_id":"DencdkbkM0AZSHTRNxYOph",
     "type":"CODE",
     "hide_input_from_viewers":false,
     "hide_output_from_viewers":false,
     "report_properties":{
      
     }
    }
   }
  },
  {
   "cell_type":"code",
   "source":[
    "fig, (ax1, ax2) = plt.subplots(2, 1, figsize=(10,10))"
   ],
   "execution_count":null,
   "outputs":[
    {
     "data":{
      "image\/png":"[encoded data removed]"
     },
     "metadata":{
      "image\/png":{
       
      }
     },
     "output_type":"display_data"
    },
    {
     "data":{
      "text\/plain":[
       "<Figure size 1000x1000 with 2 Axes>"
      ]
     },
     "metadata":{
      
     },
     "output_type":"display_data"
    }
   ],
   "metadata":{
    "datalore":{
     "node_id":"Uaolbw6ngSvMPOOnzEbVoW",
     "type":"CODE",
     "hide_input_from_viewers":false,
     "hide_output_from_viewers":false,
     "report_properties":{
      
     }
    }
   }
  },
  {
   "cell_type":"code",
   "source":[
    
   ],
   "execution_count":null,
   "outputs":[
    
   ],
   "metadata":{
    "datalore":{
     "node_id":"57ijws4OiaG7VRGsEax89i",
     "type":"CODE",
     "hide_input_from_viewers":false,
     "hide_output_from_viewers":false,
     "report_properties":{
      
     }
    }
   }
  }
 ],
 "metadata":{
  "kernelspec":{
   "display_name":"Python",
   "language":"python",
   "name":"python"
  },
  "datalore":{
   "version":1,
   "computation_mode":"JUPYTER",
   "package_manager":"pip",
   "base_environment":"default",
   "packages":[
    
   ]
  }
 },
 "nbformat":4,
 "nbformat_minor":4
}